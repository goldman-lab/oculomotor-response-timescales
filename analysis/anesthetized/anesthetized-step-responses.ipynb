{
 "cells": [
  {
   "cell_type": "code",
   "execution_count": 1,
   "metadata": {},
   "outputs": [],
   "source": [
    "import numpy as np\n",
    "\n",
    "# Save fonts into pdf\n",
    "import matplotlib\n",
    "matplotlib.rcParams['pdf.fonttype'] = 42\n",
    "matplotlib.rcParams['ps.fonttype'] = 42\n",
    "\n",
    "import matplotlib.pyplot as plt\n",
    "%matplotlib inline\n",
    "\n",
    "import scipy.io as sio\n",
    "\n",
    "import sys\n",
    "sys.path.append('../../tools/')\n",
    "import fitting_functions\n",
    "\n",
    "import matplotlib.colors"
   ]
  },
  {
   "cell_type": "code",
   "execution_count": 2,
   "metadata": {},
   "outputs": [],
   "source": [
    "import matplotlib.gridspec as gridspec\n",
    "import matplotlib.ticker as ticker"
   ]
  },
  {
   "cell_type": "code",
   "execution_count": null,
   "metadata": {},
   "outputs": [],
   "source": [
    "# Load R interface to do statistics\n",
    "import rpy2.rinterface\n",
    "%load_ext rpy2.ipython"
   ]
  },
  {
   "cell_type": "code",
   "execution_count": 5,
   "metadata": {},
   "outputs": [],
   "source": [
    "# Set rcParams\n",
    "matplotlib.rcParams.update({'font.size': 8, 'axes.linewidth': 0.5, 'xtick.major.width': 0.5, 'xtick.minor.width': 0.5, \n",
    "                            'ytick.major.width': 0.5,'ytick.minor.width': 0.5, 'xtick.major.pad':2,'ytick.major.pad':2})\n",
    "matplotlib.rcParams.update({'font.family':'sans-serif','font.sans-serif':['Arial'], 'mathtext.default':'sf','mathtext.fontset':'custom'})\n",
    "\n",
    "matplotlib.rcParams.update({'savefig.transparent':True})"
   ]
  },
  {
   "cell_type": "code",
   "execution_count": 6,
   "metadata": {},
   "outputs": [],
   "source": [
    "ms222_traces = ['091311a', '091311b', '091311c', '091311d', '091311e', '091311f', '091411a', '091411d', '091411e', '091411f']\n",
    "ketamine_traces = ['63011d','70911i', '70911l', '70911m', '82411p', '82411r']"
   ]
  },
  {
   "cell_type": "markdown",
   "metadata": {},
   "source": [
    "# MS-222 Traces\n",
    "\n",
    "## Summary plots\n",
    "\n",
    "### Goodness-of-fit"
   ]
  },
  {
   "cell_type": "code",
   "execution_count": 7,
   "metadata": {},
   "outputs": [],
   "source": [
    "max_num_components = 6\n",
    "\n",
    "best_fits_mse = np.zeros((len(ms222_traces), max_num_components))\n",
    "best_fits_ll = np.zeros((len(ms222_traces), max_num_components))\n",
    "\n",
    "for fish_num in range(len(ms222_traces)):\n",
    "    fit_file = sio.loadmat('fit/results/MS-222/'+ms222_traces[fish_num]+'.mat')\n",
    "    sses = fit_file['sses']\n",
    "    lls = fit_file['lls']\n",
    "    \n",
    "    best_fit_num = np.argmax(lls, axis=1)\n",
    "    best_fits_ll[fish_num,:] = np.max(lls, axis=1)\n",
    "    # 4152 = num of data points in each recording\n",
    "    best_fits_mse[fish_num,:] = np.array([sses[i, best_fit_num[i]] for i in range(max_num_components)])/(2*4152)"
   ]
  },
  {
   "cell_type": "markdown",
   "metadata": {},
   "source": [
    "### Percent change in MSE across all fish"
   ]
  },
  {
   "cell_type": "code",
   "execution_count": 8,
   "metadata": {},
   "outputs": [],
   "source": [
    "mse_pct_change = (best_fits_mse[:, 1:] - best_fits_mse[:, :-1])/best_fits_mse[:, :-1]\n",
    "# ll_pct_change = (best_fits_ll[:, 1:] - best_fits_ll[:, :-1])/best_fits_ll[:, :-1]"
   ]
  },
  {
   "cell_type": "markdown",
   "metadata": {},
   "source": [
    "### Fig. 3B: Median MSE and %change in MSE"
   ]
  },
  {
   "cell_type": "code",
   "execution_count": 9,
   "metadata": {},
   "outputs": [
    {
     "data": {
      "image/png": "[encoded data removed]",
      "text/plain": [
       "<Figure size 111.6x93.6 with 2 Axes>"
      ]
     },
     "metadata": {
      "needs_background": "light"
     },
     "output_type": "display_data"
    }
   ],
   "source": [
    "plt.figure(figsize=(1.55, 1.3))\n",
    "\n",
    "ax = plt.gca()\n",
    "ax.set_yscale('log')\n",
    "plt.boxplot(best_fits_mse, whis=(0,100), widths=0.5, medianprops={'c':'k', 'linewidth':0.75},\n",
    "            boxprops={'linewidth':0.5}, whiskerprops={'linewidth':0.5}, capprops={'linewidth':0.5});\n",
    "\n",
    "plt.ylim([0.8e-4, 1e-1])\n",
    "locmin = matplotlib.ticker.LogLocator(base=10.0,subs='all',numticks=5)\n",
    "ax.yaxis.set_minor_locator(locmin)\n",
    "ax.yaxis.set_minor_formatter(matplotlib.ticker.NullFormatter())\n",
    "ax.set_yticks([1e-4, 1e-3, 1e-2, 1e-1])\n",
    "ax.set_yticklabels([r'$10^{-4}$', '', '', r'$10^{-1}$'])\n",
    "\n",
    "ax2 = ax.twinx()\n",
    "plt.boxplot(mse_pct_change, positions=np.arange(2,7), whis=(0,100), widths=0.5, medianprops={'c':'C3', 'linewidth':0.75},\n",
    "            boxprops={'c':'C3', 'linewidth':0.5}, whiskerprops={'c':'C3','linewidth':0.5}, \n",
    "            capprops={'c':'C3', 'linewidth':0.5});\n",
    "ax2.set_ylim([-1, 0])\n",
    "ax.spines['top'].set_visible(False)\n",
    "ax2.spines['right'].set_color(red_c)\n",
    "ax2.spines['top'].set_visible(False)\n",
    "\n",
    "ax2.tick_params(axis='y', colors=red_c, which='both')\n",
    "\n",
    "ax2.set_yticks(np.linspace(-1, 0, 5))\n",
    "ax2.set_yticklabels([r'$-100$', '', '', '',r'$0$'])\n",
    "\n",
    "plt.xticks(np.arange(1,7), ['1','','','','','6'])\n",
    "\n",
    "plt.subplots_adjust(left=0.19, right=0.84, bottom=0.18, top=0.95)"
   ]
  },
  {
   "cell_type": "markdown",
   "metadata": {},
   "source": [
    "Using the \"elbow test,\" it appears that the fit stops improving visibly beyond 4 components.\n",
    "\n",
    "### Parameter summary"
   ]
  },
  {
   "cell_type": "code",
   "execution_count": 21,
   "metadata": {},
   "outputs": [],
   "source": [
    "best_fits_short = np.zeros((len(ms222_traces), 8))\n",
    "best_fits_long = np.zeros((len(ms222_traces), 8))\n",
    "\n",
    "best_fits_short_3 = np.zeros((len(ms222_traces), 6))\n",
    "best_fits_long_3 = np.zeros((len(ms222_traces), 6))\n",
    "for fish_num in range(len(ms222_traces)):\n",
    "    fit_file = sio.loadmat('fit/results/MS-222/'+ms222_traces[fish_num]+'.mat')\n",
    "    lls = fit_file['lls']\n",
    "    fits = fit_file['fits']\n",
    "    best_fit_num = np.argmin(lls[3,:])\n",
    "    best_fits_short[fish_num,:] = fits[3,0][best_fit_num,:]\n",
    "    best_fits_long[fish_num,:] = fits[3,1][best_fit_num,:]\n",
    "    \n",
    "    best_fit_num_3 = np.argmin(lls[2,:])\n",
    "    best_fits_short_3[fish_num,:] = fits[2,0][best_fit_num_3,:]\n",
    "    best_fits_long_3[fish_num,:] = fits[2,1][best_fit_num_3,:]"
   ]
  },
  {
   "cell_type": "code",
   "execution_count": 9,
   "metadata": {
    "scrolled": true
   },
   "outputs": [
    {
     "name": "stdout",
     "output_type": "stream",
     "text": [
      "25%ile: [7.11415127e-02 9.60745574e-01 7.04035935e+00 8.14722241e+01]\n",
      "Median: [ 0.09261635  1.34376339  7.95394531 91.60033837]\n",
      "75%ile: [1.11304968e-01 1.52784216e+00 1.08191622e+01 1.11430333e+02]\n"
     ]
    }
   ],
   "source": [
    "## Time constants statistics for 4-component fits\n",
    "\n",
    "timeconstants = 1/best_fits_short[:,4:]\n",
    "print(\"25%ile:\", np.percentile(timeconstants, 25, axis=0))\n",
    "print(\"Median:\", np.median(timeconstants, axis=0))\n",
    "print(\"75%ile:\", np.percentile(timeconstants, 75, axis=0))"
   ]
  },
  {
   "cell_type": "code",
   "execution_count": 42,
   "metadata": {},
   "outputs": [],
   "source": [
    "coeffs_short = best_fits_short[:, :4]\n",
    "coeffs_long = best_fits_long[:, :4]"
   ]
  },
  {
   "cell_type": "markdown",
   "metadata": {},
   "source": [
    "### Figure 3D: parameter summary plot"
   ]
  },
  {
   "cell_type": "code",
   "execution_count": 44,
   "metadata": {},
   "outputs": [
    {
     "data": {
      "image/png": "[encoded data removed]",
      "text/plain": [
       "<Figure size 90x93.6 with 1 Axes>"
      ]
     },
     "metadata": {
      "needs_background": "light"
     },
     "output_type": "display_data"
    }
   ],
   "source": [
    "fig = plt.figure(figsize=(1.25,1.3))\n",
    "ax = plt.gca()\n",
    "ax.spines['right'].set_visible(False)\n",
    "ax.spines['top'].set_visible(False)\n",
    "ax.set_xscale('log')\n",
    "plt.ylim([0, 0.6])\n",
    "plt.yticks(np.linspace(0, 0.6, 6))\n",
    "ax.set_yticklabels([0, '', '', '', '', 0.6 ])\n",
    "ax.set_xticks([1e-2, 1e-1, 1, 1e1, 1e2])\n",
    "\n",
    "plt.scatter(timeconstants, coeffs_short, facecolor='C3', marker='o', s=8, linewidth=0.5, label='10 s step', clip_on=False)\n",
    "plt.scatter(timeconstants, coeffs_long, facecolor='k', marker='^', s=8,linewidth=0.5, label='60 s step', clip_on=False)\n",
    "\n",
    "ax.get_xaxis().set_minor_locator(ticker.LogLocator(numticks=5, subs='all'))\n",
    "ax.get_xaxis().set_minor_formatter(ticker.NullFormatter())\n",
    "\n",
    "ax.set_xticks([1e-1, 1e0, 1e1, 1e2])\n",
    "ax.set_xticklabels([r'$10^{-1}$','','',r'$10^{2}$'])\n",
    "\n",
    "plt.figtext(0.6, 0.9, '10 s step', color='C3')\n",
    "plt.figtext(0.6, 0.8, '60 s step')\n",
    "\n",
    "plt.ylabel('Amplitude', labelpad=-7)\n",
    "plt.subplots_adjust(left = 0.2, top = 0.95, bottom=0.18, right=0.98)"
   ]
  },
  {
   "cell_type": "markdown",
   "metadata": {},
   "source": [
    "Note that fish no. 091311c has fastest timeconstant equal to the lower bound, =43.2 ms"
   ]
  },
  {
   "cell_type": "markdown",
   "metadata": {},
   "source": [
    "## Fig. 3A: example traces"
   ]
  },
  {
   "cell_type": "code",
   "execution_count": 12,
   "metadata": {},
   "outputs": [],
   "source": [
    "example_trace = ms222_traces[0]\n",
    "\n",
    "# Import data\n",
    "trange, pe_short, pe_long = fitting_functions.importDataMS222('../../data/anesthetized/fixed/MS-222/'+example_trace+'.mat')\n",
    "\n",
    "# Import fit\n",
    "fit_file = sio.loadmat('fit/results/MS-222/'+example_trace+'.mat')\n",
    "lls = fit_file['lls']\n",
    "fits = fit_file['fits']\n",
    "best_fit_inds = np.argmin(lls, axis=1)\n",
    "\n",
    "best_models_short_example = np.zeros((3, len(trange)))\n",
    "best_models_long_example = np.zeros((3, len(trange)))\n",
    "\n",
    "best_models_short_example[0,:] = fitting_functions.exponentialModel(trange, fits[0,0][best_fit_inds[0],:])\n",
    "best_models_short_example[1,:] = fitting_functions.exponentialModel(trange, fits[1,0][best_fit_inds[1],:])\n",
    "best_models_short_example[2,:] = fitting_functions.exponentialModel(trange, fits[3,0][best_fit_inds[3],:])\n",
    "\n",
    "best_models_long_example[0,:] = fitting_functions.exponentialModel(trange, fits[0,1][best_fit_inds[0],:])\n",
    "best_models_long_example[1,:] = fitting_functions.exponentialModel(trange, fits[1,1][best_fit_inds[1],:])\n",
    "best_models_long_example[2,:] = fitting_functions.exponentialModel(trange, fits[3,1][best_fit_inds[3],:])\n",
    "\n",
    "fit_file = sio.loadmat('fit/results/MS-222/'+example_trace+'_10s.mat')\n",
    "lls = fit_file['lls']\n",
    "fits = fit_file['fits']\n",
    "best_fit_ind = np.nanargmax(lls[3,:])\n",
    "\n",
    "best_models_short_bounded = fitting_functions.exponentialModel(trange, fits[3,0][best_fit_ind,:])\n",
    "best_models_long_bounded = fitting_functions.exponentialModel(trange, fits[3,1][best_fit_ind,:])"
   ]
  },
  {
   "cell_type": "code",
   "execution_count": 13,
   "metadata": {},
   "outputs": [
    {
     "data": {
      "image/png": "[encoded data removed]",
      "text/plain": [
       "<Figure size 93.6x93.6 with 1 Axes>"
      ]
     },
     "metadata": {
      "needs_background": "light"
     },
     "output_type": "display_data"
    }
   ],
   "source": [
    "fig = plt.figure(figsize=(1.3,1.3))\n",
    "ax = plt.gca()\n",
    "ax.spines['right'].set_visible(False)\n",
    "ax.spines['top'].set_visible(False)\n",
    "plt.plot(trange, pe_short, color=(0.7, 0.7, 0.7, 1), clip_on=False, solid_capstyle='butt', lw=1)\n",
    "\n",
    "plt.plot(trange, best_models_short_example[0,:],c='C9', linewidth=0.5, clip_on=False)\n",
    "plt.plot(trange, best_models_short_example[1,:],c='k', linewidth=0.5)\n",
    "\n",
    "plt.plot(trange, best_models_short_bounded, c=red_l, linewidth=0.75, clip_on=False)\n",
    "\n",
    "plt.plot(trange, best_models_short_example[2,:], c='C3', linewidth=1)\n",
    "\n",
    "plt.ylabel('Normalized eye pos.', labelpad=2)\n",
    "plt.xlim([-2, 60])\n",
    "plt.ylim([-0.05,1])\n",
    "\n",
    "ax.set_xticks([0, 20, 40, 60])\n",
    "ax.set_xticklabels([0, '','',60])\n",
    "ax.set_yticks(np.linspace(0, 1, 5))\n",
    "ax.set_yticklabels([0, '','','',1])\n",
    "\n",
    "plt.figtext(0.6, 0.95, '10 s step', ha='center')\n",
    "\n",
    "plt.figtext(1, 0.85, r'4 $\\tau$ fit, $\\tau < \\infty$', color=red_c, ha='right')\n",
    "plt.figtext(1, 0.75, r'4 $\\tau$ fit, $\\tau < 10$ s', color=red_l, ha='right')\n",
    "plt.figtext(1, 0.65, r'2 $\\tau$ fit', ha='right')\n",
    "plt.figtext(1, 0.55, r'1 $\\tau$ fit', color='C9', ha='right')\n",
    "\n",
    "plt.subplots_adjust(left = 0.21, top = 0.95, bottom=0.18, right=0.95)"
   ]
  },
  {
   "cell_type": "code",
   "execution_count": 14,
   "metadata": {},
   "outputs": [
    {
     "data": {
      "image/png": "[encoded data removed]",
      "text/plain": [
       "<Figure size 93.6x93.6 with 1 Axes>"
      ]
     },
     "metadata": {
      "needs_background": "light"
     },
     "output_type": "display_data"
    }
   ],
   "source": [
    "fig = plt.figure(figsize=(1.3,1.3))\n",
    "ax = plt.gca()\n",
    "ax.spines['right'].set_visible(False)\n",
    "ax.spines['top'].set_visible(False)\n",
    "\n",
    "plt.plot(trange, pe_long, color=(0.7, 0.7, 0.7, 1), label='Data', clip_on=False, solid_capstyle='butt', lw=1)\n",
    "plt.plot(trange, best_models_long_example[0,:],c='C9', linewidth=0.5, clip_on=False, label=r'1 $\\tau$ fit')\n",
    "plt.plot(trange, best_models_long_example[1,:],c='k', linewidth=0.5 , label=r'2 $\\tau$ fit')\n",
    "plt.plot(trange, best_models_long_bounded, c=red_l, linewidth=0.75, clip_on=False)\n",
    "\n",
    "plt.plot(trange, best_models_long_example[2,:], label=r'4 $\\tau$ fit', c='C3', linewidth=1)\n",
    "\n",
    "\n",
    "plt.ylabel('Normalized eye pos.', labelpad=2)\n",
    "plt.xlim([-2, 60])\n",
    "plt.ylim([-0.05,1])\n",
    "# xlims = plt.xlim()\n",
    "ax.set_xticks([0, 20, 40, 60])\n",
    "ax.set_xticklabels([0, '','',60])\n",
    "ax.set_yticks(np.linspace(0, 1, 5))\n",
    "ax.set_yticklabels([0, '','','',1])\n",
    "\n",
    "\n",
    "plt.figtext(0.6, 0.95, '60 s step', ha='center')\n",
    "\n",
    "plt.subplots_adjust(left = 0.21, top = 0.95, bottom=0.18, right=0.95, wspace=0.3)"
   ]
  },
  {
   "cell_type": "markdown",
   "metadata": {},
   "source": [
    "## Summary of fits with time constants constrained to be < 10 s"
   ]
  },
  {
   "cell_type": "code",
   "execution_count": 17,
   "metadata": {},
   "outputs": [],
   "source": [
    "max_num_components = 6\n",
    "\n",
    "best_fits_mse_10s = np.zeros((len(ms222_traces), max_num_components))\n",
    "# best_fits_ll_10s = np.zeros((len(ms222_traces), max_num_components))\n",
    "\n",
    "for fish_num in range(len(ms222_traces)):\n",
    "    fit_file = sio.loadmat('fit/results/MS-222/'+ms222_traces[fish_num]+'_10s.mat')\n",
    "    sses = fit_file['sses']\n",
    "    lls = fit_file['lls']\n",
    "    \n",
    "    best_fit_num = np.nanargmax(lls, axis=1)\n",
    "    # best_fits_ll_10s[fish_num,:] = np.nanmax(lls, axis=1)\n",
    "    best_fits_mse_10s[fish_num,:] = np.array([sses[i, best_fit_num[i]] for i in range(max_num_components)])/(2*4152)"
   ]
  },
  {
   "cell_type": "code",
   "execution_count": 18,
   "metadata": {},
   "outputs": [],
   "source": [
    "best_fits_mse_ratios = best_fits_mse_10s/best_fits_mse"
   ]
  },
  {
   "cell_type": "code",
   "execution_count": 19,
   "metadata": {},
   "outputs": [
    {
     "data": {
      "text/plain": [
       "71.65144663507084"
      ]
     },
     "execution_count": 19,
     "metadata": {},
     "output_type": "execute_result"
    }
   ],
   "source": [
    "np.median(best_fits_mse_ratios[:,3])"
   ]
  },
  {
   "cell_type": "code",
   "execution_count": 20,
   "metadata": {
    "scrolled": true
   },
   "outputs": [
    {
     "data": {
      "text/plain": [
       "[39.426961765146785, 172.4277174066627]"
      ]
     },
     "execution_count": 20,
     "metadata": {},
     "output_type": "execute_result"
    }
   ],
   "source": [
    "[np.min(best_fits_mse_ratios[:,3]), np.max(best_fits_mse_ratios[:,3])]"
   ]
  },
  {
   "cell_type": "markdown",
   "metadata": {},
   "source": [
    "# Ketamine Traces\n",
    "\n",
    "## Summary plots\n",
    "\n",
    "### Goodness-of-fit"
   ]
  },
  {
   "cell_type": "code",
   "execution_count": 22,
   "metadata": {},
   "outputs": [],
   "source": [
    "max_num_components = 6\n",
    "\n",
    "best_fits_mse = np.zeros((len(ketamine_traces), max_num_components))\n",
    "best_fits_ll = np.zeros((len(ketamine_traces), max_num_components))\n",
    "\n",
    "for fish_num in range(len(ketamine_traces)):\n",
    "    fit_file = sio.loadmat('fit/results/Ketamine/'+ketamine_traces[fish_num]+'.mat')\n",
    "    sses = fit_file['sses']\n",
    "    lls = fit_file['lls']\n",
    "    \n",
    "    best_fit_num = np.argmax(lls, axis=1)\n",
    "    best_fits_ll[fish_num,:] = np.max(lls, axis=1)\n",
    "    best_fits_mse[fish_num,:] = np.array([sses[i, best_fit_num[i]] for i in range(max_num_components)])/(2*4152)"
   ]
  },
  {
   "cell_type": "code",
   "execution_count": 23,
   "metadata": {},
   "outputs": [],
   "source": [
    "mse_pct_change = (best_fits_mse[:, 1:] - best_fits_mse[:, :-1])/best_fits_mse[:, :-1]\n",
    "ll_pct_change = (best_fits_ll[:, 1:] - best_fits_ll[:, :-1])/best_fits_ll[:, :-1]"
   ]
  },
  {
   "cell_type": "markdown",
   "metadata": {},
   "source": [
    "### Figure 3E: MSE and % change in MSE"
   ]
  },
  {
   "cell_type": "code",
   "execution_count": 24,
   "metadata": {},
   "outputs": [
    {
     "data": {
      "image/png": "[encoded data removed]",
      "text/plain": [
       "<Figure size 111.6x93.6 with 2 Axes>"
      ]
     },
     "metadata": {
      "needs_background": "light"
     },
     "output_type": "display_data"
    }
   ],
   "source": [
    "plt.figure(figsize=(1.55, 1.3))\n",
    "\n",
    "ax = plt.gca()\n",
    "ax.set_yscale('log')\n",
    "plt.boxplot(best_fits_mse, positions = np.arange(1,7), whis=(0,100), widths=0.5, medianprops={'c':'k', 'linewidth':0.75},\n",
    "            boxprops={'linewidth':0.5}, whiskerprops={'linewidth':0.5}, capprops={'linewidth':0.5});\n",
    "\n",
    "plt.ylim([0.8e-4, 1e-1])\n",
    "locmin = matplotlib.ticker.LogLocator(base=10.0,subs='all',numticks=5)\n",
    "ax.yaxis.set_minor_locator(locmin)\n",
    "ax.yaxis.set_minor_formatter(matplotlib.ticker.NullFormatter())\n",
    "ax.set_yticks([1e-4, 1e-3, 1e-2, 1e-1])\n",
    "ax.set_yticklabels([r'$10^{-4}$', '', '', r'$10^{-1}$'])\n",
    "\n",
    "ax2 = ax.twinx()\n",
    "plt.boxplot(mse_pct_change, positions=np.arange(2,7), whis=(0,100), widths=0.5, medianprops={'c':'C3', 'linewidth':0.75},\n",
    "            boxprops={'c':'C3', 'linewidth':0.5}, whiskerprops={'c':'C3','linewidth':0.5}, \n",
    "            capprops={'c':'C3', 'linewidth':0.5});\n",
    "ax2.set_ylim([-1, 0])\n",
    "ax.spines['top'].set_visible(False)\n",
    "ax2.spines['right'].set_color(red_c)\n",
    "ax2.spines['top'].set_visible(False)\n",
    "\n",
    "ax2.tick_params(axis='y', colors=red_c, which='both')\n",
    "\n",
    "# ax2.set_ylabel('% change in MSE', labelpad=-10, ha='center', color='C3')\n",
    "ax2.set_yticks(np.linspace(-1, 0, 5))\n",
    "ax2.set_yticklabels([r'$-100$', '', '', '',r'$0$'])\n",
    "\n",
    "plt.xticks(np.arange(1,7), ['1','','','','','6'])\n",
    "\n",
    "plt.subplots_adjust(left=0.19, right=0.84, bottom=0.18, top=0.95)"
   ]
  },
  {
   "cell_type": "markdown",
   "metadata": {},
   "source": [
    "Using the \"elbow test,\" it appears that the fit stops improving visibly beyond 4 components.\n",
    "\n",
    "### Parameter summary"
   ]
  },
  {
   "cell_type": "code",
   "execution_count": 24,
   "metadata": {},
   "outputs": [],
   "source": [
    "best_fits_short = np.zeros((len(ketamine_traces), 8))\n",
    "best_fits_long = np.zeros((len(ketamine_traces), 8))\n",
    "for fish_num in range(len(ketamine_traces)):\n",
    "    fit_file = sio.loadmat('fit/results/Ketamine/'+ketamine_traces[fish_num]+'.mat')\n",
    "    lls = fit_file['lls']\n",
    "    fits = fit_file['fits']\n",
    "    best_fit_num = np.argmin(lls[3,:])\n",
    "    best_fits_short[fish_num,:] = fits[3,0][best_fit_num,:]\n",
    "    best_fits_long[fish_num,:] = fits[3,1][best_fit_num,:]"
   ]
  },
  {
   "cell_type": "code",
   "execution_count": 11,
   "metadata": {},
   "outputs": [
    {
     "name": "stdout",
     "output_type": "stream",
     "text": [
      "25%ile: [  0.11408483   1.64952864  10.29496005 104.30935317]\n",
      "Median: [  0.1305245    2.00559537  10.73104259 110.20747194]\n",
      "75%ile: [  0.13170255   2.08104541  12.04163542 117.94092344]\n"
     ]
    }
   ],
   "source": [
    "timeconstants = 1/best_fits_short[:,4:]\n",
    "print(\"25%ile:\", np.percentile(timeconstants, 25, axis=0))\n",
    "print(\"Median:\", np.median(timeconstants, axis=0))\n",
    "print(\"75%ile:\", np.percentile(timeconstants, 75, axis=0))"
   ]
  },
  {
   "cell_type": "code",
   "execution_count": 93,
   "metadata": {},
   "outputs": [],
   "source": [
    "coeffs_short = best_fits_short[:, :4]\n",
    "coeffs_long = best_fits_long[:, :4]"
   ]
  },
  {
   "cell_type": "markdown",
   "metadata": {},
   "source": [
    "### Figure 3F: parameter summary plot"
   ]
  },
  {
   "cell_type": "code",
   "execution_count": 95,
   "metadata": {},
   "outputs": [
    {
     "data": {
      "image/png": "[encoded data removed]",
      "text/plain": [
       "<Figure size 90x93.6 with 1 Axes>"
      ]
     },
     "metadata": {
      "needs_background": "light"
     },
     "output_type": "display_data"
    }
   ],
   "source": [
    "fig = plt.figure(figsize=(1.25,1.3))\n",
    "ax = plt.gca()\n",
    "ax.spines['right'].set_visible(False)\n",
    "ax.spines['top'].set_visible(False)\n",
    "ax.set_xscale('log')\n",
    "plt.ylim([0, 0.6])\n",
    "plt.yticks(np.linspace(0, 0.6, 6))\n",
    "ax.set_yticklabels([0, '', '', '', '', 0.6 ])\n",
    "ax.set_xticks([1e-2, 1e-1, 1, 1e1, 1e2])\n",
    "\n",
    "plt.scatter(timeconstants, coeffs_short, facecolor='C3', marker='o', s=8, linewidth=0.5, label='10 s step', clip_on=False)\n",
    "plt.scatter(timeconstants, coeffs_long, facecolor='k', marker='^', s=8,linewidth=0.5, label='60 s step', clip_on=False)\n",
    "\n",
    "ax.get_xaxis().set_minor_locator(ticker.LogLocator(numticks=5, subs='all'))\n",
    "ax.get_xaxis().set_minor_formatter(ticker.NullFormatter())\n",
    "\n",
    "ax.set_xticks([1e-1, 1e0, 1e1, 1e2])\n",
    "ax.set_xticklabels([r'$10^{-1}$','','',r'$10^{2}$'])\n",
    "\n",
    "plt.figtext(0.6, 0.9, '15 s step', color=red_c)\n",
    "plt.figtext(0.6, 0.8, '90 s step')\n",
    "\n",
    "plt.ylabel('Amplitude', labelpad=-7)\n",
    "plt.subplots_adjust(left = 0.2, top = 0.95, bottom=0.18, right=0.98)"
   ]
  },
  {
   "cell_type": "markdown",
   "metadata": {},
   "source": [
    "## Figure 3D: example traces"
   ]
  },
  {
   "cell_type": "code",
   "execution_count": 69,
   "metadata": {},
   "outputs": [],
   "source": [
    "example_trace = ketamine_traces[0]\n",
    "\n",
    "# Import data\n",
    "trange, pe_short, pe_long = importDataKetamine('../../data/anesthetized/fixed/Ketamine/'+example_trace+'.mat')\n",
    "\n",
    "# Import fit\n",
    "fit_file = sio.loadmat('fit/results/Ketamine/'+example_trace+'.mat')\n",
    "lls = fit_file['lls']\n",
    "fits = fit_file['fits']\n",
    "best_fit_inds = np.argmin(lls, axis=1)\n",
    "\n",
    "best_models_short_example = np.zeros((3, len(trange)))\n",
    "best_models_long_example = np.zeros((3, len(trange)))\n",
    "\n",
    "best_models_short_example[0,:] = fitting_functions.exponentialModel(trange, fits[0,0][best_fit_inds[0],:])\n",
    "best_models_short_example[1,:] = fitting_functions.exponentialModel(trange, fits[1,0][best_fit_inds[1],:])\n",
    "best_models_short_example[2,:] = fitting_functions.exponentialModel(trange, fits[3,0][best_fit_inds[3],:])\n",
    "\n",
    "best_models_long_example[0,:] = fitting_functions.exponentialModel(trange, fits[0,1][best_fit_inds[0],:])\n",
    "best_models_long_example[1,:] = fitting_functions.exponentialModel(trange, fits[1,1][best_fit_inds[1],:])\n",
    "best_models_long_example[2,:] = fitting_functions.exponentialModel(trange, fits[3,1][best_fit_inds[3],:])\n",
    "\n",
    "fit_file = sio.loadmat('fit/results/Ketamine/'+example_trace+'_10s.mat')\n",
    "lls = fit_file['lls']\n",
    "fits = fit_file['fits']\n",
    "best_fit_ind = np.nanargmax(lls[3,:])\n",
    "\n",
    "best_models_short_bounded = fitting_functions.exponentialModel(trange, fits[3,0][best_fit_ind,:])\n",
    "best_models_long_bounded = fitting_functions.exponentialModel(trange, fits[3,1][best_fit_ind,:])"
   ]
  },
  {
   "cell_type": "markdown",
   "metadata": {},
   "source": [
    "### 15 s step"
   ]
  },
  {
   "cell_type": "code",
   "execution_count": 72,
   "metadata": {},
   "outputs": [
    {
     "data": {
      "image/png": "[encoded data removed]",
      "text/plain": [
       "<Figure size 93.6x93.6 with 1 Axes>"
      ]
     },
     "metadata": {
      "needs_background": "light"
     },
     "output_type": "display_data"
    }
   ],
   "source": [
    "fig = plt.figure(figsize=(1.3,1.3))\n",
    "ax = plt.gca()\n",
    "ax.spines['right'].set_visible(False)\n",
    "ax.spines['top'].set_visible(False)\n",
    "plt.plot(trange, pe_short, color=(0.7, 0.7, 0.7, 1), label='Data', clip_on=False, solid_capstyle='butt', lw=1)\n",
    "\n",
    "plt.plot(trange, best_models_short_example[0,:],c='C9', linewidth=0.5, clip_on=False, label=r'1 $\\tau$ fit')\n",
    "plt.plot(trange, best_models_short_example[1,:],c='k', linewidth=0.5 , label=r'2 $\\tau$ fit')\n",
    "\n",
    "plt.plot(trange, best_models_short_bounded, c=red_l, linewidth=0.75, clip_on=False)\n",
    "\n",
    "plt.plot(trange, best_models_short_example[2,:], label=r'4 $\\tau$ fit', c='C3', linewidth=1)\n",
    "\n",
    "plt.ylabel('Normalized eye pos.', labelpad=2)\n",
    "plt.xlim([-2, 60])\n",
    "plt.ylim([-0.05,1])\n",
    "\n",
    "ax.set_xticks([0, 20, 40, 60])\n",
    "ax.set_xticklabels([0, '','',60])\n",
    "ax.set_yticks(np.linspace(0, 1, 5))\n",
    "ax.set_yticklabels([0, '','','',1])\n",
    "\n",
    "\n",
    "plt.figtext(1, 0.85, r'4 $\\tau$ fit, $\\tau < \\infty$', color=red_c, ha='right')\n",
    "plt.figtext(1, 0.75, r'4 $\\tau$ fit, $\\tau < 10$ s', color=red_l, ha='right')\n",
    "plt.figtext(1, 0.65, r'2 $\\tau$ fit', ha='right')\n",
    "plt.figtext(1, 0.55, r'1 $\\tau$ fit', color='C9', ha='right')\n",
    "\n",
    "\n",
    "plt.subplots_adjust(left = 0.21, top = 0.95, bottom=0.18, right=0.95)"
   ]
  },
  {
   "cell_type": "markdown",
   "metadata": {},
   "source": [
    "### 90 s step"
   ]
  },
  {
   "cell_type": "code",
   "execution_count": 73,
   "metadata": {},
   "outputs": [
    {
     "data": {
      "image/png": "[encoded data removed]",
      "text/plain": [
       "<Figure size 93.6x93.6 with 1 Axes>"
      ]
     },
     "metadata": {
      "needs_background": "light"
     },
     "output_type": "display_data"
    }
   ],
   "source": [
    "fig = plt.figure(figsize=(1.3,1.3))\n",
    "ax = plt.gca()\n",
    "ax.spines['right'].set_visible(False)\n",
    "ax.spines['top'].set_visible(False)\n",
    "\n",
    "plt.plot(trange, pe_long, color=(0.7, 0.7, 0.7, 1), label='Data', clip_on=False, solid_capstyle='butt', lw=1)\n",
    "plt.plot(trange, best_models_long_example[0,:],c='C9', linewidth=0.5, clip_on=False, label=r'1 $\\tau$ fit')\n",
    "plt.plot(trange, best_models_long_example[1,:],c='k', linewidth=0.5 , label=r'2 $\\tau$ fit')\n",
    "\n",
    "\n",
    "plt.plot(trange, best_models_long_bounded, c=red_l, linewidth=0.75, clip_on=False)\n",
    "\n",
    "plt.plot(trange, best_models_long_example[2,:], label=r'4 $\\tau$ fit', c='C3', linewidth=1)\n",
    "\n",
    "plt.ylabel('Normalized eye pos.', labelpad=2)\n",
    "plt.xlim([-2, 60])\n",
    "plt.ylim([-0.05,1])\n",
    "# xlims = plt.xlim()\n",
    "ax.set_xticks([0, 20, 40, 60])\n",
    "ax.set_xticklabels([0, '','',60])\n",
    "ax.set_yticks(np.linspace(0, 1, 5))\n",
    "ax.set_yticklabels([0, '','','',1])\n",
    "\n",
    "\n",
    "plt.subplots_adjust(left = 0.21, top = 0.95, bottom=0.18, right=0.95, wspace=0.3)"
   ]
  },
  {
   "cell_type": "markdown",
   "metadata": {},
   "source": [
    "## Summary of fits with time constants constrained to be < 10 s"
   ]
  },
  {
   "cell_type": "code",
   "execution_count": 26,
   "metadata": {},
   "outputs": [],
   "source": [
    "max_num_components = 6\n",
    "\n",
    "best_fits_mse_10s = np.zeros((len(ketamine_traces), max_num_components))\n",
    "# best_fits_ll_10s = np.zeros((len(ketamine_traces), max_num_components))\n",
    "\n",
    "for fish_num in range(len(ketamine_traces)):\n",
    "    fit_file = sio.loadmat('fit/results/Ketamine/'+ketamine_traces[fish_num]+'_10s.mat')\n",
    "    sses = fit_file['sses']\n",
    "    lls = fit_file['lls']\n",
    "    \n",
    "    best_fit_num = np.nanargmax(lls, axis=1)\n",
    "    # best_fits_ll_10s[fish_num,:] = np.nanmax(lls, axis=1)\n",
    "    best_fits_mse_10s[fish_num,:] = np.array([sses[i, best_fit_num[i]] for i in range(max_num_components)])/(2*4152)"
   ]
  },
  {
   "cell_type": "code",
   "execution_count": 27,
   "metadata": {},
   "outputs": [],
   "source": [
    "best_fits_mse_ratios = best_fits_mse_10s / best_fits_mse"
   ]
  },
  {
   "cell_type": "code",
   "execution_count": 28,
   "metadata": {},
   "outputs": [
    {
     "data": {
      "text/plain": [
       "20.876717970261062"
      ]
     },
     "execution_count": 28,
     "metadata": {},
     "output_type": "execute_result"
    }
   ],
   "source": [
    "np.median(best_fits_mse_ratios[:,3])"
   ]
  },
  {
   "cell_type": "code",
   "execution_count": 29,
   "metadata": {},
   "outputs": [
    {
     "data": {
      "text/plain": [
       "[7.901730401885949, 58.06433717306732]"
      ]
     },
     "execution_count": 29,
     "metadata": {},
     "output_type": "execute_result"
    }
   ],
   "source": [
    "[np.min(best_fits_mse_ratios[:,3]), np.max(best_fits_mse_ratios[:,3])]"
   ]
  }
 ],
 "metadata": {
  "kernelspec": {
   "display_name": "Python 3",
   "language": "python",
   "name": "python3"
  },
  "language_info": {
   "codemirror_mode": {
    "name": "ipython",
    "version": 3
   },
   "file_extension": ".py",
   "mimetype": "text/x-python",
   "name": "python",
   "nbconvert_exporter": "python",
   "pygments_lexer": "ipython3",
   "version": "3.7.7"
  }
 },
 "nbformat": 4,
 "nbformat_minor": 2
}
