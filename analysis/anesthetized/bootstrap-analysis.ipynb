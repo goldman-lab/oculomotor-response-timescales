{
 "cells": [
  {
   "cell_type": "code",
   "execution_count": 4,
   "metadata": {},
   "outputs": [],
   "source": [
    "import numpy as np\n",
    "import matplotlib.pyplot as plt\n",
    "%matplotlib inline\n",
    "\n",
    "import sys\n",
    "sys.path.append('../../tools/')\n",
    "import fitting_functions\n",
    "\n",
    "import scipy.io as sio"
   ]
  },
  {
   "cell_type": "markdown",
   "metadata": {},
   "source": [
    "# MS-222 Results"
   ]
  },
  {
   "cell_type": "code",
   "execution_count": 5,
   "metadata": {},
   "outputs": [],
   "source": [
    "ms222_traces = ['091311a', '091311b', '091311c', '091311d', '091311e', '091311f', '091411a', '091411d', '091411e', '091411f']"
   ]
  },
  {
   "cell_type": "code",
   "execution_count": 11,
   "metadata": {},
   "outputs": [],
   "source": [
    "n = 4 # no of exponential components\n",
    "stdvs = np.zeros((len(ms222_traces), n))\n",
    "stdvs_pcts = np.zeros((len(ms222_traces), n))\n",
    "\n",
    "avg_ratio = np.zeros((len(ms222_traces), n))\n",
    "\n",
    "for i in range(len(ms222_traces)):\n",
    "    fish_name = ms222_traces[i]\n",
    "    ## Load initial fit paramters\n",
    "    fit_file = sio.loadmat('fit/results/MS-222/'+fish_name+'.mat')\n",
    "    fits = fit_file['fits']\n",
    "    lls = fit_file['lls']\n",
    "    best_trace_num = np.argmax(lls[n-1,:])\n",
    "\n",
    "    timeconstants_original = 1/np.sort(fits[n-1,0][best_trace_num, n:])[::-1]\n",
    "    ## Load bootstrapped fit parameters\n",
    "    bootstrap_file = sio.loadmat('bootstrap/results/MS-222/'+fish_name+'.mat')\n",
    "    bootstrap_fits = bootstrap_file['fits']\n",
    "    bootstrap_tcs_sorted = 1/np.sort(bootstrap_fits[:,0,n:], axis=1)[:, ::-1]\n",
    "    \n",
    "    # Stdev\n",
    "    stdvs[i,:] = np.std(bootstrap_tcs_sorted, axis=0)\n",
    "    stdvs_pcts[i,:] = stdvs[i,:]/timeconstants_original\n",
    "    \n",
    "    avg_ratio[i,:] = np.mean(bootstrap_tcs_sorted, axis=0)/timeconstants_original"
   ]
  },
  {
   "cell_type": "code",
   "execution_count": 9,
   "metadata": {},
   "outputs": [
    {
     "data": {
      "text/plain": [
       "array([6.60342947, 3.90502449, 3.43379551, 2.13322465])"
      ]
     },
     "execution_count": 9,
     "metadata": {},
     "output_type": "execute_result"
    }
   ],
   "source": [
    "np.median(stdvs_pcts, axis=0)*100"
   ]
  },
  {
   "cell_type": "markdown",
   "metadata": {},
   "source": [
    "# Ketamine Results"
   ]
  },
  {
   "cell_type": "code",
   "execution_count": 37,
   "metadata": {},
   "outputs": [],
   "source": [
    "ketamine_traces = ['63011d','70911i', '70911l', '70911m', '82411p', '82411r']"
   ]
  },
  {
   "cell_type": "code",
   "execution_count": 38,
   "metadata": {},
   "outputs": [],
   "source": [
    "n = 4\n",
    "stdvs = np.zeros((len(ketamine_traces), n))\n",
    "stdvs_pcts = np.zeros((len(ketamine_traces), n))\n",
    "\n",
    "for i in range(len(ketamine_traces)):\n",
    "    fish_name = ketamine_traces[i]\n",
    "    ## Load initial fit paramters\n",
    "    fit_file = sio.loadmat('../fit/results/Ketamine/'+fish_name+'.mat')\n",
    "    fits = fit_file['fits']\n",
    "    lls = fit_file['lls']\n",
    "    best_trace_num = np.argmax(lls[n-1,:])\n",
    "\n",
    "    timeconstants_original = 1/np.sort(fits[n-1,0][best_trace_num, n:])[::-1]\n",
    "\n",
    "    ## Load bootstrapped fit parameters\n",
    "    bootstrap_file = sio.loadmat('results/Ketamine/'+fish_name+'.mat')\n",
    "    bootstrap_fits = bootstrap_file['fits']\n",
    "    bootstrap_tcs_sorted = 1/np.sort(bootstrap_fits[:,0,n:], axis=1)[:, ::-1]\n",
    "    \n",
    "    # Stdev\n",
    "    stdvs[i,:] = np.std(bootstrap_tcs_sorted, axis=0)\n",
    "    stdvs_pcts[i,:] = stdvs[i,:]/timeconstants_original"
   ]
  },
  {
   "cell_type": "code",
   "execution_count": 40,
   "metadata": {},
   "outputs": [
    {
     "data": {
      "text/plain": [
       "array([6.15493217, 4.98330249, 4.69618564, 8.37235389])"
      ]
     },
     "execution_count": 40,
     "metadata": {},
     "output_type": "execute_result"
    }
   ],
   "source": [
    "np.median(stdvs_pcts, axis=0)*100"
   ]
  }
 ],
 "metadata": {
  "kernelspec": {
   "display_name": "Python 3",
   "language": "python",
   "name": "python3"
  },
  "language_info": {
   "codemirror_mode": {
    "name": "ipython",
    "version": 3
   },
   "file_extension": ".py",
   "mimetype": "text/x-python",
   "name": "python",
   "nbconvert_exporter": "python",
   "pygments_lexer": "ipython3",
   "version": "3.7.7"
  }
 },
 "nbformat": 4,
 "nbformat_minor": 2
}
