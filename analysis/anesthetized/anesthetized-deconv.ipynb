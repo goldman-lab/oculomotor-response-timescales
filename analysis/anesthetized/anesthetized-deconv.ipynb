{
 "cells": [
  {
   "cell_type": "code",
   "execution_count": 1,
   "metadata": {},
   "outputs": [],
   "source": [
    "import numpy as np\n",
    "\n",
    "# Save fonts into pdf\n",
    "import matplotlib\n",
    "matplotlib.rcParams['pdf.fonttype'] = 42\n",
    "matplotlib.rcParams['ps.fonttype'] = 42\n",
    "\n",
    "import matplotlib.pyplot as plt\n",
    "%matplotlib inline\n",
    "\n",
    "import scipy.io as sio\n",
    "\n",
    "import sys\n",
    "sys.path.append('../../tools/')\n",
    "import fitting_functions\n",
    "\n",
    "import matplotlib.colors\n",
    "\n",
    "import matplotlib.ticker as ticker\n",
    "\n",
    "import scipy.optimize\n",
    "import tqdm.notebook"
   ]
  },
  {
   "cell_type": "markdown",
   "metadata": {},
   "source": [
    "# Utility functions"
   ]
  },
  {
   "cell_type": "code",
   "execution_count": 2,
   "metadata": {},
   "outputs": [],
   "source": [
    "def loadBestFits(filename, n):\n",
    "    fit_file = sio.loadmat(filename)\n",
    "    lls = fit_file['lls']\n",
    "    fits = fit_file['fits']\n",
    "    best_trace_ind = np.argmax(lls[n-1,:])\n",
    "    best_fits = np.zeros((fits.shape[1], fits[n-1,0].shape[1]))\n",
    "    for i in range(fits.shape[1]):\n",
    "        best_fits[i,:] = fits[n-1,i][best_trace_ind,:]\n",
    "    return best_fits"
   ]
  },
  {
   "cell_type": "code",
   "execution_count": 3,
   "metadata": {},
   "outputs": [],
   "source": [
    "def calculateAUC(plant_params, T = 20, total=False, normalized=True):\n",
    "    \"\"\"Calculate the area under the curve given plant model parameters. Uses the continuum limit.\n",
    "    \n",
    "    Arguments:\n",
    "        plant_params: array of length 2*n, concatenating the coefficients and inverse plant time constants\n",
    "        T: length of time over which to calculate area (s), using definite integral\n",
    "        total: True to return the total AUC\n",
    "        normalized: True to divide components by total AUC\n",
    "        \n",
    "    Returns:\n",
    "        a scalar value of the total AUC (if total == True), or\n",
    "        an array of length n giving the AUC for each component (if Total == False)\n",
    "    \"\"\"\n",
    "    n = len(plant_params)//2\n",
    "    sort_order = np.flip(np.argsort(plant_params[n:]))\n",
    "    timeconstants = plant_params[n+sort_order]\n",
    "    c = plant_params[sort_order]\n",
    "    aucs = np.zeros(n)\n",
    "    for k in range(n):\n",
    "        if timeconstants[k] > 0:\n",
    "            aucs[k] = 1./timeconstants[k]*c[k]*(1-np.exp(-T*timeconstants[k]))\n",
    "        else:\n",
    "            aucs[k] = c[k]*T\n",
    "    if total:\n",
    "        return np.sum(aucs)\n",
    "    else:\n",
    "        if normalized:\n",
    "            return aucs/np.sum(aucs)\n",
    "        else:\n",
    "            return aucs"
   ]
  },
  {
   "cell_type": "code",
   "execution_count": 4,
   "metadata": {},
   "outputs": [],
   "source": [
    "def deconvolveEyePos(trange, eye_pos, plant, ind=-1, mode='lsq_linear'):\n",
    "    \"\"\"Compute applied force given eye position and plant parameters.\n",
    "    \n",
    "    Arguments:\n",
    "        trange: time array for eye position\n",
    "        eye_pos: eye position data\n",
    "        plant: 2*n parameter array of coefficients and inverse time constants\n",
    "        ind: index of eye position after which force goes to zero (-1 if none)\n",
    "        mode: optimization method to use ('lsq_linear' or 'nnls')\n",
    "    \"\"\"\n",
    "    plant_model = fitting_functions.exponentialModel(trange, plant)\n",
    "    \n",
    "    def convMat(signal, m):\n",
    "        mat = np.zeros((len(signal), m))\n",
    "        mat[:,0] = signal\n",
    "        for i in range(1, m):\n",
    "            mat[i:,i] = signal[:len(signal)-i]\n",
    "        return mat\n",
    "    \n",
    "    if ind == -1:\n",
    "        ind = len(trange)\n",
    "    mat = 72*2e-4*convMat(plant_model, ind)\n",
    "    \n",
    "    f_ = np.zeros(len(trange))\n",
    "    if mode == 'lsq_linear':\n",
    "        optresult = scipy.optimize.lsq_linear(mat, eye_pos, bounds=(0, np.inf))\n",
    "        f_ = np.zeros(len(trange))\n",
    "        f_[:len(optresult.x)] = optresult.x\n",
    "    elif mode == 'nnls':\n",
    "        x, err_ = scipy.optimize.nnls(mat, eye_pos)\n",
    "        f_[:len(x)] = x\n",
    "    \n",
    "    return f_"
   ]
  },
  {
   "cell_type": "code",
   "execution_count": 5,
   "metadata": {},
   "outputs": [],
   "source": [
    "# Set rcParams for plotting\n",
    "matplotlib.rcParams.update({'font.size': 8, 'axes.linewidth': 0.5, 'xtick.major.width': 0.5, 'xtick.minor.width': 0.5, \n",
    "                            'ytick.major.width': 0.5,'ytick.minor.width': 0.5, 'xtick.major.pad':2,'ytick.major.pad':2})\n",
    "matplotlib.rcParams.update({'font.family':'sans-serif','font.sans-serif':['Arial'], 'mathtext.default':'sf','mathtext.fontset':'custom'})\n",
    "\n",
    "matplotlib.rcParams.update({'savefig.transparent':True})"
   ]
  },
  {
   "cell_type": "code",
   "execution_count": 6,
   "metadata": {},
   "outputs": [],
   "source": [
    "ms222_traces = ['091311a', '091311b', '091311c', '091311d', '091311e', '091311f', '091411a', '091411d', '091411e', '091411f']\n",
    "ketamine_traces = ['63011d','70911i', '70911l', '70911m', '82411p', '82411r']"
   ]
  },
  {
   "cell_type": "markdown",
   "metadata": {},
   "source": [
    "# Parameter summary"
   ]
  },
  {
   "cell_type": "code",
   "execution_count": 7,
   "metadata": {},
   "outputs": [],
   "source": [
    "# Load MS-222 plants\n",
    "\n",
    "num_components = 4\n",
    "\n",
    "best_plants_ms222 = np.zeros((len(ms222_traces), num_components*2))\n",
    "aucs_ms222 = np.zeros((len(ms222_traces), num_components))\n",
    "for i in range(len(ms222_traces)):\n",
    "    trace = ms222_traces[i]\n",
    "    \n",
    "    # load time constants from step response fits\n",
    "    fit_file = sio.loadmat('fit/results/MS-222/'+trace+'.mat')\n",
    "    fit_lls = fit_file['lls']\n",
    "    best_trace_ind = np.argmax(fit_lls[num_components-1,:])\n",
    "    fit_fits = fit_file['fits']\n",
    "    timeconstants = fit_fits[num_components-1,0][best_trace_ind, num_components:]\n",
    "    \n",
    "    # load coefficients from linear blind deconvolution\n",
    "    deconv_file = sio.loadmat('deconv/results/MS-222/distributed/'+trace+'.mat')\n",
    "    best_plants_ms222[i,:] = np.concatenate((deconv_file['c'][0], timeconstants))\n",
    "    aucs_ms222[i,:] = calculateAUC(best_plants_ms222[i,:], T=60, normalized=True)"
   ]
  },
  {
   "cell_type": "code",
   "execution_count": 8,
   "metadata": {},
   "outputs": [],
   "source": [
    "best_plants_ketamine = np.zeros((len(ketamine_traces), num_components*2))\n",
    "aucs_ketamine = np.zeros((len(ketamine_traces), num_components))\n",
    "for i in range(len(ketamine_traces)):\n",
    "    trace = ketamine_traces[i]\n",
    "    \n",
    "    # load time constants from step response fits\n",
    "    fit_file = sio.loadmat('fit/results/Ketamine/'+trace+'.mat')\n",
    "    fit_lls = fit_file['lls']\n",
    "    best_trace_ind = np.argmax(fit_lls[num_components-1,:])\n",
    "    fit_fits = fit_file['fits']\n",
    "    timeconstants = fit_fits[num_components-1,0][best_trace_ind, num_components:]\n",
    "    \n",
    "    # load coefficients from linear blind deconvolution\n",
    "    deconv_file = sio.loadmat('deconv/results/Ketamine/distributed/'+trace+'.mat')\n",
    "    best_plants_ketamine[i,:] = np.concatenate((deconv_file['c'][0], timeconstants))\n",
    "    aucs_ketamine[i,:] = calculateAUC(best_plants_ketamine[i,:], T=60, normalized=True)"
   ]
  },
  {
   "cell_type": "markdown",
   "metadata": {},
   "source": [
    "### Plant coefficients and time constants are related by an approximate power law"
   ]
  },
  {
   "cell_type": "code",
   "execution_count": 14,
   "metadata": {},
   "outputs": [],
   "source": [
    "# Fit a line between log(coefficients) and log(time constants)\n",
    "\n",
    "p_ms222 = np.polyfit(np.log(np.concatenate(1/best_plants_ms222[:,4:])),\n",
    "                        np.log(np.concatenate(best_plants_ms222[:,:4])+1e-5), 1) # add 1e-5 to account for one coefficient that is zero\n",
    "\n",
    "p_ketamine = np.polyfit(np.log(np.concatenate(1/best_plants_ketamine[:,4:])),\n",
    "                        np.log(np.concatenate(best_plants_ketamine[:,:4])), 1)"
   ]
  },
  {
   "cell_type": "code",
   "execution_count": 15,
   "metadata": {},
   "outputs": [],
   "source": [
    "# Repeating procedure for plant from appendix of Sklavos et al. 2005\n",
    "\n",
    "sklavos_plant = np.array([0.915, 0.0776, 0.007, 0.000287, 1/0.0115,1/0.099, 1/0.455, 1/7.76 ])\n",
    "p_sklavos = np.polyfit(np.log(1/sklavos_plant[4:]), np.log(sklavos_plant[:4]),1)"
   ]
  },
  {
   "cell_type": "code",
   "execution_count": 20,
   "metadata": {},
   "outputs": [
    {
     "name": "stdout",
     "output_type": "stream",
     "text": [
      "Slope (exponent):\n",
      "MS-222: -0.878\n",
      "Ketamine: -1.008\n",
      "Sklavos: -1.255\n"
     ]
    }
   ],
   "source": [
    "print(\"Slope (exponent):\\nMS-222: %.3f\\nKetamine: %.3f\\nSklavos: %.3f\" %(p_ms222[0], p_ketamine[0], p_sklavos[0]))"
   ]
  },
  {
   "cell_type": "code",
   "execution_count": 38,
   "metadata": {},
   "outputs": [
    {
     "data": {
      "image/png": "[encoded data removed]",
      "text/plain": [
       "<Figure size 432x288 with 2 Axes>"
      ]
     },
     "metadata": {
      "needs_background": "light"
     },
     "output_type": "display_data"
    }
   ],
   "source": [
    "x_lims = np.min(np.log(np.concatenate(1/best_plants_ms222[:,4:]))), \\\n",
    "            np.max(np.log(np.concatenate(1/best_plants_ms222[:,4:])))\n",
    "    \n",
    "x = np.linspace(x_lims[0], x_lims[1])\n",
    "\n",
    "plt.subplot(1,2,1)\n",
    "plt.scatter(np.log(np.concatenate(1/best_plants_ms222[:,4:])),\n",
    "                        np.log(np.concatenate(best_plants_ms222[:,:4])+1e-4), 12, c='C3', label='MS-222')\n",
    "plt.scatter(np.log(np.concatenate(1/best_plants_ketamine[:,4:])),\n",
    "                        np.log(np.concatenate(best_plants_ketamine[:,:4])), 12, marker='^', c='k', label='Ketamine')\n",
    "\n",
    "plt.plot(x, x*p_ms222[0]+p_ms222[1], c='C3')\n",
    "plt.plot(x, x*p_ketamine[0] + p_ketamine[1], c='k')\n",
    "ylims = plt.ylim()\n",
    "plt.title('Zebrafish')\n",
    "plt.xlabel(r'log $\\tau$')\n",
    "plt.ylabel('log coefficient')\n",
    "plt.legend(frameon=False)\n",
    "\n",
    "plt.subplot(1,2,2)\n",
    "x_lims_sklavos = np.min(np.log(1/sklavos_plant[4:])), \\\n",
    "            np.max(np.log(1/sklavos_plant[4:]))\n",
    "    \n",
    "x_sklavos = np.linspace(x_lims_sklavos[0], x_lims_sklavos[1])\n",
    "plt.scatter(np.log(1/sklavos_plant[4:]), np.log(sklavos_plant[:4]), 12)\n",
    "plt.plot(x_sklavos, x_sklavos*p_sklavos[0] + p_sklavos[1])\n",
    "plt.ylim(ylims)\n",
    "plt.title('Primate')\n",
    "plt.xlabel(r'log $\\tau$')\n",
    "plt.ylabel('log coefficient');"
   ]
  },
  {
   "cell_type": "markdown",
   "metadata": {},
   "source": [
    "## Figure 5D: parameter summary of recovered plant models"
   ]
  },
  {
   "cell_type": "code",
   "execution_count": 13,
   "metadata": {},
   "outputs": [
    {
     "data": {
      "image/png": "[encoded data removed]",
      "text/plain": [
       "<Figure size 93.6x93.6 with 1 Axes>"
      ]
     },
     "metadata": {
      "needs_background": "light"
     },
     "output_type": "display_data"
    }
   ],
   "source": [
    "fig = plt.figure(figsize=(1.3,1.3))\n",
    "ax = plt.gca()\n",
    "ax.spines['right'].set_visible(False)\n",
    "ax.spines['top'].set_visible(False)\n",
    "ax.set_xscale('log')\n",
    "ax.set_yscale('log')\n",
    "plt.ylim([0.25e-4, 1])\n",
    "\n",
    "\n",
    "for i in range(len(ms222_traces)):\n",
    "    plt.scatter(1./best_plants_ms222[i,num_components:], np.maximum(0.35e-4, best_plants_ms222[i,:num_components]), 4,c='C3', clip_on=False)\n",
    "\n",
    "for i in range(len(ketamine_traces)):\n",
    "    plt.scatter(1./best_plants_ketamine[i,num_components:], best_plants_ketamine[i,:num_components],4, marker='^', c='k', clip_on=False)\n",
    "\n",
    "ax.get_xaxis().set_minor_locator(ticker.LogLocator(numticks=5, subs='all'))\n",
    "ax.get_xaxis().set_minor_formatter(ticker.NullFormatter())\n",
    "\n",
    "ax.set_xticks([1e-1, 1e0, 1e1, 1e2])\n",
    "ax.set_xticklabels([r'$10^{-1}$','' , '', r'$10^{2}$'])\n",
    "\n",
    "ax.set_yticks([0.25e-4, 1e-4, 1e-3, 1e-2, 1e-1, 1e0])\n",
    "ax.set_yticklabels([0, '', '', '', '', r'$10^{0}$'])\n",
    "\n",
    "ax.get_yaxis().set_minor_locator(ticker.LogLocator(numticks=5, subs='all'))\n",
    "ax.get_yaxis().set_minor_formatter(ticker.NullFormatter())\n",
    "\n",
    "plt.figtext(0.98, 0.8, 'MS-222', color='C3', horizontalalignment='right', fontsize=8)\n",
    "plt.figtext(0.98,0.9, 'Ketamine', horizontalalignment='right', fontsize=8)\n",
    "\n",
    "plt.subplots_adjust(left = 0.12, top = 0.95, bottom=0.18, right=0.98)"
   ]
  },
  {
   "cell_type": "markdown",
   "metadata": {},
   "source": [
    "## Figure 5E: AUC summary"
   ]
  },
  {
   "cell_type": "code",
   "execution_count": 39,
   "metadata": {},
   "outputs": [
    {
     "data": {
      "image/png": "[encoded data removed]",
      "text/plain": [
       "<Figure size 93.6x93.6 with 1 Axes>"
      ]
     },
     "metadata": {
      "needs_background": "light"
     },
     "output_type": "display_data"
    }
   ],
   "source": [
    "fig = plt.figure(figsize=(1.3,1.3))\n",
    "ax = plt.gca()\n",
    "\n",
    "plt.boxplot(aucs_ms222, positions=np.arange(1,5)-0.125, whis=(0,100), widths=0.25, medianprops={'c':'C3', 'linewidth':0.75},\n",
    "            boxprops={'c':'C3', 'linewidth':0.5}, whiskerprops={'c':'C3','linewidth':0.5}, \n",
    "            capprops={'c':'C3', 'linewidth':0.5});\n",
    "plt.boxplot(aucs_ketamine, positions=np.arange(1,5)+0.125, whis=(0,100), widths=0.25, medianprops={'c':'k', 'linewidth':0.75},\n",
    "            boxprops={'linewidth':0.5}, whiskerprops={'linewidth':0.5}, capprops={'linewidth':0.5});\n",
    "\n",
    "\n",
    "\n",
    "plt.ylim([-0.03, 0.5])\n",
    "plt.yticks(np.linspace(0, 0.5, 5))\n",
    "ax.set_yticklabels([0, '', '', '', 0.5])\n",
    "\n",
    "plt.xlim([0.6, 4.4])\n",
    "ax.set_xticks([1,2,3,4])\n",
    "ax.set_xticklabels([])\n",
    "\n",
    "ax.spines['top'].set_visible(False)\n",
    "ax.spines['right'].set_visible(False)\n",
    "\n",
    "plt.subplots_adjust(left = 0.12, top = 0.95, bottom=0.18, right=0.98)"
   ]
  },
  {
   "cell_type": "markdown",
   "metadata": {},
   "source": [
    "# Example traces, MS-222"
   ]
  },
  {
   "cell_type": "code",
   "execution_count": 9,
   "metadata": {},
   "outputs": [],
   "source": [
    "fish_num = 0 # (same as used for step responses)\n",
    "\n",
    "short_duration = 10\n",
    "long_duration = 60\n",
    "\n",
    "# Load step response fits\n",
    "trange, pe_short, pe_long = fitting_functions.importDataMS222('../../data/anesthetized/fixed/MS-222/'+ms222_traces[fish_num]+'.mat')\n",
    "best_fits = loadBestFits('fit/results/MS-222/'+ms222_traces[fish_num]+'.mat', 4)\n",
    "timeconstants = best_fits[0, 4:]\n",
    "\n",
    "# Bridge the gap between release time and real data\n",
    "trange_deconv_mid = np.arange(0, int(0.2304/(72*2e-4))+1)*72*2e-4\n",
    "pe_short_deconv_mid = fitting_functions.exponentialModel(trange_deconv_mid, best_fits[0,:])\n",
    "pe_long_deconv_mid = fitting_functions.exponentialModel(trange_deconv_mid, best_fits[1,:])\n",
    "\n",
    "# Construct 10 s hold\n",
    "trange_short_deconv_pre = np.arange(0, short_duration, 72*2e-4)\n",
    "pe_short_deconv_pre = np.ones(len(trange_short_deconv_pre))\n",
    "# Construct 60 s hold\n",
    "trange_long_deconv_pre = np.arange(0, long_duration, 72*2e-4)\n",
    "pe_long_deconv_pre = np.ones(len(trange_long_deconv_pre))\n",
    "\n",
    "### Compute reconstruction\n",
    "trange_short_deconv = np.concatenate((trange_short_deconv_pre, trange_deconv_mid + short_duration, short_duration+trange[1:]))\n",
    "trange_long_deconv = np.concatenate((trange_long_deconv_pre, trange_deconv_mid + long_duration, long_duration+trange[1:]))\n",
    "\n",
    "pe_short_deconv = np.concatenate((pe_short_deconv_pre, pe_short_deconv_mid, pe_short[1:]))\n",
    "pe_long_deconv = np.concatenate((pe_long_deconv_pre, pe_long_deconv_mid, pe_long[1:]))\n",
    "\n",
    "# Best reconstruction\n",
    "plant_model_best_short = fitting_functions.exponentialModel(trange_short_deconv, best_plants_ms222[fish_num,:])\n",
    "f_best_short = np.zeros(len(trange_short_deconv))\n",
    "f_best_short[:len(pe_short_deconv_pre)] = deconvolveEyePos(trange_short_deconv_pre, pe_short_deconv_pre, best_plants_ms222[fish_num,:], mode='nnls')\n",
    "reconstr_best_short = 72*2e-4*np.convolve(plant_model_best_short, f_best_short)[:len(plant_model_best_short)]\n",
    "\n",
    "plant_model_best_long = fitting_functions.exponentialModel(trange_long_deconv, best_plants_ms222[fish_num,:])\n",
    "f_best_long = np.zeros(len(trange_long_deconv))\n",
    "f_best_long[:len(pe_long_deconv_pre)] = deconvolveEyePos(trange_long_deconv_pre, pe_long_deconv_pre, best_plants_ms222[fish_num,:], mode='nnls')\n",
    "reconstr_best_long = 72*2e-4*np.convolve(plant_model_best_long, f_best_long)[:len(plant_model_best_long)]\n",
    "\n",
    "# Reconstruction using plant w/ only 2 fastest time constants\n",
    "deconv_file_fast = sio.loadmat('deconv/results/MS-222/fast/'+ms222_traces[fish_num]+'.mat')\n",
    "timeconstants_fast = np.sort(best_fits[0,4:])[-2:]\n",
    "fast_plant = np.concatenate((deconv_file_fast['c'][0], timeconstants_fast))\n",
    "plant_model_fast_short = fitting_functions.exponentialModel(trange_short_deconv, fast_plant)\n",
    "f_fast_short = np.zeros(len(trange_short_deconv))\n",
    "f_fast_short[:len(pe_short_deconv_pre)] = deconvolveEyePos(trange_short_deconv_pre, pe_short_deconv_pre, fast_plant, mode='nnls')\n",
    "reconstr_fast_short = 72*2e-4*np.convolve(plant_model_fast_short, f_fast_short)[:len(plant_model_fast_short)]\n",
    "\n",
    "plant_model_fast_long = fitting_functions.exponentialModel(trange_long_deconv, fast_plant)\n",
    "f_fast_long = np.zeros(len(trange_long_deconv))\n",
    "f_fast_long[:len(pe_long_deconv_pre)] = deconvolveEyePos(trange_long_deconv_pre, pe_long_deconv_pre, fast_plant, mode='nnls')\n",
    "reconstr_fast_long = 72*2e-4*np.convolve(plant_model_fast_long, f_fast_long)[:len(plant_model_fast_long)]"
   ]
  },
  {
   "cell_type": "code",
   "execution_count": 10,
   "metadata": {},
   "outputs": [],
   "source": [
    "trange_short_plot = np.concatenate((trange_short_deconv_pre, short_duration+trange[1:]))\n",
    "pe_short_plot = np.concatenate((pe_short_deconv_pre, pe_short[1:]))\n",
    "\n",
    "trange_long_plot = np.concatenate((trange_long_deconv_pre, long_duration+trange[1:]))\n",
    "pe_long_plot = np.concatenate((pe_long_deconv_pre, pe_long[1:]))"
   ]
  },
  {
   "cell_type": "markdown",
   "metadata": {},
   "source": [
    "## Figure 5B\n",
    "### 10 s, MS-222"
   ]
  },
  {
   "cell_type": "code",
   "execution_count": 25,
   "metadata": {},
   "outputs": [],
   "source": [
    "dt = 72*2e-4\n",
    "\n",
    "t_start_example_full = len(trange_short_deconv_pre)-1\n",
    "t_final_plot = int(3/dt)\n",
    "t_final_example_full = t_start_example_full + int(3/dt)"
   ]
  },
  {
   "cell_type": "code",
   "execution_count": 26,
   "metadata": {},
   "outputs": [
    {
     "data": {
      "image/png": "[encoded data removed]",
      "text/plain": [
       "<Figure size 93.6x93.6 with 2 Axes>"
      ]
     },
     "metadata": {
      "needs_background": "light"
     },
     "output_type": "display_data"
    }
   ],
   "source": [
    "fig = plt.figure(figsize=(1.3,1.3))\n",
    "ax = plt.gca() # plt.subplot(1,2,1)\n",
    "ax.spines['right'].set_visible(False)\n",
    "ax.spines['top'].set_visible(False)\n",
    "\n",
    "# plt.plot(trange_short_plot-10, pe_short_plot, color=(0.75, 0.75, 0.75, 1),clip_on=False)\n",
    "plt.plot(trange[1:], pe_short[1:], c=(0.75,)*3,clip_on=False)\n",
    "# plt.plot(trange_short_deconv-10, reconstr_fast_short,c='C9', linewidth=0.5, clip_on=False)\n",
    "plt.plot(trange_short_deconv-10, reconstr_best_short, c='C3', clip_on=False, linewidth=0.75)\n",
    "\n",
    "\n",
    "plt.xlim([-10, 60])\n",
    "plt.ylim([-0.05,1])\n",
    "\n",
    "ax.set_xticks([0, 20, 40, 60])\n",
    "ax.set_xticklabels([0, '','',60])\n",
    "ax.set_yticks(np.linspace(0, 1, 5))\n",
    "ax.set_yticklabels([0, '','','',1])\n",
    "\n",
    "ax1 = plt.axes([.4, .58, 0.3, .4])\n",
    "plt.yscale('log')\n",
    "plt.plot(trange[1:t_final_plot], pe_short[1:t_final_plot], color=(0.75,)*3)\n",
    "# plt.plot(trange_short_deconv[t_start_example_full:t_final_example_full]-10, reconstr_fast_short[t_start_example_full:t_final_example_full],c='C9', linewidth=0.5)\n",
    "plt.plot(trange_short_deconv[t_start_example_full:t_final_example_full]-10, reconstr_best_short[t_start_example_full:t_final_example_full], c='C3', clip_on=False, linewidth=0.75)\n",
    "\n",
    "ax1.set_ylim([1.75e-1, 1])\n",
    "ax1.set_xlim([-0.1, 3])\n",
    "ax1.set_yticklabels([],minor=True)\n",
    "ax1.yaxis.tick_right()\n",
    "ax1.set_xticks([0, 3])\n",
    "ax1.set_xticklabels([0,3])\n",
    "\n",
    "plt.subplots_adjust(left = 0.12, top = 0.98, bottom=0.18, right=0.95, wspace=0.3)"
   ]
  },
  {
   "cell_type": "markdown",
   "metadata": {},
   "source": [
    "### 60 s, MS-222"
   ]
  },
  {
   "cell_type": "code",
   "execution_count": 19,
   "metadata": {},
   "outputs": [],
   "source": [
    "t_start_example_full = len(trange_long_deconv_pre)-1\n",
    "t_final_plot = int(3/dt)\n",
    "t_final_example_full = t_start_example_full + int(3/dt)"
   ]
  },
  {
   "cell_type": "code",
   "execution_count": 24,
   "metadata": {},
   "outputs": [
    {
     "data": {
      "image/png": "[encoded data removed]",
      "text/plain": [
       "<Figure size 93.6x93.6 with 2 Axes>"
      ]
     },
     "metadata": {
      "needs_background": "light"
     },
     "output_type": "display_data"
    }
   ],
   "source": [
    "fig = plt.figure(figsize=(1.3,1.3))\n",
    "ax = plt.gca() # plt.subplot(1,2,1)\n",
    "ax.spines['right'].set_visible(False)\n",
    "ax.spines['top'].set_visible(False)\n",
    "\n",
    "# plt.plot(trange_short_plot-10, pe_short_plot, color=(0.75, 0.75, 0.75, 1),clip_on=False)\n",
    "plt.plot(trange[1:], pe_long[1:], c=(0.75,)*3,clip_on=False)\n",
    "# plt.plot(trange_long_deconv[3473:]-60, reconstr_fast_long[3473:],c='C9', linewidth=0.5, clip_on=False)\n",
    "plt.plot(trange_long_deconv[3473:]-60, reconstr_best_long[3473:], c='C3', clip_on=False, linewidth=0.75)\n",
    "\n",
    "\n",
    "plt.xlim([-10, 60])\n",
    "plt.ylim([-0.05,1])\n",
    "\n",
    "ax.set_xticks([0, 20, 40, 60])\n",
    "ax.set_xticklabels([0, '','',60])\n",
    "ax.set_yticks(np.linspace(0, 1, 5))\n",
    "ax.set_yticklabels([0, '','','',1])\n",
    "\n",
    "ax1 = plt.axes([.65, .58, 0.3, .4])\n",
    "plt.yscale('log')\n",
    "plt.plot(trange[1:t_final_plot], pe_long[1:t_final_plot], color=(0.75,)*3)\n",
    "# plt.plot(trange_long_deconv[t_start_example_full:t_final_example_full]-60, reconstr_fast_long[t_start_example_full:t_final_example_full],c='C9', linewidth=0.5)\n",
    "plt.plot(trange_long_deconv[t_start_example_full:t_final_example_full]-60, reconstr_best_long[t_start_example_full:t_final_example_full], c='C3', clip_on=False, linewidth=0.75)\n",
    "\n",
    "ax1.set_ylim([3e-1, 1])\n",
    "ax1.set_xlim([-0.1, 3])\n",
    "ax1.set_yticklabels([],minor=True)\n",
    "ax1.yaxis.tick_right()\n",
    "ax1.set_xticks([0, 3])\n",
    "ax1.set_xticklabels([0,3])\n",
    "\n",
    "plt.subplots_adjust(left = 0.12, top = 0.98, bottom=0.18, right=0.95, wspace=0.3)"
   ]
  },
  {
   "cell_type": "markdown",
   "metadata": {},
   "source": [
    "## Force profiles, MS-222"
   ]
  },
  {
   "cell_type": "code",
   "execution_count": 79,
   "metadata": {},
   "outputs": [
    {
     "data": {
      "image/png": "[encoded data removed]",
      "text/plain": [
       "<Figure size 93.6x93.6 with 1 Axes>"
      ]
     },
     "metadata": {
      "needs_background": "light"
     },
     "output_type": "display_data"
    }
   ],
   "source": [
    "plt.figure(figsize=(1.3, 1.3))\n",
    "plt.plot(trange_long_deconv, f_best_long/f_best_long[1], c='k', lw=0.75, label='60 s step')\n",
    "plt.plot(trange_short_deconv, f_best_short/f_best_short[1], c='C3', lw=0.75, label='10 s step')\n",
    "\n",
    "plt.xlim([-5, 100])\n",
    "plt.ylim([0, 1.5])\n",
    "ax = plt.gca()\n",
    "ax.set_yticks(np.linspace(0,1,3))\n",
    "ax.set_yticklabels([0, '',1])\n",
    "\n",
    "ax.set_xticks(np.linspace(0, 100, 5))\n",
    "ax.set_xticklabels([0, '', '', '', 100])\n",
    "ax.spines['top'].set_visible(False)\n",
    "ax.spines['right'].set_visible(False)\n",
    "\n",
    "plt.figtext(0.95, 0.9, '10 s step', color='C3', horizontalalignment='right')\n",
    "plt.figtext(0.95, 0.8, '60 s step', color='k', horizontalalignment='right')\n",
    "\n",
    "plt.subplots_adjust(left=0.12, right=0.95, bottom=0.18, top=0.95)"
   ]
  },
  {
   "cell_type": "markdown",
   "metadata": {},
   "source": [
    "## Plant shape, MS-222"
   ]
  },
  {
   "cell_type": "code",
   "execution_count": 80,
   "metadata": {
    "scrolled": true
   },
   "outputs": [
    {
     "data": {
      "image/png": "[encoded data removed]",
      "text/plain": [
       "<Figure size 93.6x93.6 with 2 Axes>"
      ]
     },
     "metadata": {
      "needs_background": "light"
     },
     "output_type": "display_data"
    }
   ],
   "source": [
    "plt.figure(figsize=(1.3, 1.3))\n",
    "\n",
    "plant_trange = np.arange(0, 10, 72*2e-4)\n",
    "plt.plot(plant_trange, fitting_functions.exponentialModel(plant_trange, fast_plant), c='C9', lw=0.75, label=r'Fastest 2 $\\tau$ plant')\n",
    "plt.plot(plant_trange, fitting_functions.exponentialModel(plant_trange, best_plants_ms222[fish_num, :]), c='C3', lw=0.75, label=r'Best 4 $\\tau$ plant')\n",
    "\n",
    "ax = plt.gca()\n",
    "plt.xlim([-0.5, 10])\n",
    "\n",
    "plt.ylim([-0.05, 1])\n",
    "ax.set_yticks(np.linspace(0, 1, 6))\n",
    "ax.set_yticklabels([0, '','','','',1])\n",
    "ax.spines['top'].set_visible(False)\n",
    "ax.spines['right'].set_visible(False)\n",
    "plt.subplots_adjust(left=0.12, right=0.95, bottom=0.18, top=0.95)\n",
    "\n",
    "\n",
    "\n",
    "ax1 = plt.axes([.555, .35, .395, .25])\n",
    "\n",
    "plt.plot(plant_trange[347:694], fitting_functions.exponentialModel(plant_trange[347:694], fast_plant), c='C9', lw=0.75)\n",
    "plt.plot(plant_trange[347:694], fitting_functions.exponentialModel(plant_trange[347:694], best_plants_ms222[fish_num, :]), c='C3', lw=0.75)\n",
    "ax1.set_xticks([5, 10])\n",
    "ax1.set_xticklabels([])\n",
    "ax1.set_ylim([0, 1e-2])\n",
    "ax1.set_yticks(np.linspace(0,1e-2, 4))\n",
    "ax1.set_yticklabels([0, '', '', 1])\n",
    "\n",
    "\n",
    "ax1.set_xlim([5, 10])\n",
    "plt.figtext(0.55, 0.62, r'$\\times 10^{-2}$', fontsize=6)\n",
    "ax.annotate(\"\",xy=(5, 0.18), xytext=(5, -0.075),arrowprops={'arrowstyle':'-','ls':'--','lw':0.5, 'color':(0.5, 0.5, 0.5, 1)}, clip_on=False)\n",
    "ax.annotate(\"\",xy=(10, 0.18), xytext=(10, -0.075),arrowprops={'arrowstyle':'-','ls':'--','lw':0.5, 'color':(0.5, 0.5, 0.5, 1)}, clip_on=False);"
   ]
  },
  {
   "cell_type": "markdown",
   "metadata": {},
   "source": [
    "# Example traces, Ketamine"
   ]
  },
  {
   "cell_type": "code",
   "execution_count": 27,
   "metadata": {
    "scrolled": true
   },
   "outputs": [],
   "source": [
    "fish_num = 0\n",
    "\n",
    "short_duration = 15\n",
    "long_duration = 90\n",
    "\n",
    "# load fits\n",
    "trange, pe_short, pe_long = fitting_functions.importDataKetamine('../../data/anesthetized/fixed/Ketamine/'+ketamine_traces[fish_num]+'.mat')\n",
    "best_fits = loadBestFits('fit/results/Ketamine/'+ketamine_traces[fish_num]+'.mat', 4)\n",
    "timeconstants = best_fits[0, 4:]\n",
    "\n",
    "# Bridge the gap between release time and real data\n",
    "trange_deconv_mid = np.arange(0, int(0.2304/(72*2e-4))+1)*72*2e-4\n",
    "pe_short_deconv_mid = fitting_functions.exponentialModel(trange_deconv_mid, best_fits[0,:])\n",
    "pe_long_deconv_mid = fitting_functions.exponentialModel(trange_deconv_mid, best_fits[1,:])\n",
    "\n",
    "# Construct 10 s hold\n",
    "trange_short_deconv_pre = np.arange(0, short_duration, 72*2e-4)\n",
    "pe_short_deconv_pre = np.ones(len(trange_short_deconv_pre))\n",
    "# Construct 60 s hold\n",
    "trange_long_deconv_pre = np.arange(0, long_duration, 72*2e-4)\n",
    "pe_long_deconv_pre = np.ones(len(trange_long_deconv_pre))\n",
    "\n",
    "trange_short_deconv = np.concatenate((trange_short_deconv_pre, short_duration+trange_deconv_mid, short_duration+trange[1:]))\n",
    "trange_long_deconv = np.concatenate((trange_long_deconv_pre, long_duration+trange_deconv_mid, long_duration+trange[1:]))\n",
    "\n",
    "pe_short_deconv = np.concatenate((pe_short_deconv_pre, pe_short_deconv_mid, pe_short[1:]))\n",
    "pe_long_deconv = np.concatenate((pe_long_deconv_pre, pe_long_deconv_mid, pe_long[1:]))\n",
    "\n",
    "# Best reconstruction\n",
    "plant_model_best_short = fitting_functions.exponentialModel(trange_short_deconv, best_plants_ketamine[fish_num,:])\n",
    "f_best_short = np.zeros(len(trange_short_deconv))\n",
    "f_best_short[:len(pe_short_deconv_pre)] = deconvolveEyePos(trange_short_deconv_pre, pe_short_deconv_pre, best_plants_ketamine[fish_num,:], mode='nnls')\n",
    "reconstr_best_short = 72*2e-4*np.convolve(plant_model_best_short, f_best_short)[:len(plant_model_best_short)]\n",
    "\n",
    "plant_model_best_long = fitting_functions.exponentialModel(trange_long_deconv, best_plants_ketamine[fish_num,:])\n",
    "f_best_long = np.zeros(len(trange_long_deconv))\n",
    "f_best_long[:len(pe_long_deconv_pre)] = deconvolveEyePos(trange_long_deconv_pre, pe_long_deconv_pre, best_plants_ketamine[fish_num,:], mode='nnls')\n",
    "reconstr_best_long = 72*2e-4*np.convolve(plant_model_best_long, f_best_long)[:len(plant_model_best_long)]\n",
    "\n",
    "# Fast reconstruction\n",
    "deconv_file_fast = sio.loadmat('deconv/results/Ketamine/fast/'+ketamine_traces[fish_num]+'.mat')\n",
    "timeconstants_fast = np.sort(best_fits[0,4:])[-2:]\n",
    "fast_plant = np.concatenate((deconv_file_fast['c'][0], timeconstants_fast))\n",
    "plant_model_fast_short = fitting_functions.exponentialModel(trange_short_deconv, fast_plant)\n",
    "f_fast_short = np.zeros(len(trange_short_deconv))\n",
    "f_fast_short[:len(pe_short_deconv_pre)] = deconvolveEyePos(trange_short_deconv_pre, pe_short_deconv_pre, fast_plant, mode='nnls')\n",
    "reconstr_fast_short = 72*2e-4*np.convolve(plant_model_fast_short, f_fast_short)[:len(plant_model_fast_short)]\n",
    "\n",
    "plant_model_fast_long = fitting_functions.exponentialModel(trange_long_deconv, fast_plant)\n",
    "f_fast_long = np.zeros(len(trange_long_deconv))\n",
    "f_fast_long[:len(pe_long_deconv_pre)] = deconvolveEyePos(trange_long_deconv_pre, pe_long_deconv_pre, fast_plant, mode='nnls')\n",
    "reconstr_fast_long = 72*2e-4*np.convolve(plant_model_fast_long, f_fast_long)[:len(plant_model_fast_long)]"
   ]
  },
  {
   "cell_type": "code",
   "execution_count": 28,
   "metadata": {},
   "outputs": [],
   "source": [
    "trange_short_plot = np.concatenate((trange_short_deconv_pre, short_duration+trange[1:]))\n",
    "pe_short_plot = np.concatenate((pe_short_deconv_pre, pe_short[1:]))\n",
    "\n",
    "trange_long_plot = np.concatenate((trange_long_deconv_pre, long_duration+trange[1:]))\n",
    "pe_long_plot = np.concatenate((pe_long_deconv_pre, pe_long[1:]))"
   ]
  },
  {
   "cell_type": "markdown",
   "metadata": {},
   "source": [
    "## 15s, Ketamine"
   ]
  },
  {
   "cell_type": "code",
   "execution_count": 29,
   "metadata": {},
   "outputs": [],
   "source": [
    "dt = 72*2e-4\n",
    "\n",
    "t_start_example_full = len(trange_short_deconv_pre)-1\n",
    "t_final_plot = int(3/dt)\n",
    "t_final_example_full = t_start_example_full + int(3/dt)"
   ]
  },
  {
   "cell_type": "code",
   "execution_count": 31,
   "metadata": {},
   "outputs": [
    {
     "data": {
      "image/png": "[encoded data removed]",
      "text/plain": [
       "<Figure size 93.6x93.6 with 2 Axes>"
      ]
     },
     "metadata": {
      "needs_background": "light"
     },
     "output_type": "display_data"
    }
   ],
   "source": [
    "fig = plt.figure(figsize=(1.3,1.3))\n",
    "ax = plt.gca() # plt.subplot(1,2,1)\n",
    "ax.spines['right'].set_visible(False)\n",
    "ax.spines['top'].set_visible(False)\n",
    "\n",
    "plt.plot(trange[1:], pe_short[1:], color=(0.75, 0.75, 0.75, 1),clip_on=False)\n",
    "# plt.plot(trange_short_deconv[348:]-15, reconstr_fast_short[348:],c='C9', linewidth=0.5, clip_on=False)\n",
    "plt.plot(trange_short_deconv[348:]-15, reconstr_best_short[348:], c='C3', clip_on=False, linewidth=0.75)\n",
    "\n",
    "plt.xlim([-10, 60])\n",
    "plt.ylim([-0.05,1])\n",
    "\n",
    "ax.set_xticks([0, 20, 40, 60])\n",
    "ax.set_xticklabels([0, '','',60])\n",
    "ax.set_yticks(np.linspace(0, 1, 5))\n",
    "ax.set_yticklabels([0, '','','',1])\n",
    "\n",
    "ax1 = plt.axes([.6, .58, 0.3, .4])\n",
    "plt.yscale('log')\n",
    "plt.plot(trange[1:t_final_plot], pe_short[1:t_final_plot], color=(0.75,)*3)\n",
    "# plt.plot(trange_short_deconv[t_start_example_full:t_final_example_full]-15, reconstr_fast_short[t_start_example_full:t_final_example_full],c='C9', linewidth=0.5)\n",
    "plt.plot(trange_short_deconv[t_start_example_full:t_final_example_full]-15, reconstr_best_short[t_start_example_full:t_final_example_full], c='C3', linewidth=0.75)\n",
    "\n",
    "ax1.set_ylim([2e-1, 1])\n",
    "ax1.set_xlim([-0.1, 3])\n",
    "ax1.set_yticklabels([],minor=True)\n",
    "ax1.yaxis.tick_right()\n",
    "ax1.set_xticks([0,3])\n",
    "ax1.set_xticklabels([0,3])\n",
    "\n",
    "plt.subplots_adjust(left = 0.12, top = 0.98, bottom=0.18, right=0.95, wspace=0.3)"
   ]
  },
  {
   "cell_type": "markdown",
   "metadata": {},
   "source": [
    "## 90 s, MS-222"
   ]
  },
  {
   "cell_type": "code",
   "execution_count": 32,
   "metadata": {},
   "outputs": [],
   "source": [
    "t_start_example_full = len(trange_long_deconv_pre)-1\n",
    "t_final_plot = int(3/dt)\n",
    "t_final_example_full = t_start_example_full + int(3/dt)"
   ]
  },
  {
   "cell_type": "code",
   "execution_count": 34,
   "metadata": {},
   "outputs": [
    {
     "data": {
      "image/png": "[encoded data removed]",
      "text/plain": [
       "<Figure size 93.6x93.6 with 2 Axes>"
      ]
     },
     "metadata": {
      "needs_background": "light"
     },
     "output_type": "display_data"
    }
   ],
   "source": [
    "fig = plt.figure(figsize=(1.3,1.3))\n",
    "ax = plt.gca() # plt.subplot(1,2,1)\n",
    "ax.spines['right'].set_visible(False)\n",
    "ax.spines['top'].set_visible(False)\n",
    "\n",
    "plt.plot(trange[1:], pe_long[1:], color=(0.75, 0.75, 0.75, 1),clip_on=False)\n",
    "# plt.plot(trange_long_deconv[5556:]-90, reconstr_fast_long[5556:],c='C9', linewidth=0.5, clip_on=False)\n",
    "plt.plot(trange_long_deconv[5556:]-90, reconstr_best_long[5556:], c='C3', clip_on=False, linewidth=0.75)\n",
    "\n",
    "plt.xlim([-10, 60])\n",
    "plt.ylim([-0.05,1])\n",
    "\n",
    "ax.set_xticks([0, 20, 40, 60])\n",
    "ax.set_xticklabels([0, '','',60])\n",
    "ax.set_yticks(np.linspace(0, 1, 5))\n",
    "ax.set_yticklabels([0, '','','',1])\n",
    "\n",
    "ax1 = plt.axes([.6, .58, 0.3, .4])\n",
    "plt.yscale('log')\n",
    "plt.plot(trange[1:t_final_plot], pe_long[1:t_final_plot], color=(0.75,)*3)\n",
    "# plt.plot(trange_long_deconv[t_start_example_full:t_final_example_full]-90, reconstr_fast_long[t_start_example_full:t_final_example_full],c='C9', linewidth=0.5)\n",
    "plt.plot(trange_long_deconv[t_start_example_full:t_final_example_full]-90, reconstr_best_long[t_start_example_full:t_final_example_full], c='C3', linewidth=0.75)\n",
    "\n",
    "ax1.set_ylim([3e-1, 1])\n",
    "ax1.set_xlim([-0.1, 3])\n",
    "ax1.set_yticklabels([],minor=True)\n",
    "ax1.yaxis.tick_right()\n",
    "ax1.set_xticks([0,3])\n",
    "ax1.set_xticklabels([0,3])\n",
    "\n",
    "\n",
    "plt.subplots_adjust(left = 0.12, top = 0.98, bottom=0.18, right=0.95, wspace=0.3)"
   ]
  },
  {
   "cell_type": "markdown",
   "metadata": {},
   "source": [
    "## Force profiles, MS-222"
   ]
  },
  {
   "cell_type": "code",
   "execution_count": 85,
   "metadata": {},
   "outputs": [
    {
     "data": {
      "image/png": "[encoded data removed]",
      "text/plain": [
       "<Figure size 93.6x93.6 with 1 Axes>"
      ]
     },
     "metadata": {
      "needs_background": "light"
     },
     "output_type": "display_data"
    }
   ],
   "source": [
    "plt.figure(figsize=(1.3, 1.3))\n",
    "plt.plot(trange_long_deconv, f_best_long/f_best_long[1], c='k', lw=0.75, label='90 s step')\n",
    "plt.plot(trange_short_deconv, f_best_short/f_best_short[1], c='C3', lw=0.75, label='15 s step')\n",
    "\n",
    "plt.xlim([-5, 100])\n",
    "plt.ylim([0, 1.5])\n",
    "ax = plt.gca()\n",
    "ax.set_yticks(np.linspace(0,1,3))\n",
    "ax.set_yticklabels([0, '',1])\n",
    "\n",
    "ax.set_xticks(np.linspace(0, 100, 5))\n",
    "ax.set_xticklabels([0, '', '', '', 100])\n",
    "ax.spines['top'].set_visible(False)\n",
    "ax.spines['right'].set_visible(False)\n",
    "\n",
    "plt.figtext(0.95, 0.9, '15 s step', color='C3', horizontalalignment='right')\n",
    "plt.figtext(0.95, 0.8, '90 s step', color='k', horizontalalignment='right')\n",
    "\n",
    "plt.subplots_adjust(left=0.12, right=0.95, bottom=0.18, top=0.95)"
   ]
  },
  {
   "cell_type": "markdown",
   "metadata": {},
   "source": [
    "# Plant shape, MS-222"
   ]
  },
  {
   "cell_type": "code",
   "execution_count": 86,
   "metadata": {},
   "outputs": [
    {
     "data": {
      "image/png": "[encoded data removed]",
      "text/plain": [
       "<Figure size 93.6x93.6 with 2 Axes>"
      ]
     },
     "metadata": {
      "needs_background": "light"
     },
     "output_type": "display_data"
    }
   ],
   "source": [
    "plt.figure(figsize=(1.3, 1.3))\n",
    "plant_trange = np.arange(0, 10, 72*2e-4)\n",
    "plt.plot(plant_trange, fitting_functions.exponentialModel(plant_trange, fast_plant), c='C9', lw=0.75, label=r'Fastest 2 $\\tau$ plant')\n",
    "plt.plot(plant_trange, fitting_functions.exponentialModel(plant_trange, best_plants_ketamine[fish_num, :]), c='C3', lw=0.75, label=r'Best 4 $\\tau$ plant')\n",
    "\n",
    "ax = plt.gca()\n",
    "plt.xlim([-0.5, 10])\n",
    "# plt.ylim([1e-5, 1])\n",
    "# plt.yscale('log')\n",
    "# plt.xlabel('Time (s)')\n",
    "# plt.ylabel('Inferred plant')\n",
    "plt.ylim([-0.05, 1])\n",
    "ax.set_yticks(np.linspace(0, 1, 6))\n",
    "ax.set_yticklabels([0, '','','','',1])\n",
    "ax.spines['top'].set_visible(False)\n",
    "ax.spines['right'].set_visible(False)\n",
    "plt.subplots_adjust(left=0.12, right=0.95, bottom=0.18, top=0.95)\n",
    "\n",
    "\n",
    "ax1 = plt.axes([.555, .35, .395, .25])\n",
    "# ax1 = plt.axes([.6, .35, .35, .25])\n",
    "plt.plot(plant_trange[347:694], fitting_functions.exponentialModel(plant_trange[347:694], fast_plant), c='C9', lw=0.75)\n",
    "plt.plot(plant_trange[347:694], fitting_functions.exponentialModel(plant_trange[347:694], best_plants_ketamine[fish_num, :]), c='C3', lw=0.75)\n",
    "ax1.set_xticks([5, 10])\n",
    "ax1.set_xticklabels([])\n",
    "ax1.set_ylim([0, 1e-2])\n",
    "ax1.set_yticks(np.linspace(0,1e-2, 4))\n",
    "ax1.set_yticklabels([0, '', '', 1])\n",
    "\n",
    "\n",
    "ax1.set_xlim([5, 10])\n",
    "plt.figtext(0.55, 0.62, r'$\\times 10^{-2}$', fontsize=6)\n",
    "ax.annotate(\"\",xy=(5, 0.18), xytext=(5, -0.075),arrowprops={'arrowstyle':'-','ls':'--','lw':0.5, 'color':(0.5, 0.5, 0.5, 1)}, clip_on=False)\n",
    "ax.annotate(\"\",xy=(10, 0.18), xytext=(10, -0.075),arrowprops={'arrowstyle':'-','ls':'--','lw':0.5, 'color':(0.5, 0.5, 0.5, 1)}, clip_on=False);"
   ]
  },
  {
   "cell_type": "markdown",
   "metadata": {},
   "source": [
    "# Calculate goodness-of-fit"
   ]
  },
  {
   "cell_type": "code",
   "execution_count": 11,
   "metadata": {},
   "outputs": [],
   "source": [
    "def R2(data1, fit1, data2, fit2):\n",
    "    sstot = np.sum((fit1 - np.mean(data1))**2) + np.sum((fit2 - np.mean(data2))**2)\n",
    "    sse = np.sum((fit1 - data1)**2) + np.sum((fit2 - data2)**2)\n",
    "    return 1-sse/sstot"
   ]
  },
  {
   "cell_type": "code",
   "execution_count": 20,
   "metadata": {},
   "outputs": [],
   "source": [
    "def reconstruct(pe_short, pe_long, best_fits, plant_params, anaesthetic_type, mode='lsq_linear'):\n",
    "    if anaesthetic_type == 'MS-222':\n",
    "        short_duration = 10\n",
    "        long_duration = 60\n",
    "    elif anaesthetic_type == 'Ketamine':\n",
    "        short_duration = 15\n",
    "        long_duration = 90\n",
    "    else:\n",
    "        raise ValueError(\"Invalid anaesthetic type.\")\n",
    "\n",
    "    trange_deconv_mid = np.arange(0, int(0.2304/(72*2e-4))+1)*72*2e-4\n",
    "    pe_short_deconv_mid = fitting_functions.exponentialModel(trange_deconv_mid, best_fits[0,:])\n",
    "    pe_long_deconv_mid = fitting_functions.exponentialModel(trange_deconv_mid, best_fits[1,:])\n",
    "\n",
    "    # Construct 10 s hold\n",
    "    trange_short_deconv_pre = np.arange(0, short_duration, 72*2e-4)\n",
    "    pe_short_deconv_pre = np.ones(len(trange_short_deconv_pre))\n",
    "    # Construct 60 s hold\n",
    "    trange_long_deconv_pre = np.arange(0, long_duration, 72*2e-4)\n",
    "    pe_long_deconv_pre = np.ones(len(trange_long_deconv_pre))\n",
    "\n",
    "    trange_short_deconv = np.concatenate((trange_short_deconv_pre, short_duration + trange_deconv_mid, short_duration+trange[1:]))\n",
    "    trange_long_deconv = np.concatenate((trange_long_deconv_pre, long_duration + trange_deconv_mid, long_duration+trange[1:]))\n",
    "\n",
    "    pe_short_deconv = np.concatenate((pe_short_deconv_pre, pe_short_deconv_mid, pe_short[1:]))\n",
    "    pe_long_deconv = np.concatenate((pe_long_deconv_pre, pe_long_deconv_mid, pe_long[1:]))\n",
    "\n",
    "    # Best reconstruction\n",
    "    plant_model_best_short = fitting_functions.exponentialModel(trange_short_deconv, plant_params)\n",
    "    f_best_short = np.zeros(len(trange_short_deconv))\n",
    "    f_best_short[:len(pe_short_deconv_pre)] = deconvolveEyePos(trange_short_deconv_pre, pe_short_deconv_pre, plant_params, mode=mode)\n",
    "    reconstr_best_short = 72*2e-4*np.convolve(plant_model_best_short, f_best_short)[:len(plant_model_best_short)]\n",
    "\n",
    "    plant_model_best_long = fitting_functions.exponentialModel(trange_long_deconv, plant_params)\n",
    "    f_best_long = np.zeros(len(trange_long_deconv))\n",
    "    f_best_long[:len(pe_long_deconv_pre)] = deconvolveEyePos(trange_long_deconv_pre, pe_long_deconv_pre, plant_params, mode=mode)\n",
    "    reconstr_best_long = 72*2e-4*np.convolve(plant_model_best_long, f_best_long)[:len(plant_model_best_long)]\n",
    "\n",
    "    return reconstr_best_short[len(trange_short_deconv_pre)+len(trange_deconv_mid):], reconstr_best_long[len(trange_long_deconv_pre)+len(trange_deconv_mid):]"
   ]
  },
  {
   "cell_type": "code",
   "execution_count": null,
   "metadata": {},
   "outputs": [],
   "source": [
    "num_components = 4\n",
    "\n",
    "r2_deconv_ms222 = np.zeros(len(ms222_traces))\n",
    "\n",
    "dt = 72*2e-4\n",
    "\n",
    "for i in tqdm.notebook.trange(len(ms222_traces)):\n",
    "    trace = ms222_traces[i]\n",
    "    # load time constants\n",
    "    trange, pe_short, pe_long = fitting_functions.importDataMS222('../../data/anesthetized/fixed/MS-222/'+ms222_traces[i]+'.mat')\n",
    "    best_fits = loadBestFits('fit/results/MS-222/'+trace+'.mat', num_components)\n",
    "\n",
    "    timeconstants = best_fits[0, num_components:]\n",
    "    # load coefficients\n",
    "    deconv_file = sio.loadmat('deconv/results/MS-222/'+trace+'/distributed/linear.mat')\n",
    "    plant_params = np.concatenate((deconv_file['c'][0], timeconstants))\n",
    "    trange_full = np.arange(0, trange[-1]/dt)*dt\n",
    "    plant = fitting_functions.exponentialModel(trange_full, plant_params)\n",
    "    reconstr_best_short, reconstr_best_long = reconstruct(pe_short, pe_long, best_fits, plant_params, 'MS-222')\n",
    "    \n",
    "    r2_deconv_ms222[i] = R2(pe_short[1:], reconstr_best_short, pe_long[1:], reconstr_best_long)"
   ]
  },
  {
   "cell_type": "code",
   "execution_count": 24,
   "metadata": {},
   "outputs": [
    {
     "data": {
      "text/plain": [
       "array([0.90398036, 0.93085897, 0.68763905, 0.88841158, 0.83958146,\n",
       "       0.9019527 , 0.92018189, 0.91619974, 0.85461451, 0.85870572])"
      ]
     },
     "execution_count": 24,
     "metadata": {},
     "output_type": "execute_result"
    }
   ],
   "source": [
    "r2_deconv_ms222"
   ]
  },
  {
   "cell_type": "code",
   "execution_count": null,
   "metadata": {},
   "outputs": [],
   "source": [
    "r2_deconv_ketamine = np.zeros(len(ketamine_traces))\n",
    "\n",
    "for i in tqdm.notebook.trange(len(ketamine_traces)):\n",
    "    trace = ketamine_traces[i]\n",
    "    # load time constants\n",
    "    trange, pe_short, pe_long = fitting_functions.importDataKetamine('../../data/anesthetized/fixed/Ketamine/'+ketamine_traces[i]+'.mat')\n",
    "    best_fits = loadBestFits('fit/results/Ketamine/'+trace+'.mat', num_components)\n",
    "\n",
    "    timeconstants = best_fits[0, num_components:]\n",
    "    # load coefficients\n",
    "    deconv_file = sio.loadmat('deconv/results/Ketamine/'+trace+'/distributed/linear.mat')\n",
    "    plant_params = np.concatenate((deconv_file['c'][0], timeconstants))\n",
    "    trange_full = np.arange(0, trange[-1]/dt)*dt\n",
    "    plant = fitting_functions.exponentialModel(trange_full, plant_params)\n",
    "    reconstr_best_short, reconstr_best_long = reconstruct(pe_short, pe_long, best_fits, plant_params, 'Ketamine')\n",
    "    \n",
    "    r2_deconv_ketamine[i] = R2(pe_short[1:], reconstr_best_short, pe_long[1:], reconstr_best_long)"
   ]
  },
  {
   "cell_type": "code",
   "execution_count": 29,
   "metadata": {},
   "outputs": [
    {
     "data": {
      "text/plain": [
       "array([0.88076879, 0.75125716, 0.84987773, 0.94849976, 0.87329374,\n",
       "       0.90835354])"
      ]
     },
     "execution_count": 29,
     "metadata": {},
     "output_type": "execute_result"
    }
   ],
   "source": [
    "r2_deconv_ketamine"
   ]
  },
  {
   "cell_type": "code",
   "execution_count": 30,
   "metadata": {},
   "outputs": [
    {
     "data": {
      "text/plain": [
       "0.8696360434383609"
      ]
     },
     "execution_count": 30,
     "metadata": {},
     "output_type": "execute_result"
    }
   ],
   "source": [
    "np.mean(np.concatenate((r2_deconv_ms222, r2_deconv_ketamine)))"
   ]
  },
  {
   "cell_type": "code",
   "execution_count": 31,
   "metadata": {},
   "outputs": [
    {
     "data": {
      "text/plain": [
       "0.06503788713817914"
      ]
     },
     "execution_count": 31,
     "metadata": {},
     "output_type": "execute_result"
    }
   ],
   "source": [
    "np.std(np.concatenate((r2_deconv_ms222, r2_deconv_ketamine)))"
   ]
  }
 ],
 "metadata": {
  "kernelspec": {
   "display_name": "Python 3",
   "language": "python",
   "name": "python3"
  },
  "language_info": {
   "codemirror_mode": {
    "name": "ipython",
    "version": 3
   },
   "file_extension": ".py",
   "mimetype": "text/x-python",
   "name": "python",
   "nbconvert_exporter": "python",
   "pygments_lexer": "ipython3",
   "version": "3.7.7"
  }
 },
 "nbformat": 4,
 "nbformat_minor": 2
}
