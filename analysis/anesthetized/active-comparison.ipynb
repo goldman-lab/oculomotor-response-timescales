{
 "cells": [
  {
   "cell_type": "code",
   "execution_count": 1,
   "metadata": {},
   "outputs": [],
   "source": [
    "import numpy as np\n",
    "import matplotlib.pyplot as plt\n",
    "%matplotlib inline\n",
    "\n",
    "import scipy.io as sio\n",
    "import scipy.optimize\n",
    "\n",
    "import sys\n",
    "sys.path.append('../../tools/')\n",
    "import fitting_functions"
   ]
  },
  {
   "cell_type": "code",
   "execution_count": 2,
   "metadata": {},
   "outputs": [
    {
     "name": "stderr",
     "output_type": "stream",
     "text": [
      "C:\\Users\\jbhasin\\AppData\\Local\\Continuum\\anaconda3\\lib\\site-packages\\rpy2\\robjects\\pandas2ri.py:17: FutureWarning: pandas.core.index is deprecated and will be removed in a future version.  The public classes are available in the top-level namespace.\n",
      "  from pandas.core.index import Index as PandasIndex\n"
     ]
    }
   ],
   "source": [
    "# Load R interface to do statistics\n",
    "import rpy2.rinterface\n",
    "%load_ext rpy2.ipython"
   ]
  },
  {
   "cell_type": "markdown",
   "metadata": {},
   "source": [
    "# Load short anesthetized fits"
   ]
  },
  {
   "cell_type": "code",
   "execution_count": 3,
   "metadata": {},
   "outputs": [],
   "source": [
    "def loadBestFits(filename, n):\n",
    "    fit_file = sio.loadmat(filename)\n",
    "    lls = fit_file['lls']\n",
    "    fits = fit_file['fits']\n",
    "    best_trace_ind = np.argmax(lls[n-1,:])\n",
    "    best_fits = np.zeros((fits.shape[1], fits[n-1,0].shape[1]))\n",
    "    for i in range(fits.shape[1]):\n",
    "        best_fits[i,:] = fits[n-1,i][best_trace_ind,:]\n",
    "    return best_fits"
   ]
  },
  {
   "cell_type": "code",
   "execution_count": 4,
   "metadata": {},
   "outputs": [],
   "source": [
    "ms222_traces = ['091311a', '091311b', '091311c', '091311d', '091311e', \n",
    "                '091311f', '091411a', '091411d', '091411e', '091411f']\n",
    "\n",
    "ketamine_traces = ['63011d','70911i', '70911l', '70911m', '82411p', '82411r']"
   ]
  },
  {
   "cell_type": "code",
   "execution_count": 5,
   "metadata": {},
   "outputs": [],
   "source": [
    "timeconstants_ms222_3 = np.zeros((len(ms222_traces), 3))\n",
    "\n",
    "for fish_num in range(len(ms222_traces)):\n",
    "    fish_name = ms222_traces[fish_num]\n",
    "    fit_file = sio.loadmat('active-comparison/results/MS-222/'+fish_name+'.mat')\n",
    "    lls_fit = fit_file['lls']\n",
    "    fits = fit_file['fits']\n",
    "    best_trace_ind = np.argmax(lls_fit, axis=1)\n",
    "    timeconstants_ms222_3[fish_num,:] = fits[2,0][best_trace_ind[2],3:]"
   ]
  },
  {
   "cell_type": "code",
   "execution_count": 6,
   "metadata": {},
   "outputs": [],
   "source": [
    "timeconstants_ketamine_3 = np.zeros((len(ketamine_traces), 3))\n",
    "\n",
    "for fish_num in range(len(ketamine_traces)):\n",
    "    fish_name = ketamine_traces[fish_num]\n",
    "    fit_file = sio.loadmat('active-comparison/results/Ketamine/'+fish_name+'.mat')\n",
    "    lls_fit = fit_file['lls']\n",
    "    fits = fit_file['fits']\n",
    "    best_trace_ind = np.argmax(lls_fit, axis=1)\n",
    "    timeconstants_ketamine_3[fish_num,:] = fits[2,0][best_trace_ind[2],3:]"
   ]
  },
  {
   "cell_type": "markdown",
   "metadata": {},
   "source": [
    "### Summary statistics"
   ]
  },
  {
   "cell_type": "code",
   "execution_count": 7,
   "metadata": {},
   "outputs": [],
   "source": [
    "timeconstants_anesthetized_3 = np.vstack((timeconstants_ms222_3, timeconstants_ketamine_3))"
   ]
  },
  {
   "cell_type": "code",
   "execution_count": 22,
   "metadata": {},
   "outputs": [
    {
     "data": {
      "text/plain": [
       "array([ 0.1233626 ,  1.93097298, 29.64831403])"
      ]
     },
     "execution_count": 22,
     "metadata": {},
     "output_type": "execute_result"
    }
   ],
   "source": [
    "np.median(1/timeconstants_anesthetized_3, axis=0)"
   ]
  },
  {
   "cell_type": "code",
   "execution_count": 24,
   "metadata": {},
   "outputs": [
    {
     "name": "stdout",
     "output_type": "stream",
     "text": [
      "1 [0.10392313 0.13424608]\n",
      "2 [1.69814827 2.09908591]\n",
      "3 [25.04221676 38.53749564]\n"
     ]
    }
   ],
   "source": [
    "for i in range(3):\n",
    "    print(i+1, np.percentile(1/timeconstants_anesthetized_3[:,i], [25,75], axis=0))"
   ]
  },
  {
   "cell_type": "markdown",
   "metadata": {},
   "source": [
    "# Load active state fits"
   ]
  },
  {
   "cell_type": "code",
   "execution_count": 9,
   "metadata": {},
   "outputs": [],
   "source": [
    "# Compare to active state traces\n",
    "active_traces = [('090711e_0006',), ('090811c_0002',), ('090811d_0002','090811d_0004',),\n",
    "   ('091111a_0001', '091111a_0003'), ('091111c_0003',), ('091211a_0002', '091211a_0005')]\n",
    "\n",
    "timeconstants_active_3 = np.zeros((len(active_traces), 3))\n",
    "\n",
    "\n",
    "for fish_num in range(len(active_traces)):\n",
    "    fish_name = active_traces[fish_num][0][:-5]\n",
    "    fit_file = sio.loadmat('../active/fit/results/best/'+fish_name+'.mat')\n",
    "    lls_fit = fit_file['lls']\n",
    "    fits = fit_file['fits']\n",
    "    best_trace_ind = np.argmax(lls_fit, axis=1)\n",
    "    timeconstants_active_3[fish_num,:] = fits[2,0][best_trace_ind[2],3:]"
   ]
  },
  {
   "cell_type": "markdown",
   "metadata": {},
   "source": [
    "## Comparison to only MS-222 (10 s) holds"
   ]
  },
  {
   "cell_type": "code",
   "execution_count": 12,
   "metadata": {},
   "outputs": [
    {
     "data": {
      "text/plain": [
       "array([23.08056287,  1.32730911, 23.13331244])"
      ]
     },
     "execution_count": 12,
     "metadata": {},
     "output_type": "execute_result"
    }
   ],
   "source": [
    "# Compare mean time constant values of 15 s fits to mean active state time constants\n",
    "\n",
    "avg_timeconstants_15 = 1/np.mean(timeconstants_ms222_3, axis=0)\n",
    "avg_timeconstants_active = 1/np.mean(timeconstants_active_3, axis=0)\n",
    "np.abs((avg_timeconstants_active - avg_timeconstants_15)/avg_timeconstants_active)*100"
   ]
  },
  {
   "cell_type": "code",
   "execution_count": 13,
   "metadata": {},
   "outputs": [
    {
     "data": {
      "text/plain": [
       "array([30.8780544 , 27.08891622, 18.75444967])"
      ]
     },
     "execution_count": 13,
     "metadata": {},
     "output_type": "execute_result"
    }
   ],
   "source": [
    "# Compare mean time constant values of 15 s fits to mean active state time constants\n",
    "\n",
    "avg_timeconstants_15 = 1/np.median(timeconstants_ms222_3, axis=0)\n",
    "avg_timeconstants_active = 1/np.median(timeconstants_active_3, axis=0)\n",
    "np.abs((avg_timeconstants_active - avg_timeconstants_15)/avg_timeconstants_active)*100"
   ]
  },
  {
   "cell_type": "markdown",
   "metadata": {},
   "source": [
    "## Comparison to all anesthetized larvae"
   ]
  },
  {
   "cell_type": "code",
   "execution_count": 10,
   "metadata": {},
   "outputs": [
    {
     "data": {
      "text/plain": [
       "array([20.95049841,  4.0964791 , 28.33090474])"
      ]
     },
     "execution_count": 10,
     "metadata": {},
     "output_type": "execute_result"
    }
   ],
   "source": [
    "# Compare mean time constant values of 15 s fits to mean active state time constants\n",
    "\n",
    "avg_timeconstants_15 = 1/np.mean(timeconstants_anesthetized_3, axis=0)\n",
    "avg_timeconstants_active = 1/np.mean(timeconstants_active_3, axis=0)\n",
    "np.abs((avg_timeconstants_active - avg_timeconstants_15)/avg_timeconstants_active)*100"
   ]
  },
  {
   "cell_type": "code",
   "execution_count": 11,
   "metadata": {},
   "outputs": [
    {
     "data": {
      "text/plain": [
       "array([27.62782077, 23.36268181, 22.59984104])"
      ]
     },
     "execution_count": 11,
     "metadata": {},
     "output_type": "execute_result"
    }
   ],
   "source": [
    "# Compare median time constant values of 15 s fits to mean active state time constants\n",
    "\n",
    "avg_timeconstants_15 = 1/np.median(timeconstants_anesthetized_3, axis=0)\n",
    "avg_timeconstants_active = 1/np.median(timeconstants_active_3, axis=0)\n",
    "np.abs((avg_timeconstants_active - avg_timeconstants_15)/avg_timeconstants_active)*100"
   ]
  },
  {
   "cell_type": "code",
   "execution_count": 20,
   "metadata": {},
   "outputs": [],
   "source": [
    "i = 2\n",
    "tau_15 = timeconstants_anesthetized_3[:,i]\n",
    "tau_active = timeconstants_active_3[:,i]"
   ]
  },
  {
   "cell_type": "code",
   "execution_count": 21,
   "metadata": {},
   "outputs": [],
   "source": [
    "%%R -i tau_15 -i tau_active\n",
    "\n",
    "wilcox.test(tau_15, tau_active, alternative=\"two.sided\", paired=FALSE, exact=TRUE)"
   ]
  },
  {
   "cell_type": "markdown",
   "metadata": {},
   "source": [
    "$\\tau_1$: W = 72, p-value = 0.08323\n",
    "\n",
    "$\\tau_2$: W = 68, p-value = 0.1545\n",
    "\n",
    "$\\tau_3$: W = 65, p-value = 0.2237"
   ]
  }
 ],
 "metadata": {
  "kernelspec": {
   "display_name": "Python 3",
   "language": "python",
   "name": "python3"
  },
  "language_info": {
   "codemirror_mode": {
    "name": "ipython",
    "version": 3
   },
   "file_extension": ".py",
   "mimetype": "text/x-python",
   "name": "python",
   "nbconvert_exporter": "python",
   "pygments_lexer": "ipython3",
   "version": "3.7.7"
  }
 },
 "nbformat": 4,
 "nbformat_minor": 2
}
