{
 "cells": [
  {
   "cell_type": "code",
   "execution_count": 2,
   "metadata": {},
   "outputs": [],
   "source": [
    "import numpy as np\n",
    "\n",
    "# Save fonts into pdf\n",
    "import matplotlib\n",
    "matplotlib.rcParams['pdf.fonttype'] = 42\n",
    "matplotlib.rcParams['ps.fonttype'] = 42\n",
    "\n",
    "import matplotlib.pyplot as plt\n",
    "%matplotlib inline\n",
    "\n",
    "import scipy.io as sio\n",
    "\n",
    "import sys\n",
    "sys.path.append('../../tools/')\n",
    "import fitting_functions\n",
    "\n",
    "import matplotlib.colors\n",
    "\n",
    "import matplotlib.ticker as ticker\n",
    "\n",
    "import os\n",
    "import scipy.optimize\n",
    "import tqdm.notebook"
   ]
  },
  {
   "cell_type": "code",
   "execution_count": 4,
   "metadata": {},
   "outputs": [],
   "source": [
    "# Set rcParams\n",
    "matplotlib.rcParams.update({'font.size': 8, 'axes.linewidth': 0.5, 'xtick.major.width': 0.5, 'xtick.minor.width': 0.5, \n",
    "                            'ytick.major.width': 0.5,'ytick.minor.width': 0.5, 'xtick.major.pad':2,'ytick.major.pad':2})\n",
    "matplotlib.rcParams.update({'font.family':'sans-serif','font.sans-serif':['Arial'], 'mathtext.default':'sf','mathtext.fontset':'custom'})\n",
    "\n",
    "matplotlib.rcParams.update({'savefig.transparent':True})"
   ]
  },
  {
   "cell_type": "code",
   "execution_count": 5,
   "metadata": {},
   "outputs": [],
   "source": [
    "def deconvolveEyePos(trange, eye_pos, plant, ind=-1):\n",
    "    plant_model = fitting_functions.exponentialModel(trange, plant)\n",
    "    dt = trange[2]-trange[1]\n",
    "    \n",
    "    def convMat(signal, m):\n",
    "        mat = np.zeros((len(signal), m))\n",
    "        mat[:,0] = signal\n",
    "        for i in range(1, m):\n",
    "            mat[i:,i] = signal[:len(signal)-i]\n",
    "        return mat\n",
    "    \n",
    "    if ind == -1:\n",
    "        ind = len(trange)\n",
    "    mat = dt*convMat(plant_model, ind)\n",
    "    optresult = scipy.optimize.lsq_linear(mat, eye_pos, bounds=(0, np.inf))\n",
    "    f_ = np.zeros(len(trange))\n",
    "    f_[:len(optresult.x)] = optresult.x\n",
    "    return f_\n",
    "\n",
    "def exponentialModelConvolved(trange, params, k_cirf):\n",
    "    dt = trange[1] - trange[0]\n",
    "    impulse = np.zeros(len(trange))\n",
    "    impulse[0] = 1./dt*params[-1];\n",
    "    exp_model = fitting_functions.exponentialModel(trange, params[:-1])\n",
    "    cirf = fitting_functions.exponentialModel(trange,np.array([1, k_cirf]))\n",
    "    return dt*np.convolve(exp_model+impulse, cirf)[:len(exp_model)]\n",
    "\n",
    "\n",
    "def calculateR2(trange, fluo, fit, k_cirf):\n",
    "    mu = np.mean(fluo)\n",
    "    sstot = np.sum((fluo - mu)**2)\n",
    "    sse = np.sum((fluo - exponentialModelConvolved(trange, fit, k_cirf))**2)\n",
    "    return 1 - sse/sstot \n",
    "\n",
    "def R2(data,fit):\n",
    "    try:\n",
    "        x = data.shape[0]\n",
    "        sstot = np.sum((fit - np.mean(data))**2)\n",
    "        sse = np.sum((fit - data)**2)\n",
    "    except:\n",
    "        sstot = np.sum([np.sum((fit[i] - np.mean(data[i]))**2) for i in range(len(data))])\n",
    "        sse = np.sum([np.sum((fit[i] - data[i])**2) for i in range(len(data))])\n",
    "    return 1-sse/sstot"
   ]
  },
  {
   "cell_type": "code",
   "execution_count": 6,
   "metadata": {},
   "outputs": [],
   "source": [
    "file_names_fluo = ('110309FISH1', '110609FISH1',\n",
    "             '111209FISH2', '111309FISH1', '111509FISH1', '111609FISH4')"
   ]
  },
  {
   "cell_type": "markdown",
   "metadata": {},
   "source": [
    "# Calculate neural drive for saccadic eye position"
   ]
  },
  {
   "cell_type": "code",
   "execution_count": 7,
   "metadata": {},
   "outputs": [],
   "source": [
    "# Load summary plant\n",
    "plant_file = sio.loadmat('../active/plants/summary-plant.mat')\n",
    "summary_plant = plant_file['plant'][0]"
   ]
  },
  {
   "cell_type": "code",
   "execution_count": 8,
   "metadata": {},
   "outputs": [],
   "source": [
    "# Load true eye position\n",
    "eyepos_ipsi_all_raw = [[],]*len(file_names_fluo)\n",
    "T_start = 0\n",
    "T_end = 4097\n",
    "\n",
    "for i in range(len(file_names_fluo)):\n",
    "    data_file = sio.loadmat('../../data/cells/fluo/' + file_names_fluo[i] + '.mat')\n",
    "    ipsi_pos = data_file['ipsiSTAE6'][0]-data_file['null_pos'][0][0]\n",
    "    ipsi_peak = np.argmax(ipsi_pos)\n",
    "    eyepos_ipsi_all_raw[i] = ipsi_pos[ipsi_peak:]/ipsi_pos[ipsi_peak]\n",
    "T_end = np.min([len(eyepos_ipsi_all_raw[i]) for i in range(len(file_names_fluo))])"
   ]
  },
  {
   "cell_type": "code",
   "execution_count": 9,
   "metadata": {},
   "outputs": [],
   "source": [
    "# Load fits to eye position\n",
    "trange = np.arange(0, T_end, 1)*2e-3\n",
    "eyepos_ipsi_fits = np.zeros((len(file_names_fluo), len(trange)))\n",
    "for i in range(len(file_names_fluo)):   \n",
    "    fit_file = sio.loadmat('../../data/cells/eye/'+file_names_fluo[i]+'.mat')\n",
    "    fit = fit_file['fit'][0]\n",
    "    eyepos_ipsi_fits[i] = fitting_functions.exponentialModel(trange, fit)"
   ]
  },
  {
   "cell_type": "code",
   "execution_count": 10,
   "metadata": {
    "scrolled": true
   },
   "outputs": [
    {
     "data": {
      "application/vnd.jupyter.widget-view+json": {
       "model_id": "ff941776771649f58d34ab1ca8848f17",
       "version_major": 2,
       "version_minor": 0
      },
      "text/plain": [
       "HBox(children=(HTML(value=''), FloatProgress(value=0.0, max=6.0), HTML(value='')))"
      ]
     },
     "metadata": {},
     "output_type": "display_data"
    },
    {
     "name": "stdout",
     "output_type": "stream",
     "text": [
      "\n"
     ]
    }
   ],
   "source": [
    "f_summary_individual = np.zeros((len(file_names_fluo), len(trange)))\n",
    "for i in tqdm.notebook.trange(len(file_names_fluo)):\n",
    "    f_summary_individual[i] = deconvolveEyePos(trange, eyepos_ipsi_fits[i], summary_plant)"
   ]
  },
  {
   "cell_type": "code",
   "execution_count": 11,
   "metadata": {},
   "outputs": [],
   "source": [
    "T_start = 125 # 250 ms"
   ]
  },
  {
   "cell_type": "markdown",
   "metadata": {},
   "source": [
    "# Load cell firing rates"
   ]
  },
  {
   "cell_type": "code",
   "execution_count": 12,
   "metadata": {},
   "outputs": [],
   "source": [
    "cell_fr = np.zeros((151, len(trange)))\n",
    "auc_fr = np.zeros(151)\n",
    "\n",
    "ss_ratio_cutoff = 7e-3\n",
    "\n",
    "j = 0\n",
    "for i in range(len(file_names_fluo)):\n",
    "    filename = file_names_fluo[i]\n",
    "    data_file = sio.loadmat('../../data/cells/fluo/'+filename+'.mat')\n",
    "    fluo_ipsi = data_file['FluoIpsi']\n",
    "    eyepos_ipsi = data_file['ipsiSTAE6'][0]-data_file['null_pos'][0][0]\n",
    "    fluo_contra = data_file['FluoContra']\n",
    "    \n",
    "    fluo_ipsi_means = np.mean(fluo_ipsi[1537-1000:1537-500,:], axis=0)\n",
    "    fluo_contra_means= np.mean(fluo_contra[1537+2000:1537+2500,:], axis=0)\n",
    "    fluo_means = np.minimum(fluo_ipsi_means, fluo_contra_means)\n",
    "\n",
    "    ipsi_peak = np.argmax(eyepos_ipsi)\n",
    "\n",
    "    trange_full = np.arange(0, 2e-3*4097, 2e-3)\n",
    "\n",
    "    fit_file_ipsi = sio.loadmat('fit/results/'+filename+'_ipsi.mat')\n",
    "    best_fits_ipsi_fish = fit_file_ipsi['fits'][0]\n",
    "    k_cirf = fit_file_ipsi['k_cirf'][0]\n",
    "    indices = fit_file_ipsi['indices'][0]\n",
    "    \n",
    "    for k in range(len(best_fits_ipsi_fish)):\n",
    "        ind = indices[k]\n",
    "        best_fit_ = best_fits_ipsi_fish[k][0]\n",
    "        fluo = fluo_ipsi[:,ind]-fluo_means[ind]\n",
    "        model = exponentialModelConvolved(trange_full[:-ipsi_peak],best_fit_, k_cirf[k])\n",
    "        ss_ratio_ = np.sum((fluo[ipsi_peak:]-model)**2)/np.sum((fluo[ipsi_peak:])**2)\n",
    "        \n",
    "        if ss_ratio_ < ss_ratio_cutoff:\n",
    "            cell_fr[j,:] = fitting_functions.exponentialModel(trange, best_fit_[:-1])\n",
    "            auc_fr[j] = np.sum(cell_fr[j,T_start:]/cell_fr[j,T_start])/len(cell_fr[j,T_start:])\n",
    "            j+= 1"
   ]
  },
  {
   "cell_type": "markdown",
   "metadata": {},
   "source": [
    "# Fit neural drive with cells"
   ]
  },
  {
   "cell_type": "code",
   "execution_count": 13,
   "metadata": {},
   "outputs": [],
   "source": [
    "def binarySearchNeuronFitExcitatory(A, b, inds_, lmb_max = 10, lmb_min = 0, iter_lim = 20, termination_range = [0.1499, 0.1501], pos_thresh = 1e-4, verbose=False):\n",
    "    lmb_ = 0.5*(lmb_max + lmb_min)\n",
    "    termination_range = np.array(termination_range)\n",
    "    A_ = A[:, inds_]\n",
    "    num_cells = len(inds_)\n",
    "    \n",
    "    for i in range(iter_lim):\n",
    "        AA = np.vstack((A_, np.sqrt(lmb_*(len(b)-1))*np.eye(len(inds_))))\n",
    "        w_, err_ = scipy.optimize.nnls(AA, np.concatenate((b, np.zeros(len(inds_)))))\n",
    "        pct_pos = np.sum(w_ > pos_thresh)/num_cells\n",
    "        if verbose:\n",
    "            print(\"Iteration\",i+1,\"\\% pos:\",pct_pos)\n",
    "\n",
    "        if termination_range[0] < pct_pos < termination_range[1]:\n",
    "            break\n",
    "        elif pct_pos > termination_range[1]:\n",
    "            lmb_max = lmb_\n",
    "        elif pct_pos < termination_range[0]:\n",
    "            lmb_min = lmb_\n",
    "        lmb_ = 0.5*(lmb_min + lmb_max)\n",
    "\n",
    "    return w_, lmb_, pct_pos, err_"
   ]
  },
  {
   "cell_type": "code",
   "execution_count": 14,
   "metadata": {},
   "outputs": [],
   "source": [
    "n_cells = cell_fr.shape[0]\n",
    "sort_inds = np.argsort(auc_fr)\n",
    "\n",
    "cells_sorted = cell_fr[sort_inds,T_start:]"
   ]
  },
  {
   "cell_type": "code",
   "execution_count": 15,
   "metadata": {},
   "outputs": [
    {
     "data": {
      "application/vnd.jupyter.widget-view+json": {
       "model_id": "bbec64dd450546bd822d9fd22185d4b1",
       "version_major": 2,
       "version_minor": 0
      },
      "text/plain": [
       "HBox(children=(HTML(value=''), FloatProgress(value=0.0, max=6.0), HTML(value='')))"
      ]
     },
     "metadata": {},
     "output_type": "display_data"
    },
    {
     "name": "stdout",
     "output_type": "stream",
     "text": [
      "\n"
     ]
    }
   ],
   "source": [
    "ws_total = np.zeros((len(file_names_fluo), n_cells))\n",
    "lmbs_ = np.zeros(len(file_names_fluo))\n",
    "for i in tqdm.notebook.trange(len(file_names_fluo)):\n",
    "    b_ind = f_summary_individual[i][T_start:]/f_summary_individual[i][T_start]\n",
    "    w_exc, lmb_exc, pct_pos, err_exc = binarySearchNeuronFitExcitatory(cells_sorted.T, b_ind, np.arange(n_cells), \n",
    "                                                                   termination_range=[0.49,0.51], verbose=False)\n",
    "    ws_total[i,:] = w_exc\n",
    "    lmbs_[i] = lmb_exc"
   ]
  },
  {
   "cell_type": "markdown",
   "metadata": {},
   "source": [
    "## Fit quality"
   ]
  },
  {
   "cell_type": "code",
   "execution_count": 118,
   "metadata": {},
   "outputs": [
    {
     "data": {
      "image/png": "[encoded data removed]",
      "text/plain": [
       "<Figure size 432x288 with 6 Axes>"
      ]
     },
     "metadata": {
      "needs_background": "light"
     },
     "output_type": "display_data"
    }
   ],
   "source": [
    "r2s_neural_drive = np.zeros(len(file_names_fluo))\n",
    "for i in range(len(file_names_fluo)):\n",
    "    b_ind = f_summary_individual[i][T_start:]/f_summary_individual[i][T_start]\n",
    "    plt.subplot(3,2,i+1)\n",
    "    plt.plot(trange[T_start:], b_ind, c=(0.5,0.5,0.5))\n",
    "    plt.plot(trange[T_start:], ws_total[i,:]@cells_sorted)\n",
    "    plt.ylim([0,1.15])\n",
    "    r2s_neural_drive[i] = R2(b_ind, ws_total[i,:]@cells_sorted)\n",
    "plt.tight_layout()"
   ]
  },
  {
   "cell_type": "code",
   "execution_count": 119,
   "metadata": {},
   "outputs": [
    {
     "data": {
      "text/plain": [
       "0.9998774179495775"
      ]
     },
     "execution_count": 119,
     "metadata": {},
     "output_type": "execute_result"
    }
   ],
   "source": [
    "np.median(r2s_neural_drive)"
   ]
  },
  {
   "cell_type": "code",
   "execution_count": 120,
   "metadata": {},
   "outputs": [
    {
     "data": {
      "text/plain": [
       "(0.9997095168522353, 0.9999370280497154)"
      ]
     },
     "execution_count": 120,
     "metadata": {},
     "output_type": "execute_result"
    }
   ],
   "source": [
    "np.min(r2s_neural_drive), np.max(r2s_neural_drive)"
   ]
  },
  {
   "cell_type": "markdown",
   "metadata": {},
   "source": [
    "## Weights"
   ]
  },
  {
   "cell_type": "code",
   "execution_count": 121,
   "metadata": {},
   "outputs": [
    {
     "data": {
      "image/png": "[encoded data removed]",
      "text/plain": [
       "<Figure size 432x288 with 6 Axes>"
      ]
     },
     "metadata": {
      "needs_background": "light"
     },
     "output_type": "display_data"
    }
   ],
   "source": [
    "for i in range(len(file_names_fluo)):\n",
    "    plt.subplot(3,2,i+1)\n",
    "    plt.bar(np.arange(n_cells)+1, ws_total[i,:],1)\n",
    "plt.tight_layout()"
   ]
  },
  {
   "cell_type": "code",
   "execution_count": 122,
   "metadata": {},
   "outputs": [
    {
     "data": {
      "text/plain": [
       "0.5022075055187638"
      ]
     },
     "execution_count": 122,
     "metadata": {},
     "output_type": "execute_result"
    }
   ],
   "source": [
    "np.mean([np.sum(ws_total[i,:]>0)/n_cells for i in range(len(file_names_fluo))])"
   ]
  },
  {
   "cell_type": "markdown",
   "metadata": {},
   "source": [
    "### Figure 9F"
   ]
  },
  {
   "cell_type": "code",
   "execution_count": 134,
   "metadata": {},
   "outputs": [
    {
     "data": {
      "image/png": "[encoded data removed]",
      "text/plain": [
       "<Figure size 93.6x93.6 with 1 Axes>"
      ]
     },
     "metadata": {
      "needs_background": "light"
     },
     "output_type": "display_data"
    }
   ],
   "source": [
    "plt.figure(figsize=(1.3, 1.3))\n",
    "plt.bar(np.arange(n_cells), np.mean(ws_total,axis=0), 1, color='C3')\n",
    "\n",
    "ax = plt.gca()\n",
    "ax.spines['top'].set_visible(False)\n",
    "ax.spines['right'].set_visible(False)\n",
    "\n",
    "ax.set_xticks(np.linspace(0, n_cells, 4))\n",
    "ax.set_xticklabels([1, '','', n_cells])\n",
    "plt.xlim([-3, n_cells])\n",
    "\n",
    "ax.set_yticks(np.linspace(0, 0.2, 5))\n",
    "ax.set_yticklabels([0, '', '','',0.2 ])\n",
    "\n",
    "plt.subplots_adjust(left=0.21, bottom=0.18, right=0.98, top=0.96)"
   ]
  },
  {
   "cell_type": "markdown",
   "metadata": {},
   "source": [
    "# Mock population fits"
   ]
  },
  {
   "cell_type": "code",
   "execution_count": 92,
   "metadata": {},
   "outputs": [
    {
     "data": {
      "application/vnd.jupyter.widget-view+json": {
       "model_id": "20408edac0be43ba8da4faaccf666a50",
       "version_major": 2,
       "version_minor": 0
      },
      "text/plain": [
       "HBox(children=(HTML(value=''), FloatProgress(value=0.0, max=6.0), HTML(value='')))"
      ]
     },
     "metadata": {},
     "output_type": "display_data"
    },
    {
     "data": {
      "application/vnd.jupyter.widget-view+json": {
       "model_id": "",
       "version_major": 2,
       "version_minor": 0
      },
      "text/plain": [
       "HBox(children=(HTML(value=''), FloatProgress(value=0.0), HTML(value='')))"
      ]
     },
     "metadata": {},
     "output_type": "display_data"
    },
    {
     "data": {
      "application/vnd.jupyter.widget-view+json": {
       "model_id": "",
       "version_major": 2,
       "version_minor": 0
      },
      "text/plain": [
       "HBox(children=(HTML(value=''), FloatProgress(value=0.0), HTML(value='')))"
      ]
     },
     "metadata": {},
     "output_type": "display_data"
    },
    {
     "data": {
      "application/vnd.jupyter.widget-view+json": {
       "model_id": "",
       "version_major": 2,
       "version_minor": 0
      },
      "text/plain": [
       "HBox(children=(HTML(value=''), FloatProgress(value=0.0), HTML(value='')))"
      ]
     },
     "metadata": {},
     "output_type": "display_data"
    },
    {
     "data": {
      "application/vnd.jupyter.widget-view+json": {
       "model_id": "",
       "version_major": 2,
       "version_minor": 0
      },
      "text/plain": [
       "HBox(children=(HTML(value=''), FloatProgress(value=0.0), HTML(value='')))"
      ]
     },
     "metadata": {},
     "output_type": "display_data"
    },
    {
     "data": {
      "application/vnd.jupyter.widget-view+json": {
       "model_id": "",
       "version_major": 2,
       "version_minor": 0
      },
      "text/plain": [
       "HBox(children=(HTML(value=''), FloatProgress(value=0.0), HTML(value='')))"
      ]
     },
     "metadata": {},
     "output_type": "display_data"
    },
    {
     "data": {
      "application/vnd.jupyter.widget-view+json": {
       "model_id": "",
       "version_major": 2,
       "version_minor": 0
      },
      "text/plain": [
       "HBox(children=(HTML(value=''), FloatProgress(value=0.0), HTML(value='')))"
      ]
     },
     "metadata": {},
     "output_type": "display_data"
    },
    {
     "name": "stdout",
     "output_type": "stream",
     "text": [
      "\n"
     ]
    }
   ],
   "source": [
    "n_cells_mock = 150\n",
    "its = 100\n",
    "\n",
    "trange_models = np.copy(trange[:-T_start])\n",
    "best_fits_mock = np.zeros((6, its, len(trange_models)))\n",
    "\n",
    "inds = np.arange(6) # [5,3]\n",
    "for k in tqdm.notebook.trange(len(inds)):\n",
    "    j = inds[k]\n",
    "    b_ind = f_summary_individual[j][T_start:]/f_summary_individual[j][T_start]\n",
    "    for it in tqdm.notebook.trange(its, leave=False):\n",
    "        # generate random time constants\n",
    "        taus_long= np.power(10, 1.3+0.7*np.random.rand(n_cells_mock//2))\n",
    "        taus_short = np.random.rand(n_cells_mock//2)\n",
    "\n",
    "        taus = np.concatenate((taus_short, taus_long))\n",
    "\n",
    "        models = np.zeros((n_cells_mock, len(trange_models)))\n",
    "        mock_aucs = np.zeros(n_cells_mock)\n",
    "\n",
    "        for i in range(n_cells_mock):\n",
    "            models[i] = np.exp(-trange_models/taus[i])\n",
    "            mock_aucs[i] = np.sum(models[i])/len(trange_models)   \n",
    "\n",
    "        mock_cells_sorted = np.argsort(mock_aucs)\n",
    "        mock_aucs_sorted = mock_aucs[mock_cells_sorted]\n",
    "        models_sorted = models[mock_cells_sorted,:]\n",
    "\n",
    "        w_exc_mock, lmb_exc_mock, pct_pos_mock, err_exc_mock = binarySearchNeuronFitExcitatory(models_sorted.T, b_ind, np.arange(n_cells_mock),\n",
    "                                                                       termination_range=[0.49,0.51], verbose=False)\n",
    "\n",
    "        best_fits_mock[j, it,:] = w_exc_mock@models_sorted"
   ]
  },
  {
   "cell_type": "code",
   "execution_count": 94,
   "metadata": {},
   "outputs": [],
   "source": [
    "best_fits_confidence = np.zeros((6,len(trange_models), 2))\n",
    "best_fits_median = np.zeros((6,len(trange_models)))\n",
    "for i in range(6):\n",
    "    best_fits_confidence[i,:,0] = np.percentile(best_fits_mock[i,:,:], 2.5, axis=0)\n",
    "    best_fits_confidence[i,:,1] = np.percentile(best_fits_mock[i,:,:], 97.5, axis=0)\n",
    "    best_fits_median[i,:] = np.median(best_fits_mock[i,:,:], axis=0)"
   ]
  },
  {
   "cell_type": "code",
   "execution_count": 97,
   "metadata": {},
   "outputs": [],
   "source": [
    "# Load saved version\n",
    "\n",
    "mock_summary_file = sio.loadmat('mock/mock-populations.mat')\n",
    "best_fits_confidence = mock_summary_file['confidence']\n",
    "best_fits_median = mock_summary_file['medians']"
   ]
  },
  {
   "cell_type": "code",
   "execution_count": 108,
   "metadata": {},
   "outputs": [],
   "source": [
    "mse_ratios = np.zeros(6)\n",
    "persistences_ind = np.zeros(6)\n",
    "for i in range(6):\n",
    "    b_ind = f_summary_individual[i][T_start:]/f_summary_individual[i][T_start]\n",
    "    mse_mock = np.mean((best_fits_median[i,:] - b_ind)**2)\n",
    "    mse_data = np.mean((ws_total[i,:]@cells_sorted - b_ind)**2)\n",
    "    mse_ratios[i] = mse_mock/mse_data\n",
    "    persistences_ind[i] = np.sum(b_ind)/len(b_ind)"
   ]
  },
  {
   "cell_type": "code",
   "execution_count": 104,
   "metadata": {},
   "outputs": [
    {
     "data": {
      "text/plain": [
       "506.20877974161385"
      ]
     },
     "execution_count": 104,
     "metadata": {},
     "output_type": "execute_result"
    }
   ],
   "source": [
    "np.median(mse_ratios)"
   ]
  },
  {
   "cell_type": "code",
   "execution_count": 105,
   "metadata": {},
   "outputs": [
    {
     "data": {
      "text/plain": [
       "(163.2696388451141, 977.8229666230634)"
      ]
     },
     "execution_count": 105,
     "metadata": {},
     "output_type": "execute_result"
    }
   ],
   "source": [
    "np.min(mse_ratios), np.max(mse_ratios)"
   ]
  },
  {
   "cell_type": "code",
   "execution_count": 107,
   "metadata": {},
   "outputs": [
    {
     "data": {
      "image/png": "[encoded data removed]",
      "text/plain": [
       "<Figure size 432x288 with 6 Axes>"
      ]
     },
     "metadata": {
      "needs_background": "light"
     },
     "output_type": "display_data"
    }
   ],
   "source": [
    "for i in range(len(file_names_fluo)):\n",
    "    b_ind = f_summary_individual[i][T_start:T_end]/f_summary_individual[i][T_start]\n",
    "    plt.subplot(3,2,i+1)\n",
    "    plt.plot(trange[T_start:], b_ind, c=(0.5,0.5,0.5), lw=1)\n",
    "    plt.plot(trange[T_start:], ws_total[i,:]@cells_sorted, c='C3', lw=0.75, ls='--')\n",
    "    plt.plot(trange[T_start:], best_fits_median[i,:], c='C9',lw=0.75)"
   ]
  },
  {
   "cell_type": "markdown",
   "metadata": {},
   "source": [
    "## Figure 9E: reconstruction of neural drive"
   ]
  },
  {
   "cell_type": "code",
   "execution_count": 110,
   "metadata": {},
   "outputs": [
    {
     "data": {
      "text/plain": [
       "array([5, 4, 0, 2, 1, 3])"
      ]
     },
     "execution_count": 110,
     "metadata": {},
     "output_type": "execute_result"
    }
   ],
   "source": [
    "np.argsort(persistences_ind)"
   ]
  },
  {
   "cell_type": "code",
   "execution_count": 112,
   "metadata": {},
   "outputs": [
    {
     "data": {
      "image/png": "[encoded data removed]",
      "text/plain": [
       "<Figure size 158.4x93.6 with 2 Axes>"
      ]
     },
     "metadata": {
      "needs_background": "light"
     },
     "output_type": "display_data"
    }
   ],
   "source": [
    "plt.figure(figsize=(2.2, 1.3))\n",
    "# colors = ['C3', 'C9']\n",
    "inds = [5,3]\n",
    "for i in range(len(inds)):\n",
    "    ax = plt.subplot(1,2,i+1)\n",
    "    j = inds[i]\n",
    "    b_ind = f_summary_individual[j][T_start:T_end]/f_summary_individual[j][T_start]\n",
    "    plt.plot(trange[T_start:], b_ind, c=(0.5, 0.5, 0.5, 1), lw=1, label='Neural drive estimate')\n",
    "    \n",
    "    \n",
    "    plt.fill_between(trange[T_start:], best_fits_confidence[i,:,0], best_fits_confidence[i,:,1], color='C9', alpha=0.3)\n",
    "    plt.plot(trange[T_start:], best_fits_median[i,:], c='C9', lw=0.75)\n",
    "\n",
    "    plt.plot(trange[T_start:], ws_total[j,:]@cells_sorted, '--', c='C3', lw=0.75, label='Regularized fit to cells')\n",
    "\n",
    "    ax = plt.gca()\n",
    "    # ax.text(1,0.8, r'$R^2 = %.3f$' % R2(b_ind, ws_total[i,:]@cells_sorted), color='C3', ha='right',transform=ax.transAxes)\n",
    "    ax.spines['top'].set_visible(False)\n",
    "    ax.spines['right'].set_visible(False)\n",
    "    ax.set_ylim([0, 1.15])\n",
    "    # plt.xlabel('Time after saccade end (s)')\n",
    "    # plt.ylabel('Normalized neural drive')\n",
    "    ax.set_yticks(np.linspace(0, 1, 5))\n",
    "    ax.set_yticklabels([0,'','','',1])\n",
    "    plt.xlim([0, 6])\n",
    "    ax.set_xticks(np.linspace(0, 6, 5))\n",
    "    ax.set_xticklabels([0, '', '', '', 6])\n",
    "plt.tight_layout()\n",
    "plt.subplots_adjust(left=0.1, bottom=0.18, right=0.98, top=0.96)"
   ]
  }
 ],
 "metadata": {
  "kernelspec": {
   "display_name": "Python 3",
   "language": "python",
   "name": "python3"
  },
  "language_info": {
   "codemirror_mode": {
    "name": "ipython",
    "version": 3
   },
   "file_extension": ".py",
   "mimetype": "text/x-python",
   "name": "python",
   "nbconvert_exporter": "python",
   "pygments_lexer": "ipython3",
   "version": "3.7.7"
  }
 },
 "nbformat": 4,
 "nbformat_minor": 4
}
