{
 "cells": [
  {
   "cell_type": "code",
   "execution_count": 2,
   "metadata": {},
   "outputs": [],
   "source": [
    "import numpy as np\n",
    "\n",
    "# Save fonts into pdf\n",
    "import matplotlib\n",
    "matplotlib.rcParams['pdf.fonttype'] = 42\n",
    "matplotlib.rcParams['ps.fonttype'] = 42\n",
    "\n",
    "import matplotlib.pyplot as plt\n",
    "%matplotlib inline\n",
    "\n",
    "import scipy.io as sio\n",
    "\n",
    "import sys\n",
    "sys.path.append('../../tools/')\n",
    "import fitting_functions\n",
    "\n",
    "import matplotlib.colors\n",
    "\n",
    "import matplotlib.ticker as ticker\n",
    "\n",
    "import os"
   ]
  },
  {
   "cell_type": "code",
   "execution_count": null,
   "metadata": {},
   "outputs": [],
   "source": [
    "# Load R interface to do statistics\n",
    "import rpy2.rinterface\n",
    "%load_ext rpy2.ipython"
   ]
  },
  {
   "cell_type": "code",
   "execution_count": 3,
   "metadata": {},
   "outputs": [],
   "source": [
    "def exponentialModelConvolved(trange, params, k_cirf):\n",
    "    dt = trange[1] - trange[0]\n",
    "    impulse = np.zeros(len(trange))\n",
    "    impulse[0] = 1./dt*params[-1];\n",
    "    exp_model = fitting_functions.exponentialModel(trange, params[:-1])\n",
    "    cirf = fitting_functions.exponentialModel(trange,np.array([1, k_cirf]))\n",
    "    return dt*np.convolve(exp_model+impulse, cirf)[:len(exp_model)]\n",
    "\n",
    "def deconvolveEyePos(trange, eye_pos, plant, ind=-1):\n",
    "    plant_model = fitting_functions.exponentialModel(trange, plant)\n",
    "    dt = trange[2]-trange[1]\n",
    "    \n",
    "    def convMat(signal, m):\n",
    "        mat = np.zeros((len(signal), m))\n",
    "        mat[:,0] = signal\n",
    "        for i in range(1, m):\n",
    "            mat[i:,i] = signal[:len(signal)-i]\n",
    "        return mat\n",
    "    \n",
    "    if ind == -1:\n",
    "        ind = len(trange)\n",
    "    mat = dt*convMat(plant_model, ind)\n",
    "    optresult = scipy.optimize.lsq_linear(mat, eye_pos, bounds=(0, np.inf))\n",
    "    f_ = np.zeros(len(trange))\n",
    "    f_[:len(optresult.x)] = optresult.x\n",
    "    return f_\n",
    "\n",
    "def calculateR2(trange, fluo, fit, k_cirf):\n",
    "    mu = np.mean(fluo)\n",
    "    sstot = np.sum((fluo - mu)**2)\n",
    "    sse = np.sum((fluo - exponentialModelConvolved(trange, fit, k_cirf))**2)\n",
    "    return 1 - sse/sstot \n",
    "\n",
    "def correlation(series1, series2):\n",
    "    series1_mu = np.mean(series1)\n",
    "    series2_mu = np.mean(series2)\n",
    "    cov = np.sum((series1 - series1_mu)*(series2-series2_mu))\n",
    "    return cov/(np.sqrt(np.sum((series1 - series1_mu)**2)*np.sum((series2-series2_mu)**2)))"
   ]
  },
  {
   "cell_type": "code",
   "execution_count": 4,
   "metadata": {},
   "outputs": [],
   "source": [
    "# Set rcParams\n",
    "matplotlib.rcParams.update({'font.size': 8, 'axes.linewidth': 0.5, 'xtick.major.width': 0.5, 'xtick.minor.width': 0.5, \n",
    "                            'ytick.major.width': 0.5,'ytick.minor.width': 0.5, 'xtick.major.pad':2,'ytick.major.pad':2})\n",
    "matplotlib.rcParams.update({'font.family':'sans-serif','font.sans-serif':['Arial'], 'mathtext.default':'sf','mathtext.fontset':'custom'})\n",
    "\n",
    "matplotlib.rcParams.update({'savefig.transparent':True})"
   ]
  },
  {
   "cell_type": "code",
   "execution_count": 5,
   "metadata": {},
   "outputs": [],
   "source": [
    "file_names = ('110309FISH1', '110609FISH1',\n",
    "             '111209FISH2', '111309FISH1', '111509FISH1', '111609FISH4')"
   ]
  },
  {
   "cell_type": "markdown",
   "metadata": {},
   "source": [
    "# Contra fits to determine CIRF time constants"
   ]
  },
  {
   "cell_type": "code",
   "execution_count": 9,
   "metadata": {
    "scrolled": true
   },
   "outputs": [
    {
     "name": "stderr",
     "output_type": "stream",
     "text": [
      "/Users/jbhasin/opt/anaconda3/lib/python3.7/site-packages/ipykernel_launcher.py:38: RuntimeWarning: invalid value encountered in double_scalars\n"
     ]
    }
   ],
   "source": [
    "trange = np.arange(0, 2e-3*4097, 2e-3)\n",
    "r2s_fluos = [] # Calculate R^2 of fits to fluorescence\n",
    "r_eyepos = [] # Calculate correlation between eye position convolved with CIRF and fluorescence\n",
    "taus = [] # Collect CIRF (inverse) time constants\n",
    "\n",
    "# Set to True to produce plots showing comparison of eye position convolved with CIRF and fluorescence\n",
    "make_figure_eye = False\n",
    "if make_figure_eye:\n",
    "    if not os.path.isdir('plots'):\n",
    "        os.makedirs('plots/eye')\n",
    "\n",
    "# Set to True to produce plots showing quality of CIRF fits        \n",
    "make_figure_fluo = False\n",
    "if make_figure_fluo:\n",
    "    if not os.path.isdir('plots'):\n",
    "        os.makedirs('plots/fluo')\n",
    "\n",
    "for i in range(len(file_names)):\n",
    "    data_file = sio.loadmat('../../data/cells/fluo/'+file_names[i]+'.mat')\n",
    "    fluo_ipsi = data_file['FluoIpsi']\n",
    "    fluo_contra = data_file['FluoContra']\n",
    "    eyepos_ipsi = data_file['ipsiSTAE6smoo'][0]\n",
    "    eyepos_contra = data_file['contraSTAE6smoo'][0]\n",
    "    \n",
    "    saccade_end = len(eyepos_contra) - 3072\n",
    "    \n",
    "    fluo_ipsi_means = np.mean(fluo_ipsi[1537-1000:1537-500, :], axis=0)\n",
    "    fluo_contra_means = np.mean(fluo_contra[1537+2000:1537+2500, :], axis=0)\n",
    "    fluo_means = np.minimum(fluo_ipsi_means, fluo_contra_means)\n",
    "    \n",
    "    fits_file = sio.loadmat('cirf/results/'+file_names[i]+'_contra.mat')\n",
    "    best_cirf_fits = fits_file['fits']\n",
    "    best_cirf_r2s = fits_file['r2'][0]\n",
    "    \n",
    "    r2s_fluos.append(best_cirf_r2s)\n",
    "    taus.append(best_cirf_fits[:,1])\n",
    "    \n",
    "    # for plotting:\n",
    "    num_cells = best_cirf_fits.shape[0]\n",
    "    num_rows = int(np.ceil(num_cells/4))\n",
    "    \n",
    "    r_eyepos_temp = np.zeros(num_cells)\n",
    "    \n",
    "    \n",
    "    if make_figure_eye:\n",
    "        plt.figure(figsize=(1.6*4,1.5*num_rows));\n",
    "        \n",
    "    for k in range(best_cirf_fits.shape[0]):\n",
    "        \n",
    "        cirf_filter = fitting_functions.exponentialModel(trange, best_cirf_fits[k,:])\n",
    "        cirf_conv_eye_pos = 2e-3*np.convolve(eyepos_contra, cirf_filter)[:len(cirf_filter)]\n",
    "        fluo_data = fluo_contra[saccade_end-1000:,k]-fluo_means[k]\n",
    "        \n",
    "        r_eyepos_temp[k] = correlation(fluo_data, cirf_conv_eye_pos[saccade_end-1000:])\n",
    "        \n",
    "        if make_figure_eye:\n",
    "            ax = plt.subplot(num_rows, 4, k+1)\n",
    "            ax.plot(trange[saccade_end-1000:]-trange[saccade_end], fluo_data)\n",
    "            ax2 = ax.twinx()\n",
    "            ax2.plot(trange[saccade_end-1000:]-trange[saccade_end], cirf_conv_eye_pos[saccade_end-1000:], c='C1')\n",
    "            plt.title(r'$r$ = %.3f' % (r_eyepos_temp[k]))\n",
    "\n",
    "            ax.spines['top'].set_visible(False)\n",
    "            ax.spines['right'].set_visible(False)\n",
    "            ax2.spines['top'].set_visible(False)\n",
    "            ax2.spines['left'].set_visible(False)\n",
    "    if make_figure_eye:\n",
    "        plt.tight_layout()\n",
    "        plt.savefig('plots/eye/'+file_names[i]+'_contra.pdf')\n",
    "        \n",
    "    r_eyepos.append(r_eyepos_temp)     \n",
    "    \n",
    "    if make_figure_fluo:\n",
    "        plt.figure(figsize=(1.6*4,1.5*num_rows))\n",
    "        for k in range(num_cells):\n",
    "            ax = plt.subplot(num_rows, 4, k+1)\n",
    "            fluo_data = fluo_contra[saccade_end-500:,k]-fluo_means[k]\n",
    "            plt.plot(trange[saccade_end-500:]-trange[saccade_end], fluo_data)\n",
    "            plt.plot(trange[saccade_end:]-trange[saccade_end], fitting_functions.exponentialModel(trange[:-saccade_end], best_cirf_fits[k,:]))\n",
    "            ylims = ax.get_ylim()\n",
    "            plt.plot([0,]*2, ylims, '--')\n",
    "            plt.xlabel('Time after saccade peak (s)')\n",
    "            plt.ylabel(r'$\\Delta$F/F - baseline')\n",
    "\n",
    "            plt.title(r'$R^2$ = %.3f' % (best_cirf_r2s[k]))\n",
    "\n",
    "            ax.spines['top'].set_visible(False)\n",
    "            ax.spines['right'].set_visible(False)\n",
    "\n",
    "        plt.tight_layout()\n",
    "        plt.savefig('plots/fluo/'+file_names[i]+'_cirfs.pdf')"
   ]
  },
  {
   "cell_type": "markdown",
   "metadata": {},
   "source": [
    "### Statistics regarding cells that exceed fit quality and correlation thresholds:"
   ]
  },
  {
   "cell_type": "code",
   "execution_count": 14,
   "metadata": {},
   "outputs": [
    {
     "name": "stdout",
     "output_type": "stream",
     "text": [
      "Fish 1: 33/44\n",
      "Fish 2: 21/23\n",
      "Fish 3: 15/17\n",
      "Fish 4: 44/51\n",
      "Fish 5: 36/41\n",
      "Fish 6: 17/19\n",
      "Total: 166/195\n"
     ]
    }
   ],
   "source": [
    "taus_good = []\n",
    "total_good = 0\n",
    "total = 0\n",
    "for i in range(len(file_names)):\n",
    "    cell_inds_temp = np.where((r2s_fluos[i] >= 0.5)*(r_eyepos[i] > 0.5))[0]\n",
    "    taus_good.append(taus[i][cell_inds_temp])\n",
    "    print('Fish %d: %d/%d' % (i+1, len(cell_inds_temp), len(r2s_fluos[i])))\n",
    "    total += len(r2s_fluos[i])\n",
    "    total_good +=len(cell_inds_temp)\n",
    "print('Total: %d/%d' % (total_good, total))"
   ]
  },
  {
   "cell_type": "code",
   "execution_count": 11,
   "metadata": {},
   "outputs": [],
   "source": [
    "taus_flattened = np.concatenate(taus_good)"
   ]
  },
  {
   "cell_type": "code",
   "execution_count": 13,
   "metadata": {},
   "outputs": [
    {
     "data": {
      "text/plain": [
       "1.5214048181044353"
      ]
     },
     "execution_count": 13,
     "metadata": {},
     "output_type": "execute_result"
    }
   ],
   "source": [
    "np.median(1/taus_flattened)"
   ]
  },
  {
   "cell_type": "code",
   "execution_count": 12,
   "metadata": {},
   "outputs": [
    {
     "data": {
      "text/plain": [
       "Text(0, 0.5, 'Count')"
      ]
     },
     "execution_count": 12,
     "metadata": {},
     "output_type": "execute_result"
    },
    {
     "data": {
      "image/png": "[encoded data removed]",
      "text/plain": [
       "<Figure size 432x288 with 1 Axes>"
      ]
     },
     "metadata": {
      "needs_background": "light"
     },
     "output_type": "display_data"
    }
   ],
   "source": [
    "plt.hist(1/taus_flattened)\n",
    "plt.xlabel('CIRF time constant (s)')\n",
    "plt.ylabel('Count')"
   ]
  },
  {
   "cell_type": "markdown",
   "metadata": {},
   "source": [
    "# Ipsi fits"
   ]
  },
  {
   "cell_type": "code",
   "execution_count": 6,
   "metadata": {},
   "outputs": [],
   "source": [
    "best_fits_ipsi = [] # fit, fish num, cell num, R^2\n",
    "fluos_ipsi = []\n",
    "ss_ratio = []\n",
    "ipsi_peaks = []\n",
    "r2s_ipsi = []\n",
    "\n",
    "ss_ratio_cutoff = 7e-3\n",
    "T_start = 125\n",
    "persistences = []\n",
    "eye_persistences = np.zeros(len(file_names))\n",
    "persistence_ratios = []\n",
    "\n",
    "for i in range(len(file_names)):\n",
    "    filename = file_names[i]\n",
    "    data_file = sio.loadmat('../../data/cells/fluo/'+filename+'.mat')\n",
    "    fluo_ipsi = data_file['FluoIpsi']\n",
    "    eyepos_ipsi = data_file['ipsiSTAE6'][0]-data_file['null_pos'][0][0]\n",
    "    fluo_contra = data_file['FluoContra']\n",
    "    \n",
    "    fluo_ipsi_means = np.mean(fluo_ipsi[1537-1000:1537-500,:], axis=0)\n",
    "    fluo_contra_means= np.mean(fluo_contra[1537+2000:1537+2500,:], axis=0)\n",
    "    fluo_means = np.minimum(fluo_ipsi_means, fluo_contra_means)\n",
    "\n",
    "    ipsi_peak = np.argmax(eyepos_ipsi)\n",
    "    ipsi_peaks.append(ipsi_peak)\n",
    "    trange = np.arange(0, 2e-3*4097, 2e-3)\n",
    "\n",
    "    fit_file_ipsi = sio.loadmat('fit/results/'+filename+'_ipsi.mat')\n",
    "    best_fits_ipsi_fish = fit_file_ipsi['fits'][0]\n",
    "    k_cirf = fit_file_ipsi['k_cirf'][0]\n",
    "    indices = fit_file_ipsi['indices'][0]\n",
    "    \n",
    "    eye_persistences[i] = np.sum(eyepos_ipsi[ipsi_peak+T_start:]/eyepos_ipsi[ipsi_peak+T_start])/len(eyepos_ipsi[ipsi_peak+T_start:])\n",
    "    \n",
    "    for k in range(len(best_fits_ipsi_fish)):\n",
    "        ind = indices[k]\n",
    "        best_fit_ = best_fits_ipsi_fish[k][0]\n",
    "        r2 = calculateR2(trange[:-ipsi_peak], fluo_ipsi[ipsi_peak:,ind]-fluo_means[ind],best_fit_, k_cirf[k])\n",
    "        fluo = fluo_ipsi[:,ind]-fluo_means[ind]\n",
    "        model = exponentialModelConvolved(trange[:-ipsi_peak],best_fit_, k_cirf[k])\n",
    "        ss_ratio_ = np.sum((fluo[ipsi_peak:]-model)**2)/np.sum((fluo[ipsi_peak:])**2)\n",
    "        \n",
    "        best_fits_ipsi.append({'fit':best_fit_,'fish': i,'cell': indices[k],'k': k, 'k_cirf': k_cirf[k],'ss_ratio': ss_ratio_, 'ipsi_peak':ipsi_peak})\n",
    "        fluos_ipsi.append({'fluo':fluo})\n",
    "        ss_ratio.append(ss_ratio_)\n",
    "        r2s_ipsi.append(r2)\n",
    "        \n",
    "        trange_fits = trange[ipsi_peak:]-trange[ipsi_peak]\n",
    "        fr_model = fitting_functions.exponentialModel(trange_fits, best_fit_[:-1])\n",
    "        fr = fitting_functions.exponentialModel(trange[:-ipsi_peak], best_fit_[:-1])\n",
    "        fr_p = np.sum(fr[T_start:]/fr[T_start])/len(fr[T_start:])\n",
    "        persistences.append(fr_p)\n",
    "        persistence_ratios.append(fr_p/eye_persistences[i])"
   ]
  },
  {
   "cell_type": "code",
   "execution_count": 7,
   "metadata": {},
   "outputs": [],
   "source": [
    "ss_ratio = np.array(ss_ratio)"
   ]
  },
  {
   "cell_type": "code",
   "execution_count": 43,
   "metadata": {},
   "outputs": [
    {
     "data": {
      "text/plain": [
       "Text(0, 0.5, 'Cumulative probability')"
      ]
     },
     "execution_count": 43,
     "metadata": {},
     "output_type": "execute_result"
    },
    {
     "data": {
      "image/png": "[encoded data removed]",
      "text/plain": [
       "<Figure size 432x288 with 1 Axes>"
      ]
     },
     "metadata": {
      "needs_background": "light"
     },
     "output_type": "display_data"
    }
   ],
   "source": [
    "plt.xscale('log')\n",
    "plt.plot(np.sort(ss_ratio), np.arange(len(ss_ratio))/len(ss_ratio))\n",
    "plt.plot([7e-3,]*2, [0,1],'k--', lw=1)\n",
    "plt.ylim([0,1])\n",
    "plt.xlabel('SSR')\n",
    "plt.ylabel('Cumulative probability')"
   ]
  },
  {
   "cell_type": "code",
   "execution_count": 42,
   "metadata": {},
   "outputs": [
    {
     "data": {
      "text/plain": [
       "151"
      ]
     },
     "execution_count": 42,
     "metadata": {},
     "output_type": "execute_result"
    }
   ],
   "source": [
    "np.sum(ss_ratio < 7e-3)"
   ]
  },
  {
   "cell_type": "code",
   "execution_count": 8,
   "metadata": {},
   "outputs": [],
   "source": [
    "ss_ratio_sort_inds = np.argsort(ss_ratio)"
   ]
  },
  {
   "cell_type": "markdown",
   "metadata": {},
   "source": [
    "Determine the best, median and worst fits (by sum of squares ratio) to plot in Fig 8B:"
   ]
  },
  {
   "cell_type": "code",
   "execution_count": 48,
   "metadata": {
    "scrolled": true
   },
   "outputs": [
    {
     "name": "stdout",
     "output_type": "stream",
     "text": [
      "SSR: 3.982e-05, fish 1, cell 19 (17)\n",
      "SSR: 1.163e-03, fish 0, cell 29 (22)\n",
      "SSR: 6.947e-03, fish 4, cell 17 (15)\n"
     ]
    }
   ],
   "source": [
    "for ind in [0, int(0.5*151)-1, 151-1]:\n",
    "    j = ss_ratio_sort_inds[ind]\n",
    "    print('SSR: %.3e, fish %d, cell %d (%d)' % (ss_ratio[j], best_fits_ipsi[j]['fish'], best_fits_ipsi[j]['cell'], best_fits_ipsi[j]['k']))"
   ]
  },
  {
   "cell_type": "code",
   "execution_count": 50,
   "metadata": {},
   "outputs": [],
   "source": [
    "T_start = 125\n",
    "trange = np.arange(0, 2e-3*4097, 2e-3)"
   ]
  },
  {
   "cell_type": "markdown",
   "metadata": {},
   "source": [
    "## Figure 8B: examples of fits to fluorescence data\n",
    "\n",
    "### Best"
   ]
  },
  {
   "cell_type": "code",
   "execution_count": 61,
   "metadata": {},
   "outputs": [],
   "source": [
    "i = ss_ratio_sort_inds[0]\n",
    "ipsi_peak = best_fits_ipsi[i]['ipsi_peak']\n",
    "trange_fits = trange[ipsi_peak:]-trange[ipsi_peak]\n",
    "conv_model = exponentialModelConvolved(trange[:-ipsi_peak], best_fits_ipsi[i]['fit'], best_fits_ipsi[i]['k_cirf'])\n",
    "fr_model = fitting_functions.exponentialModel(trange_fits, best_fits_ipsi[i]['fit'][:-1])"
   ]
  },
  {
   "cell_type": "markdown",
   "metadata": {},
   "source": [
    "#### Fluorescence fit"
   ]
  },
  {
   "cell_type": "code",
   "execution_count": 62,
   "metadata": {},
   "outputs": [
    {
     "data": {
      "image/png": "[encoded data removed]",
      "text/plain": [
       "<Figure size 93.6x46.8 with 1 Axes>"
      ]
     },
     "metadata": {
      "needs_background": "light"
     },
     "output_type": "display_data"
    }
   ],
   "source": [
    "plt.figure(figsize=(1.3, 0.65))\n",
    "plt.plot(trange[ipsi_peak-500:]-trange[ipsi_peak], fluos_ipsi[i]['fluo'][ipsi_peak-500:], label='Fluo', c=(0.75, 0.75, 0.75, 1), clip_on=False)\n",
    "plt.plot(trange_fits, conv_model, c='C3', lw=0.75, clip_on=False)\n",
    "\n",
    "plt.plot([0,]*2, [0, 0.4], 'k--', lw=1)\n",
    "\n",
    "\n",
    "ax = plt.gca()\n",
    "plt.xlim([-1, 5])\n",
    "ax.spines['top'].set_visible(False)\n",
    "ax.spines['right'].set_visible(False)\n",
    "\n",
    "\n",
    "plt.ylim([0, 0.4])\n",
    "\n",
    "\n",
    "ax.spines['bottom'].set_visible(False)\n",
    "ax.set_xticks([])\n",
    "\n",
    "\n",
    "plt.subplots_adjust(left=0.21, bottom=0.1, right=0.98, top=0.96)"
   ]
  },
  {
   "cell_type": "markdown",
   "metadata": {},
   "source": [
    "#### Firing rate"
   ]
  },
  {
   "cell_type": "code",
   "execution_count": 63,
   "metadata": {},
   "outputs": [
    {
     "data": {
      "image/png": "[encoded data removed]",
      "text/plain": [
       "<Figure size 93.6x46.8 with 1 Axes>"
      ]
     },
     "metadata": {
      "needs_background": "light"
     },
     "output_type": "display_data"
    }
   ],
   "source": [
    "plt.figure(figsize=(1.3, 0.65))\n",
    "\n",
    "plt.plot(trange_fits, fr_model/fr_model[T_start],\n",
    "        color='C3', lw=0.75)\n",
    "plt.fill_between(trange_fits[T_start:], fr_model[T_start:]/fr_model[T_start],\n",
    "        color='C3', alpha=0.25)\n",
    "\n",
    "ax = plt.gca()\n",
    "plt.xlim([-1, 5])\n",
    "plt.ylim([0,2])\n",
    "ax.spines['top'].set_visible(False)\n",
    "ax.spines['right'].set_visible(False)\n",
    "\n",
    "ax.set_yticks([0, 1, 2])\n",
    "ax.set_yticklabels([0, 1, 2])\n",
    "\n",
    "ax.set_xticks(np.linspace(0,5,3))\n",
    "ax.set_xticklabels([0, '', 5])\n",
    "         \n",
    "plt.subplots_adjust(left=0.21, bottom=0.18, right=0.98, top=0.96)  "
   ]
  },
  {
   "cell_type": "markdown",
   "metadata": {},
   "source": [
    "### Median"
   ]
  },
  {
   "cell_type": "code",
   "execution_count": 64,
   "metadata": {},
   "outputs": [],
   "source": [
    "i = ss_ratio_sort_inds[int(0.5*151)-1]\n",
    "ipsi_peak = best_fits_ipsi[i]['ipsi_peak']\n",
    "trange_fits = trange[ipsi_peak:]-trange[ipsi_peak]\n",
    "conv_model = exponentialModelConvolved(trange[:-ipsi_peak], best_fits_ipsi[i]['fit'], best_fits_ipsi[i]['k_cirf'])\n",
    "fr_model = fitting_functions.exponentialModel(trange_fits, best_fits_ipsi[i]['fit'][:-1])"
   ]
  },
  {
   "cell_type": "markdown",
   "metadata": {},
   "source": [
    "#### Fluorescence fit"
   ]
  },
  {
   "cell_type": "code",
   "execution_count": 65,
   "metadata": {},
   "outputs": [
    {
     "data": {
      "image/png": "[encoded data removed]",
      "text/plain": [
       "<Figure size 93.6x46.8 with 1 Axes>"
      ]
     },
     "metadata": {
      "needs_background": "light"
     },
     "output_type": "display_data"
    }
   ],
   "source": [
    "plt.figure(figsize=(1.3, 0.65))\n",
    "plt.plot(trange[ipsi_peak-500:]-trange[ipsi_peak], fluos_ipsi[i]['fluo'][ipsi_peak-500:], label='Fluo', c=(0.75, 0.75, 0.75, 1), clip_on=False)\n",
    "plt.plot(trange_fits, conv_model, c='C3', lw=0.75, clip_on=False)\n",
    "\n",
    "plt.plot([0,]*2, [0, 0.4], 'k--', lw=1)\n",
    "\n",
    "\n",
    "ax = plt.gca()\n",
    "plt.xlim([-1, 5])\n",
    "ax.spines['top'].set_visible(False)\n",
    "ax.spines['right'].set_visible(False)\n",
    "\n",
    "\n",
    "plt.ylim([0, 0.4])\n",
    "\n",
    "\n",
    "ax.spines['bottom'].set_visible(False)\n",
    "ax.set_xticks([])\n",
    "\n",
    "\n",
    "plt.subplots_adjust(left=0.21, bottom=0.1, right=0.98, top=0.96)"
   ]
  },
  {
   "cell_type": "markdown",
   "metadata": {},
   "source": [
    "#### Firing rate"
   ]
  },
  {
   "cell_type": "code",
   "execution_count": 66,
   "metadata": {},
   "outputs": [
    {
     "data": {
      "image/png": "[encoded data removed]",
      "text/plain": [
       "<Figure size 93.6x46.8 with 1 Axes>"
      ]
     },
     "metadata": {
      "needs_background": "light"
     },
     "output_type": "display_data"
    }
   ],
   "source": [
    "plt.figure(figsize=(1.3, 0.65))\n",
    "\n",
    "plt.plot(trange_fits, fr_model/fr_model[T_start],\n",
    "        color='C3', lw=0.75)\n",
    "plt.fill_between(trange_fits[T_start:], fr_model[T_start:]/fr_model[T_start],\n",
    "        color='C3', alpha=0.25)\n",
    "\n",
    "ax = plt.gca()\n",
    "plt.xlim([-1, 5])\n",
    "plt.ylim([0,2])\n",
    "ax.spines['top'].set_visible(False)\n",
    "ax.spines['right'].set_visible(False)\n",
    "\n",
    "ax.set_yticks([0, 1, 2])\n",
    "ax.set_yticklabels([0, 1, 2])\n",
    "\n",
    "ax.set_xticks(np.linspace(0,5,3))\n",
    "ax.set_xticklabels([0, '', 5])\n",
    "         \n",
    "plt.subplots_adjust(left=0.21, bottom=0.18, right=0.98, top=0.96)  "
   ]
  },
  {
   "cell_type": "markdown",
   "metadata": {},
   "source": [
    "### Worst"
   ]
  },
  {
   "cell_type": "code",
   "execution_count": 72,
   "metadata": {},
   "outputs": [],
   "source": [
    "i = ss_ratio_sort_inds[151-1]\n",
    "ipsi_peak = best_fits_ipsi[i]['ipsi_peak']\n",
    "trange_fits = trange[ipsi_peak:]-trange[ipsi_peak]\n",
    "conv_model = exponentialModelConvolved(trange[:-ipsi_peak], best_fits_ipsi[i]['fit'], best_fits_ipsi[i]['k_cirf'])\n",
    "fr_model = fitting_functions.exponentialModel(trange_fits, best_fits_ipsi[i]['fit'][:-1])"
   ]
  },
  {
   "cell_type": "markdown",
   "metadata": {},
   "source": [
    "#### Fluorescence fit"
   ]
  },
  {
   "cell_type": "code",
   "execution_count": 74,
   "metadata": {},
   "outputs": [
    {
     "data": {
      "image/png": "[encoded data removed]",
      "text/plain": [
       "<Figure size 93.6x46.8 with 1 Axes>"
      ]
     },
     "metadata": {
      "needs_background": "light"
     },
     "output_type": "display_data"
    }
   ],
   "source": [
    "plt.figure(figsize=(1.3, 0.65))\n",
    "plt.plot(trange[ipsi_peak-500:]-trange[ipsi_peak], fluos_ipsi[i]['fluo'][ipsi_peak-500:], label='Fluo', c=(0.75, 0.75, 0.75, 1), clip_on=False)\n",
    "plt.plot(trange_fits, conv_model, c='C3', lw=0.75, clip_on=False)\n",
    "\n",
    "plt.plot([0,]*2, [0, 0.4], 'k--', lw=1)\n",
    "\n",
    "\n",
    "ax = plt.gca()\n",
    "plt.xlim([-1, 5])\n",
    "ax.spines['top'].set_visible(False)\n",
    "ax.spines['right'].set_visible(False)\n",
    "\n",
    "\n",
    "plt.ylim([0, 0.4])\n",
    "\n",
    "\n",
    "ax.spines['bottom'].set_visible(False)\n",
    "ax.set_xticks([])\n",
    "\n",
    "\n",
    "plt.subplots_adjust(left=0.21, bottom=0.1, right=0.98, top=0.96)"
   ]
  },
  {
   "cell_type": "markdown",
   "metadata": {},
   "source": [
    "#### Firing rate"
   ]
  },
  {
   "cell_type": "code",
   "execution_count": 75,
   "metadata": {},
   "outputs": [
    {
     "data": {
      "image/png": "[encoded data removed]",
      "text/plain": [
       "<Figure size 93.6x46.8 with 1 Axes>"
      ]
     },
     "metadata": {
      "needs_background": "light"
     },
     "output_type": "display_data"
    }
   ],
   "source": [
    "plt.figure(figsize=(1.3, 0.65))\n",
    "\n",
    "plt.plot(trange_fits, fr_model/fr_model[T_start],\n",
    "        color='C3', lw=0.75)\n",
    "plt.fill_between(trange_fits[T_start:], fr_model[T_start:]/fr_model[T_start],\n",
    "        color='C3', alpha=0.25)\n",
    "\n",
    "ax = plt.gca()\n",
    "plt.xlim([-1, 5])\n",
    "plt.ylim([0,2])\n",
    "ax.spines['top'].set_visible(False)\n",
    "ax.spines['right'].set_visible(False)\n",
    "\n",
    "ax.set_yticks([0, 1, 2])\n",
    "ax.set_yticklabels([0, 1, 2])\n",
    "\n",
    "ax.set_xticks(np.linspace(0,5,3))\n",
    "ax.set_xticklabels([0, '', 5])\n",
    "         \n",
    "plt.subplots_adjust(left=0.21, bottom=0.18, right=0.98, top=0.96)  "
   ]
  },
  {
   "cell_type": "markdown",
   "metadata": {},
   "source": [
    "## Show all fits"
   ]
  },
  {
   "cell_type": "code",
   "execution_count": null,
   "metadata": {},
   "outputs": [],
   "source": [
    "num_rows = int(np.ceil(len(best_fits)/4))\n",
    "plt.figure(figsize=(1.6*4,1.5*num_rows))\n",
    "for i in range(len(best_fits)):\n",
    "    plt.subplot(num_rows, 4, i+1)\n",
    "    j = ss_ratio_sort_inds[i]\n",
    "    ipsi_peak = best_fits_ipsi[j]['ipsi_peak']\n",
    "    plt.plot(trange-trange[ipsi_peak], fluos_ipsi[j]['fluo'])\n",
    "    plt.plot([0,]*2, [np.min(fluos_ipsi[j]['fluo']), np.max(fluos_ipsi[j]['fluo'])], c='k', lw=1, ls='--')\n",
    "    plt.plot(trange[:-ipsi_peak], exponentialModelConvolved(trange[:-ipsi_peak], best_fits_ipsi[j]['fit'], best_fits_ipsi[j]['k_cirf']))\n",
    "    plt.title('SSR = %.3e' % (ss_ratio[j]))\n",
    "plt.tight_layout()"
   ]
  },
  {
   "cell_type": "code",
   "execution_count": 9,
   "metadata": {},
   "outputs": [],
   "source": [
    "persistences = np.array(persistences)[ss_ratio < 7e-3]\n",
    "persistence_ratios = np.array(persistence_ratios)[ss_ratio < 7e-3]"
   ]
  },
  {
   "cell_type": "markdown",
   "metadata": {},
   "source": [
    "## Figure 8C: firing rate persistence"
   ]
  },
  {
   "cell_type": "code",
   "execution_count": 80,
   "metadata": {},
   "outputs": [
    {
     "data": {
      "image/png": "[encoded data removed]",
      "text/plain": [
       "<Figure size 93.6x93.6 with 1 Axes>"
      ]
     },
     "metadata": {
      "needs_background": "light"
     },
     "output_type": "display_data"
    }
   ],
   "source": [
    "plt.figure(figsize=(1.3, 1.3))\n",
    "# plt.yscale('log')\n",
    "aucs_inds = np.argsort(persistences)\n",
    "plt.plot(np.arange(len(persistences)), persistences[aucs_inds], c='k', lw=1)\n",
    "\n",
    "ax = plt.gca()\n",
    "ax.spines['top'].set_visible(False)\n",
    "ax.spines['right'].set_visible(False)\n",
    "\n",
    "\n",
    "ax.set_xticks(np.linspace(1, 151, 4))\n",
    "ax.set_xticklabels([1, '', '', 151])\n",
    "plt.xlim([-10, 151])\n",
    "\n",
    "ax.set_yticks(np.linspace(0, 1, 5))\n",
    "ax.set_yticklabels([0, '', '', '', 1])\n",
    "plt.ylim([0, 1])\n",
    "\n",
    "plt.subplots_adjust(left=0.21, bottom=0.18, top=0.96, right=0.98)"
   ]
  },
  {
   "cell_type": "markdown",
   "metadata": {},
   "source": [
    "## Figure 8D: histogram of persistence ratios"
   ]
  },
  {
   "cell_type": "code",
   "execution_count": 10,
   "metadata": {},
   "outputs": [
    {
     "data": {
      "image/png": "[encoded data removed]",
      "text/plain": [
       "<Figure size 93.6x93.6 with 1 Axes>"
      ]
     },
     "metadata": {
      "needs_background": "light"
     },
     "output_type": "display_data"
    }
   ],
   "source": [
    "plt.figure(figsize=(1.3, 1.3))\n",
    "\n",
    "plt.hist(persistence_ratios, facecolor=(0.75, 0.75, 0.75, 1), edgecolor=(0.75, 0.75, 0.75, 1), bins=10, clip_on=False)\n",
    "\n",
    "plt.plot([1.05542,]*2, [0, 25], c='C9', lw=0.5)\n",
    "plt.plot([0.71387,]*2, [0, 25], c='C3', lw=0.5)\n",
    "plt.plot([np.median(persistence_ratios)]*2, [0, 25], c=(0.25, 0.25, 0.25, 1), lw=0.5)\n",
    "\n",
    "ax = plt.gca()\n",
    "ax.spines['top'].set_visible(False)\n",
    "ax.spines['right'].set_visible(False)\n",
    "\n",
    "plt.ylim([0, 25])\n",
    "plt.xlim([0, 1.5])\n",
    "ax.set_yticks(np.linspace(0,25,6))\n",
    "ax.set_yticklabels([0, '', '',  '','',25])\n",
    "ax.set_xticks([0, 0.5, 1, 1.5])\n",
    "ax.set_xticklabels([0, '', '',1.5])\n",
    "\n",
    "plt.subplots_adjust(left=0.21, bottom=0.18, right=0.98, top=0.96)"
   ]
  },
  {
   "cell_type": "code",
   "execution_count": 92,
   "metadata": {},
   "outputs": [
    {
     "data": {
      "text/plain": [
       "(0.7069970183848395, 0.33396257018656844)"
      ]
     },
     "execution_count": 92,
     "metadata": {},
     "output_type": "execute_result"
    }
   ],
   "source": [
    "np.mean(persistence_ratios), np.std(persistence_ratios)"
   ]
  },
  {
   "cell_type": "code",
   "execution_count": 82,
   "metadata": {},
   "outputs": [
    {
     "data": {
      "text/plain": [
       "0.6885368368494117"
      ]
     },
     "execution_count": 82,
     "metadata": {},
     "output_type": "execute_result"
    }
   ],
   "source": [
    "np.median(persistence_ratios)"
   ]
  },
  {
   "cell_type": "code",
   "execution_count": 91,
   "metadata": {},
   "outputs": [
    {
     "data": {
      "text/plain": [
       "(122, '80.8%')"
      ]
     },
     "execution_count": 91,
     "metadata": {},
     "output_type": "execute_result"
    }
   ],
   "source": [
    "np.sum(persistence_ratios<1), \"{:.1f}%\".format((np.sum(persistence_ratios<1)/151*100))"
   ]
  },
  {
   "cell_type": "markdown",
   "metadata": {},
   "source": [
    "## Statistics"
   ]
  },
  {
   "cell_type": "code",
   "execution_count": null,
   "metadata": {},
   "outputs": [],
   "source": [
    "%%R -i persistences -i eye_persistences\n",
    "wilcox.test(eye_persistences, persistences, alternative=\"two.sided\", paired=FALSE, exact=TRUE)"
   ]
  },
  {
   "cell_type": "markdown",
   "metadata": {},
   "source": [
    "W = 731, p-value = 0.01106\n",
    "\n",
    "alternative hypothesis: true location shift is not equal to 0"
   ]
  }
 ],
 "metadata": {
  "kernelspec": {
   "display_name": "Python 3",
   "language": "python",
   "name": "python3"
  },
  "language_info": {
   "codemirror_mode": {
    "name": "ipython",
    "version": 3
   },
   "file_extension": ".py",
   "mimetype": "text/x-python",
   "name": "python",
   "nbconvert_exporter": "python",
   "pygments_lexer": "ipython3",
   "version": "3.7.7"
  }
 },
 "nbformat": 4,
 "nbformat_minor": 4
}
