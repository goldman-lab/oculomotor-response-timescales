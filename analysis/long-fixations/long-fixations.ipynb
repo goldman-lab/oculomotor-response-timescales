{
 "cells": [
  {
   "cell_type": "code",
   "execution_count": 3,
   "metadata": {},
   "outputs": [],
   "source": [
    "import numpy as np\n",
    "import matplotlib.pyplot as plt\n",
    "%matplotlib inline\n",
    "\n",
    "import scipy.io as sio\n",
    "\n",
    "import sys\n",
    "sys.path.append('../../tools/')\n",
    "import fitting_functions"
   ]
  },
  {
   "cell_type": "code",
   "execution_count": 6,
   "metadata": {},
   "outputs": [],
   "source": [
    "traces = ['090711e_0006', '090811c_0002', '090811d_0002', '090811d_0004','091111a_0001',\n",
    "          '091111a_0003','091111c_0003','091211a_0002','091211a_0005']"
   ]
  },
  {
   "cell_type": "markdown",
   "metadata": {},
   "source": [
    "### Calculate mean length of active state saccades"
   ]
  },
  {
   "cell_type": "code",
   "execution_count": 32,
   "metadata": {},
   "outputs": [],
   "source": [
    "trange_active_len = np.zeros(len(traces))\n",
    "for i in range(len(traces)):\n",
    "    trange, data, pe_start_index, displacement_index, release_index, step_pos = fitting_functions.importActiveData('../../data/active/fixed/'+traces[i]+'.mat')\n",
    "    trange_active_len[i] = trange[displacement_index]+0.5 # time 0 = 500 ms after saccade"
   ]
  },
  {
   "cell_type": "code",
   "execution_count": 33,
   "metadata": {},
   "outputs": [
    {
     "data": {
      "text/plain": [
       "4.8424"
      ]
     },
     "execution_count": 33,
     "metadata": {},
     "output_type": "execute_result"
    }
   ],
   "source": [
    "np.mean(trange_active_len)"
   ]
  },
  {
   "cell_type": "markdown",
   "metadata": {},
   "source": [
    "# Compare extrapolations to \"ground truth\""
   ]
  },
  {
   "cell_type": "code",
   "execution_count": 4,
   "metadata": {},
   "outputs": [],
   "source": [
    "def importLongFixation(filename):\n",
    "    data_file = sio.loadmat(filename)\n",
    "    trange = data_file['trange'][0]\n",
    "    fixation = data_file['fixation'][0]\n",
    "    # fixation = fixation[::72]\n",
    "    return trange, fixation"
   ]
  },
  {
   "cell_type": "markdown",
   "metadata": {},
   "source": [
    "### % change in MSE as a function of number of components"
   ]
  },
  {
   "cell_type": "code",
   "execution_count": 45,
   "metadata": {},
   "outputs": [
    {
     "data": {
      "image/png": "[encoded data removed]",
      "text/plain": [
       "<Figure size 432x288 with 9 Axes>"
      ]
     },
     "metadata": {
      "needs_background": "light"
     },
     "output_type": "display_data"
    }
   ],
   "source": [
    "trange_lens = np.zeros(len(traces))\n",
    "for i in range(len(traces)):\n",
    "    trange, fixation = importLongFixation('../../data/long-fixations/fixed/'+traces[i]+'_long.mat')\n",
    "    trange_lens[i] = len(trange)\n",
    "    \n",
    "    fit_file = sio.loadmat('results/'+traces[i]+'_long.mat')\n",
    "    # lls = fit_file['lls']\n",
    "    mse = fit_file['sses']/len(trange)\n",
    "    mse_best = np.min(mse, axis=1)\n",
    "    delta_mse = (mse_best[1:] - mse_best[:-1])/mse_best[:-1]\n",
    "    plt.subplot(3,3,i+1)\n",
    "    plt.plot(np.arange(5)+2, delta_mse*100,'.-')\n",
    "    plt.title(traces[i],fontsize=10)\n",
    "plt.tight_layout()"
   ]
  },
  {
   "cell_type": "markdown",
   "metadata": {},
   "source": [
    "Above we plot the percent change in MSE when moving from $n-1$ to $n$ components (axis label is $n$). For all extrapolations, there was a negligible decrease in MSE after 2 components."
   ]
  },
  {
   "cell_type": "code",
   "execution_count": 51,
   "metadata": {},
   "outputs": [
    {
     "name": "stdout",
     "output_type": "stream",
     "text": [
      "15.26\n"
     ]
    }
   ],
   "source": [
    "Tmin = int(np.min(trange_lens))\n",
    "print(trange[Tmin])"
   ]
  },
  {
   "cell_type": "markdown",
   "metadata": {},
   "source": [
    "The shortest long fixation recording we have ends at 15.26 s after saccade. We will use this time point as the end of a window over which we will evaluate the extrapolation quality, and as the point at which we will add to the cost functions for conservative extrapolations of real active state data."
   ]
  },
  {
   "cell_type": "code",
   "execution_count": 47,
   "metadata": {},
   "outputs": [],
   "source": [
    "eye_pos_averages = np.zeros(len(traces))\n",
    "relative_errors = np.zeros(len(traces))\n",
    "for i in range(len(traces)):\n",
    "    trace = traces[i]\n",
    "    trange, fixation = importLongFixation('../../data/long-fixations/fixed/'+trace+'_long.mat')\n",
    "    eye_pos_averages[i] = np.mean(fixation[Tmin-16:Tmin]) # Average calculated over a window of 16 elements = 230 ms\n",
    "    \n",
    "    fit_file = sio.loadmat('results/'+trace+'_long.mat')\n",
    "    lls = fit_file['lls']\n",
    "    fits = fit_file['fits']\n",
    "    best_fit_ind = np.argmin(lls[1, :])\n",
    "\n",
    "    # Evaluate extrapolation at time corresponding to middle of window\n",
    "    model_val = fitting_functions.exponentialModel(trange[Tmin-8]-trange[0], fits[1,0][best_fit_ind, :])\n",
    "    relative_errors[i] = (eye_pos_averages[i]-model_val)/model_val"
   ]
  },
  {
   "cell_type": "markdown",
   "metadata": {},
   "source": [
    "We use a window of 16 elements, from $t =$ 15.03 to 15.26 s after the saccade time, and calculate the average eye position. Then, we compare this to the value of the extrapolated eye position (using the first 0.5-4.8 s) at $t =$ 15.14 s, the middle of the window, by calculating the percent deviation between the extrapolation and the average eye position, with respect to the extrapolation."
   ]
  },
  {
   "cell_type": "code",
   "execution_count": 56,
   "metadata": {},
   "outputs": [
    {
     "data": {
      "text/plain": [
       "(0.15957043722259426, 0.3302855581649255)"
      ]
     },
     "execution_count": 56,
     "metadata": {},
     "output_type": "execute_result"
    }
   ],
   "source": [
    "np.mean(relative_errors), np.std(relative_errors)"
   ]
  },
  {
   "cell_type": "markdown",
   "metadata": {},
   "source": [
    "### Figure 2D, right "
   ]
  },
  {
   "cell_type": "code",
   "execution_count": 55,
   "metadata": {},
   "outputs": [
    {
     "data": {
      "text/plain": [
       "<matplotlib.collections.PathCollection at 0x7fb2fde37710>"
      ]
     },
     "execution_count": 55,
     "metadata": {},
     "output_type": "execute_result"
    },
    {
     "data": {
      "image/png": "[encoded data removed]",
      "text/plain": [
       "<Figure size 432x288 with 1 Axes>"
      ]
     },
     "metadata": {
      "needs_background": "light"
     },
     "output_type": "display_data"
    }
   ],
   "source": [
    "plt.scatter(np.ones(len(traces)), relative_errors)"
   ]
  },
  {
   "cell_type": "code",
   "execution_count": null,
   "metadata": {},
   "outputs": [],
   "source": [
    "sio.savemat('all_relative_errors.mat', {'errs':relative_errors})\n",
    "sio.savemat('relative_errors.mat', {'t':trange[Tmin-8], 'delta':np.min(relative_errors)})"
   ]
  }
 ],
 "metadata": {
  "kernelspec": {
   "display_name": "Python 3",
   "language": "python",
   "name": "python3"
  },
  "language_info": {
   "codemirror_mode": {
    "name": "ipython",
    "version": 3
   },
   "file_extension": ".py",
   "mimetype": "text/x-python",
   "name": "python",
   "nbconvert_exporter": "python",
   "pygments_lexer": "ipython3",
   "version": "3.7.7"
  }
 },
 "nbformat": 4,
 "nbformat_minor": 2
}
