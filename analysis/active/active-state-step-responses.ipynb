{
 "cells": [
  {
   "cell_type": "code",
   "execution_count": 1,
   "metadata": {},
   "outputs": [],
   "source": [
    "import numpy as np\n",
    "\n",
    "# Save fonts into pdf\n",
    "import matplotlib\n",
    "matplotlib.rcParams['pdf.fonttype'] = 42\n",
    "matplotlib.rcParams['ps.fonttype'] = 42\n",
    "\n",
    "import matplotlib.pyplot as plt\n",
    "%matplotlib inline\n",
    "\n",
    "import scipy.io as sio\n",
    "\n",
    "import sys\n",
    "sys.path.append('../../tools/')\n",
    "import fitting_functions\n",
    "\n",
    "import matplotlib.colors\n",
    "import matplotlib.ticker as ticker"
   ]
  },
  {
   "cell_type": "code",
   "execution_count": 3,
   "metadata": {},
   "outputs": [],
   "source": [
    "# Load R interface to do statistics\n",
    "import rpy2.rinterface\n",
    "%load_ext rpy2.ipython"
   ]
  },
  {
   "cell_type": "code",
   "execution_count": 2,
   "metadata": {},
   "outputs": [],
   "source": [
    "def make_rgb_transparent(rgb, bg_rgb, alpha):\n",
    "    return [alpha * c1 + (1 - alpha) * c2\n",
    "            for (c1, c2) in zip(rgb, bg_rgb)]\n",
    "\n",
    "# red_l = make_rgb_transparent(matplotlib.colors.to_rgb('C3'), (1, 1, 1), 0.5) + [1,]\n",
    "red_l2 = make_rgb_transparent(matplotlib.colors.to_rgba(plt.rcParams['axes.prop_cycle'].by_key()['color'][3])[:-1], (1, 1, 1), 0.75) + [1,]\n",
    "red_l3 = make_rgb_transparent(matplotlib.colors.to_rgba(plt.rcParams['axes.prop_cycle'].by_key()['color'][3])[:-1], (1, 1, 1), 0.5) + [1,]"
   ]
  },
  {
   "cell_type": "code",
   "execution_count": 3,
   "metadata": {},
   "outputs": [],
   "source": [
    "matplotlib.rcParams.update({'font.size': 8, 'axes.linewidth': 0.5, 'xtick.major.width': 0.5, 'xtick.minor.width': 0.5, \n",
    "                            'ytick.major.width': 0.5,'ytick.minor.width': 0.5, 'xtick.major.pad':2,'ytick.major.pad':2})\n",
    "matplotlib.rcParams.update({'font.family':'sans-serif','font.sans-serif':['Arial'], 'mathtext.default':'sf','mathtext.fontset':'custom'})\n",
    "\n",
    "matplotlib.rcParams.update({'savefig.transparent':True})"
   ]
  },
  {
   "cell_type": "code",
   "execution_count": 4,
   "metadata": {},
   "outputs": [],
   "source": [
    "def prepareStepResponse(filename, num_components_extrap = 2, conservative=False):\n",
    "    trange, eye_pos, pe_start_index, displacement_index, release_index, step_pos = fitting_functions.importActiveData('../../data/active/fixed/'+filename+'.mat')\n",
    "\n",
    "    fish_name = filename[:-5]\n",
    "    if conservative:\n",
    "        filename += \"_conservative\"\n",
    "        fish_name += \"_conservative\"\n",
    "        conservative_file = sio.loadmat('extrap/results/'+filename+'.mat')\n",
    "        conservative_fit = conservative_file['fit'][0]\n",
    "        extrap = fitting_functions.exponentialModel(trange, conservative_fit)*eye_pos[0]\n",
    "    else:\n",
    "        extrap_file = sio.loadmat('extrap/results/'+filename +'.mat')\n",
    "        lls = extrap_file['lls']\n",
    "        fits_extrap = extrap_file['fits']\n",
    "        best_fit_ind = np.argmax(lls[num_components_extrap-1,:])\n",
    "        extrap = fitting_functions.exponentialModel(trange, fits_extrap[num_components_extrap-1,0][best_fit_ind,:])*eye_pos[0]\n",
    "\n",
    "    sr_data = extrap[release_index:] -  eye_pos[release_index:]\n",
    "    sr_trange = trange[release_index:] - trange[release_index]\n",
    "\n",
    "    return sr_trange, sr_data"
   ]
  },
  {
   "cell_type": "code",
   "execution_count": 5,
   "metadata": {},
   "outputs": [],
   "source": [
    "def R2(data,fit):\n",
    "    try:\n",
    "        x = data.shape[0]\n",
    "        sstot = np.sum((fit - np.mean(data))**2)\n",
    "        sse = np.sum((fit - data)**2)\n",
    "    except:\n",
    "        sstot = np.sum([np.sum((fit[i] - np.mean(data[i]))**2) for i in range(len(data))])\n",
    "        sse = np.sum([np.sum((fit[i] - data[i])**2) for i in range(len(data))])\n",
    "    return 1-sse/sstot"
   ]
  },
  {
   "cell_type": "code",
   "execution_count": 6,
   "metadata": {},
   "outputs": [],
   "source": [
    "file_names = [('090711e_0006',), ('090811c_0002',), ('090811d_0002','090811d_0004',),\n",
    "   ('091111a_0001', '091111a_0003'), ('091111c_0003',), ('091211a_0002', '091211a_0005')]"
   ]
  },
  {
   "cell_type": "code",
   "execution_count": 7,
   "metadata": {},
   "outputs": [],
   "source": [
    "max_num_components = 6"
   ]
  },
  {
   "cell_type": "markdown",
   "metadata": {},
   "source": [
    "# Fit quality"
   ]
  },
  {
   "cell_type": "code",
   "execution_count": 8,
   "metadata": {},
   "outputs": [],
   "source": [
    "best_num_components_extrap = {'090711e_0006':2, '090811c_0002':2, '090811d_0002':2, '090811d_0004':2,'091111a_0001':2,\n",
    "                    '091111a_0003':3,'091111c_0003':2,'091211a_0002':2,'091211a_0005':2}"
   ]
  },
  {
   "cell_type": "code",
   "execution_count": 9,
   "metadata": {},
   "outputs": [],
   "source": [
    "# Best extrapolations\n",
    "mses_best = np.zeros((len(file_names), max_num_components))\n",
    "# Conservative extrapolations\n",
    "mses_conservative = np.zeros((len(file_names), max_num_components))\n",
    "\n",
    "for fish_num in range(len(file_names)):\n",
    "    fish_name = file_names[fish_num][0][:-5]\n",
    "    \n",
    "    \n",
    "    fit_file_original = sio.loadmat('fit/results/best/'+fish_name+'.mat')\n",
    "    lls_original = fit_file_original['lls']\n",
    "    fits_original = fit_file_original['fits']\n",
    "    best_trace_inds = np.argmax(lls_original, axis=1)\n",
    "    \n",
    "    for j in range(max_num_components):\n",
    "        for i in range(len(file_names[fish_num])):\n",
    "            n = best_num_components_extrap[file_names[fish_num][i]]\n",
    "            sr_trange, sr_data = prepareStepResponse(file_names[fish_num][i], num_components_extrap = n)\n",
    "            best_fit = fits_original[j,i][best_trace_inds[j],:]\n",
    "            sse_fit = np.sum((sr_data/sr_data[0] - fitting_functions.exponentialModel(sr_trange, best_fit))**2)\n",
    "            mses_best[fish_num,j] += sse_fit/len(sr_trange)\n",
    "    mses_best[fish_num,j] /= len(file_names[fish_num])\n",
    "    \n",
    "    fit_file_conservative = sio.loadmat('fit/results/conservative/'+fish_name+'_conservative.mat')\n",
    "    lls_conservative = fit_file_conservative['lls']\n",
    "    fits_conservative = fit_file_conservative['fits']\n",
    "    best_trace_inds_conservative = np.argmax(lls_conservative, axis=1)\n",
    "    for j in range(max_num_components):\n",
    "        for i in range(len(file_names[fish_num])):\n",
    "            n = best_num_components_extrap[file_names[fish_num][i]]\n",
    "            sr_trange, sr_data = prepareStepResponse(file_names[fish_num][i], num_components_extrap=n, conservative=True)\n",
    "            best_fit = fits_conservative[j,i][best_trace_inds_conservative[j],:]\n",
    "            sse_fit = np.sum((sr_data/sr_data[0] - fitting_functions.exponentialModel(sr_trange, best_fit))**2)\n",
    "            mses_conservative[fish_num,j] += sse_fit/len(sr_trange)\n",
    "    mses_conservative[fish_num,j] /= len(file_names[fish_num])"
   ]
  },
  {
   "cell_type": "code",
   "execution_count": 10,
   "metadata": {},
   "outputs": [],
   "source": [
    "mse_pct_change = (mses_best[:, 1:] - mses_best[:, :-1])/mses_best[:, :-1]\n",
    "mse_pct_change_conservative = (mses_conservative[:, 1:] - mses_conservative[:, :-1])/mses_conservative[:, :-1]"
   ]
  },
  {
   "cell_type": "markdown",
   "metadata": {},
   "source": [
    "## Figure 4C: MSE vs num of components"
   ]
  },
  {
   "cell_type": "code",
   "execution_count": 44,
   "metadata": {},
   "outputs": [
    {
     "data": {
      "image/png": "[encoded data removed]",
      "text/plain": [
       "<Figure size 93.6x93.6 with 1 Axes>"
      ]
     },
     "metadata": {
      "needs_background": "light"
     },
     "output_type": "display_data"
    }
   ],
   "source": [
    "plt.figure(figsize=(1.3, 1.3))\n",
    "\n",
    "## Mean squared error\n",
    "ax = plt.gca()\n",
    "ax.set_yscale('log')\n",
    "\n",
    "plt.boxplot(mses_best, positions=np.arange(1,7)-0.15, whis=(0,100), widths=0.25, medianprops={'c':'k', 'linewidth':0.75},\n",
    "            boxprops={'linewidth':0.5}, whiskerprops={'linewidth':0.5}, capprops={'linewidth':0.5});\n",
    "plt.boxplot(mses_conservative, positions=np.arange(1,7)+0.15, whis=(0,100), widths=0.25, \n",
    "            medianprops={'c':'C3', 'linewidth':0.75},\n",
    "            boxprops={'c':'C3','linewidth':0.5}, whiskerprops={'c':'C3','linewidth':0.5}, \n",
    "            capprops={'c':'C3','linewidth':0.5});\n",
    "\n",
    "plt.ylim([5e-5, 1e-1])\n",
    "locmin = matplotlib.ticker.LogLocator(base=10.0,subs='all',numticks=5)\n",
    "ax.yaxis.set_minor_locator(locmin)\n",
    "ax.yaxis.set_minor_formatter(matplotlib.ticker.NullFormatter())\n",
    "ax.set_yticks([1e-4, 1e-3, 1e-2, 1e-1])\n",
    "ax.set_yticklabels([r'$10^{-4}$', '', '', r'$10^{-1}$'])\n",
    "\n",
    "ax.spines['top'].set_visible(False)\n",
    "ax.spines['right'].set_visible(False)\n",
    "plt.xticks(np.arange(1,7), ['1','','','','','6'])\n",
    "\n",
    "plt.subplots_adjust(left = 0.23, top = 0.95, bottom=0.18, right=0.98)"
   ]
  },
  {
   "cell_type": "markdown",
   "metadata": {},
   "source": [
    "## Figure 4C: %change in MSE"
   ]
  },
  {
   "cell_type": "code",
   "execution_count": 22,
   "metadata": {},
   "outputs": [
    {
     "data": {
      "image/png": "[encoded data removed]",
      "text/plain": [
       "<Figure size 93.6x93.6 with 1 Axes>"
      ]
     },
     "metadata": {
      "needs_background": "light"
     },
     "output_type": "display_data"
    }
   ],
   "source": [
    "plt.figure(figsize=(1.3, 1.3))\n",
    "\n",
    "## Mean squared error\n",
    "ax = plt.gca()\n",
    "\n",
    "plt.boxplot(mse_pct_change, positions=np.arange(2,7)-0.15, whis=(0,100), widths=0.25, medianprops={'c':'k', 'linewidth':0.75},\n",
    "            boxprops={'linewidth':0.5}, whiskerprops={'linewidth':0.5}, capprops={'linewidth':0.5});\n",
    "plt.boxplot(mse_pct_change_conservative, positions=np.arange(2,7)+0.15, whis=(0,100), widths=0.25, \n",
    "            medianprops={'c':'C3', 'linewidth':0.75},\n",
    "            boxprops={'c':'C3','linewidth':0.5}, whiskerprops={'c':'C3','linewidth':0.5}, \n",
    "            capprops={'c':'C3','linewidth':0.5});\n",
    "\n",
    "plt.ylim([-1, 0])\n",
    "ax.set_yticks(np.linspace(-1, 0, 5))\n",
    "ax.set_yticklabels([r'$-100$', '', '', '',r'$0$'])\n",
    "\n",
    "ax.spines['top'].set_visible(False)\n",
    "ax.spines['right'].set_visible(False)\n",
    "plt.xticks(np.arange(1,7), ['1','','','','','6'])\n",
    "\n",
    "plt.subplots_adjust(left = 0.23, top = 0.95, bottom=0.18, right=0.98)"
   ]
  },
  {
   "cell_type": "markdown",
   "metadata": {},
   "source": [
    "## For individual fish\n",
    "### Best extrapolation"
   ]
  },
  {
   "cell_type": "code",
   "execution_count": 23,
   "metadata": {},
   "outputs": [
    {
     "data": {
      "image/png": "[encoded data removed]",
      "text/plain": [
       "<Figure size 432x288 with 12 Axes>"
      ]
     },
     "metadata": {
      "needs_background": "light"
     },
     "output_type": "display_data"
    }
   ],
   "source": [
    "for fish_num in range(len(file_names)):\n",
    "    fish_name = file_names[fish_num][0][:-5]\n",
    "\n",
    "    plt.subplot(2,3,fish_num+1)\n",
    "    plt.title(fish_name)\n",
    "    plt.yscale('log')\n",
    "    plt.plot(np.arange(1,7), mses_best[fish_num,:],'.-')\n",
    "    ax = plt.twinx()\n",
    "    # ax.set_yscale('log')\n",
    "    ax.plot(np.arange(2,7), (mses_best[fish_num,1:]-mses_best[fish_num,:-1])/mses_best[fish_num,:-1]*100,'.-', c='C1')\n",
    "    ax.plot([1, 6], [-1, -1], 'k--', lw=0.5)\n",
    "    plt.xticks(np.arange(1,7))\n",
    "plt.tight_layout()"
   ]
  },
  {
   "cell_type": "code",
   "execution_count": 11,
   "metadata": {},
   "outputs": [],
   "source": [
    "best_num_components = {'090711e':3, '090811c':3, '090811d':3, '091111a':4, '091111c':3, '091211a':3}"
   ]
  },
  {
   "cell_type": "markdown",
   "metadata": {},
   "source": [
    "To determine the number of components to use, we looked for the elbow in the %change in MSE after which error did not decrease with increasing number of components. \n",
    "\n",
    "For fish 091211a, we used 3 components, as after this point, there would be a zero component for the fits to one of the two responses."
   ]
  },
  {
   "cell_type": "code",
   "execution_count": 38,
   "metadata": {
    "scrolled": true
   },
   "outputs": [
    {
     "data": {
      "image/png": "[encoded data removed]",
      "text/plain": [
       "<Figure size 432x288 with 1 Axes>"
      ]
     },
     "metadata": {
      "needs_background": "light"
     },
     "output_type": "display_data"
    }
   ],
   "source": [
    "fish_num = 5\n",
    "fish_name = file_names[fish_num][0][:-5]\n",
    "\n",
    "\n",
    "fit_file_original = sio.loadmat('fit/results/best/'+fish_name+'.mat')\n",
    "lls_original = fit_file_original['lls']\n",
    "fits_original = fit_file_original['fits']\n",
    "best_trace_inds = np.argmax(lls_original, axis=1)\n",
    "\n",
    "n = 4\n",
    "timeconstants = 1/np.maximum(1e-3, fits_original[n-1,0][best_trace_inds[n-1],n:])\n",
    "# Time constant 10^3 -> infinity\n",
    "c1 = fits_original[n-1,0][best_trace_inds[n-1],:n]\n",
    "c2 = fits_original[n-1,1][best_trace_inds[n-1],:n]\n",
    "plt.xscale('log')\n",
    "plt.scatter(timeconstants, c1)\n",
    "plt.scatter(timeconstants, c2)\n",
    "plt.ylim([0, plt.ylim()[1]]);"
   ]
  },
  {
   "cell_type": "markdown",
   "metadata": {},
   "source": [
    "### Conservative extrapolation"
   ]
  },
  {
   "cell_type": "code",
   "execution_count": 30,
   "metadata": {},
   "outputs": [
    {
     "data": {
      "image/png": "[encoded data removed]",
      "text/plain": [
       "<Figure size 432x288 with 12 Axes>"
      ]
     },
     "metadata": {
      "needs_background": "light"
     },
     "output_type": "display_data"
    }
   ],
   "source": [
    "for fish_num in range(len(file_names)):\n",
    "    fish_name = file_names[fish_num][0][:-5]\n",
    "\n",
    "    plt.subplot(2,3,fish_num+1)\n",
    "    plt.title(fish_name)\n",
    "    plt.yscale('log')\n",
    "    plt.plot(np.arange(1,7), mses_conservative[fish_num,:],'.-')\n",
    "    ax = plt.twinx()\n",
    "    # ax.set_yscale('log')\n",
    "    ax.plot(np.arange(2,7), (mses_conservative[fish_num,1:]-mses_conservative[fish_num,:-1])/mses_conservative[fish_num,:-1]*100,'.-', c='C1')\n",
    "    ax.plot([1, 6], [-1, -1], 'k--', lw=0.5)\n",
    "    plt.xticks(np.arange(1,7))\n",
    "plt.tight_layout()"
   ]
  },
  {
   "cell_type": "code",
   "execution_count": 12,
   "metadata": {},
   "outputs": [],
   "source": [
    "best_num_components_conservative = {'090711e':3, '090811c':3, '090811d':4, '091111a':4, '091111c':3, '091211a':3}"
   ]
  },
  {
   "cell_type": "markdown",
   "metadata": {},
   "source": [
    "As above, fish 091211a had a zero component in the fit to one of the traces for ≥4 components."
   ]
  },
  {
   "cell_type": "code",
   "execution_count": 39,
   "metadata": {},
   "outputs": [
    {
     "data": {
      "image/png": "[encoded data removed]",
      "text/plain": [
       "<Figure size 432x288 with 1 Axes>"
      ]
     },
     "metadata": {
      "needs_background": "light"
     },
     "output_type": "display_data"
    }
   ],
   "source": [
    "fish_num = 5\n",
    "fish_name = file_names[fish_num][0][:-5]\n",
    "\n",
    "\n",
    "fit_file_conservative = sio.loadmat('fit/results/conservative/'+fish_name+'_conservative.mat')\n",
    "lls_conservative = fit_file_conservative['lls']\n",
    "fits_conservative = fit_file_conservative['fits']\n",
    "best_trace_inds_conservative = np.argmax(lls_conservative, axis=1)\n",
    "\n",
    "n = 4\n",
    "timeconstants = 1/np.maximum(1e-3, fits_conservative[n-1,0][best_trace_inds_conservative[n-1],n:])\n",
    "# Time constant 10^3 -> infinity\n",
    "c1 = fits_conservative[n-1,0][best_trace_inds_conservative[n-1],:n]\n",
    "c2 = fits_conservative[n-1,1][best_trace_inds_conservative[n-1],:n]\n",
    "plt.xscale('log')\n",
    "plt.scatter(timeconstants, c1)\n",
    "plt.scatter(timeconstants, c2)\n",
    "plt.ylim([0, plt.ylim()[1]]);"
   ]
  },
  {
   "cell_type": "markdown",
   "metadata": {},
   "source": [
    "# Parameter summaries\n",
    "\n",
    "## Best 3 component models (in text)"
   ]
  },
  {
   "cell_type": "code",
   "execution_count": 41,
   "metadata": {},
   "outputs": [],
   "source": [
    "best_fits = np.zeros((9, max_num_components))\n",
    "timeconstants_unique = np.zeros((len(file_names), 3))\n",
    "j = 0\n",
    "n = 3\n",
    "for fish_num in range(len(file_names)):\n",
    "    fish_name = file_names[fish_num][0][:-5]\n",
    "    fit_file_original = sio.loadmat('fit/results/best/'+fish_name+'.mat')\n",
    "    lls_original = fit_file_original['lls']\n",
    "    fits_original = fit_file_original['fits']\n",
    "    best_trace_ind = np.argmax(lls_original[n-1, :])\n",
    "    \n",
    "    for i in range(len(file_names[fish_num])):\n",
    "        best_fit = fits_original[n-1, i][best_trace_ind, :]\n",
    "        best_fits[j,:] = fits_original[n-1, i][best_trace_ind, :]\n",
    "        j += 1\n",
    "    timeconstants_unique[fish_num,:] = fits_original[n-1, i][best_trace_ind, 3:]"
   ]
  },
  {
   "cell_type": "code",
   "execution_count": 42,
   "metadata": {},
   "outputs": [],
   "source": [
    "best_fits_conservative = np.zeros((9, max_num_components))\n",
    "timeconstants_unique_conservative = np.zeros((len(file_names), 3))\n",
    "j = 0\n",
    "n=3\n",
    "for fish_num in range(len(file_names)):\n",
    "    fish_name = file_names[fish_num][0][:-5]\n",
    "    fit_file_original = sio.loadmat('fit/results/conservative/'+fish_name+'_conservative.mat')\n",
    "    lls_original = fit_file_original['lls']\n",
    "    fits_original = fit_file_original['fits']\n",
    "    best_trace_ind = np.argmax(lls_original[n-1, :])\n",
    "    \n",
    "    # plt.subplot(2,3,fish_num+1)\n",
    "    for i in range(len(file_names[fish_num])):\n",
    "        best_fit = fits_original[n-1, i][best_trace_ind, :]\n",
    "        # timeconstants = np.minimum(1/best_fit[-n:], 1e3 )\n",
    "        best_fits_conservative[j,:] = fits_original[n-1, i][best_trace_ind, :]\n",
    "        j += 1\n",
    "    timeconstants_unique_conservative[fish_num,:] = fits_original[n-1, i][best_trace_ind, 3:]"
   ]
  },
  {
   "cell_type": "code",
   "execution_count": 45,
   "metadata": {},
   "outputs": [
    {
     "name": "stdout",
     "output_type": "stream",
     "text": [
      "25%ile: [ 0.13077673  1.91054113 30.75308212]\n",
      "Median: [ 0.17027792  2.5223347  38.78140219]\n",
      "75%ile: [0.2266596  2.72392355        inf]\n"
     ]
    }
   ],
   "source": [
    "## Best extrap\n",
    "with np.errstate(divide='ignore'):\n",
    "    print(\"25%ile:\", np.percentile(1/timeconstants_unique, 25, axis=0))\n",
    "    print(\"Median:\", np.median(1/timeconstants_unique, axis=0))\n",
    "    print(\"75%ile:\", np.percentile(1/timeconstants_unique, 75, axis=0))"
   ]
  },
  {
   "cell_type": "code",
   "execution_count": 46,
   "metadata": {},
   "outputs": [
    {
     "name": "stdout",
     "output_type": "stream",
     "text": [
      "25%ile: [ 0.13051986  1.58234041 16.76520481]\n",
      "Median: [ 0.17200786  2.18824734 22.26353717]\n",
      "75%ile: [0.19324621 2.64756824        inf]\n"
     ]
    }
   ],
   "source": [
    "## Conservative\n",
    "with np.errstate(divide='ignore'):\n",
    "    print(\"25%ile:\", np.percentile(1/timeconstants_unique_conservative, 25, axis=0))\n",
    "    print(\"Median:\", np.median(1/timeconstants_unique_conservative, axis=0))\n",
    "    print(\"75%ile:\", np.percentile(1/timeconstants_unique_conservative, 75, axis=0))"
   ]
  },
  {
   "cell_type": "markdown",
   "metadata": {},
   "source": [
    "## Mixed 3/4 tau models (to plot)"
   ]
  },
  {
   "cell_type": "code",
   "execution_count": 47,
   "metadata": {},
   "outputs": [],
   "source": [
    "best_fits_3 = np.zeros((sum([best_num_components[file_names[i][j][:-5]] == 3 for i in range(len(file_names)) for j in range(len(file_names[i]))]), 6))\n",
    "best_fits_4 = np.zeros((sum([best_num_components[file_names[i][j][:-5]] == 4 for i in range(len(file_names)) for j in range(len(file_names[i]))]), 8))\n",
    "\n",
    "j3 = 0\n",
    "j4 = 0\n",
    "for fish_num in range(len(file_names)):\n",
    "    fish_name = file_names[fish_num][0][:-5]\n",
    "    n = best_num_components[fish_name]\n",
    "    fit_file_original = sio.loadmat('fit/results/best/'+fish_name+'.mat')\n",
    "    lls_original = fit_file_original['lls']\n",
    "    fits_original = fit_file_original['fits']\n",
    "    best_trace_ind = np.argmax(lls_original[n-1, :])\n",
    "    \n",
    "    for i in range(len(file_names[fish_num])):\n",
    "        best_fit = fits_original[n-1, i][best_trace_ind, :]\n",
    "        sort_order = np.flip(np.argsort(best_fit[n:]))\n",
    "        coeffs = best_fit[sort_order]\n",
    "        taus = best_fit[n+sort_order]\n",
    "        if n == 4:\n",
    "            best_fits_4[j4, :] = np.concatenate((coeffs, taus))\n",
    "            j4 += 1\n",
    "        else:\n",
    "            best_fits_3[j3, :] = np.concatenate((coeffs, taus))\n",
    "            j3+= 1"
   ]
  },
  {
   "cell_type": "code",
   "execution_count": 48,
   "metadata": {},
   "outputs": [],
   "source": [
    "best_fits_3_conservative = np.zeros((sum([best_num_components_conservative[file_names[i][j][:-5]] == 3 for i in range(len(file_names)) for j in range(len(file_names[i]))]), 6))\n",
    "best_fits_4_conservative = np.zeros((sum([best_num_components_conservative[file_names[i][j][:-5]] == 4 for i in range(len(file_names)) for j in range(len(file_names[i]))]), 8))\n",
    "\n",
    "j3 = 0\n",
    "j4 = 0\n",
    "for fish_num in range(len(file_names)):\n",
    "    fish_name = file_names[fish_num][0][:-5]\n",
    "    n = best_num_components_conservative[fish_name]\n",
    "    fit_file_original = sio.loadmat('fit/results/conservative/'+fish_name+'_conservative.mat')\n",
    "    lls_original = fit_file_original['lls']\n",
    "    fits_original = fit_file_original['fits']\n",
    "    best_trace_ind = np.argmax(lls_original[n-1, :])\n",
    "    \n",
    "    for i in range(len(file_names[fish_num])):\n",
    "        best_fit = fits_original[n-1, i][best_trace_ind, :]\n",
    "        sort_order = np.flip(np.argsort(best_fit[n:]))\n",
    "        coeffs = best_fit[sort_order]\n",
    "        taus = best_fit[n+sort_order]\n",
    "        if n == 4:\n",
    "            best_fits_4_conservative[j4, :] = np.concatenate((coeffs, taus))\n",
    "            j4 += 1\n",
    "        else:\n",
    "            best_fits_3_conservative[j3, :] = np.concatenate((coeffs, taus))\n",
    "            j3+= 1"
   ]
  },
  {
   "cell_type": "markdown",
   "metadata": {},
   "source": [
    "## Figure 4E: parameter summary for best extrapolation"
   ]
  },
  {
   "cell_type": "code",
   "execution_count": 49,
   "metadata": {},
   "outputs": [
    {
     "data": {
      "image/png": "[encoded data removed]",
      "text/plain": [
       "<Figure size 93.6x93.6 with 1 Axes>"
      ]
     },
     "metadata": {
      "needs_background": "light"
     },
     "output_type": "display_data"
    }
   ],
   "source": [
    "plt.figure(figsize=(1.3, 1.3))\n",
    "plt.xscale('log')\n",
    "\n",
    "\n",
    "for i in range(best_fits_3.shape[0]):\n",
    "    plt.plot(1/np.maximum(best_fits_3[i, 3:], 1/5e2), best_fits_3[i, :3], '.-', lw=0.25, ms=4, c='C3', clip_on=False) \n",
    "for i in range(best_fits_4.shape[0]):\n",
    "    plt.plot(1/np.maximum(best_fits_4[i, 4:], 1/5e2), best_fits_4[i, :4], '.-', lw=0.25, ms=4, c='k', clip_on=False)   \n",
    "\n",
    "plt.ylim([0, 0.75])\n",
    "plt.xlim([0.25e-1, 3e2])\n",
    "ax = plt.gca()\n",
    "ax.set_yticks(np.linspace(0,0.75,4))\n",
    "ax.set_yticklabels([0, '','',0.75])\n",
    "\n",
    "locmin = matplotlib.ticker.LogLocator(base=10.0,subs='all',numticks=5)\n",
    "ax.xaxis.set_minor_locator(locmin)\n",
    "ax.xaxis.set_minor_formatter(matplotlib.ticker.NullFormatter())\n",
    "ax.set_xticks([1e-1, 1e0, 1e1, 1e2, 5e2])\n",
    "ax.set_xticklabels([r'$10^{-1}$', '', '', '', r'$\\infty$']);\n",
    "\n",
    "ax.spines['right'].set_visible(False)\n",
    "ax.spines['top'].set_visible(False)\n",
    "\n",
    "plt.figtext(0.97, 0.9, r'Best fit by 4 $\\tau$', color='k', horizontalalignment='right')\n",
    "plt.figtext(0.97, 0.8, r'Best fit by 3 $\\tau$', color='C3', horizontalalignment='right')\n",
    "\n",
    "plt.subplots_adjust(left = 0.21, top = 0.95, bottom=0.18, right=0.96)"
   ]
  },
  {
   "cell_type": "markdown",
   "metadata": {},
   "source": [
    "## Figure 4F: parameter summary for conservative extrapolation"
   ]
  },
  {
   "cell_type": "code",
   "execution_count": 51,
   "metadata": {},
   "outputs": [
    {
     "data": {
      "image/png": "[encoded data removed]",
      "text/plain": [
       "<Figure size 93.6x93.6 with 1 Axes>"
      ]
     },
     "metadata": {
      "needs_background": "light"
     },
     "output_type": "display_data"
    }
   ],
   "source": [
    "plt.figure(figsize=(1.3, 1.3))\n",
    "plt.xscale('log')\n",
    "\n",
    "for i in range(best_fits_3_conservative.shape[0]):\n",
    "    plt.plot(1/np.maximum(best_fits_3_conservative[i, 3:], 1/5e2), best_fits_3_conservative[i, :3], '.-', lw=0.25, ms=4, c='C3', clip_on=False) \n",
    "for i in range(best_fits_4_conservative.shape[0]):\n",
    "    plt.plot(1/np.maximum(best_fits_4_conservative[i, 4:], 1/5e2), best_fits_4_conservative[i, :4], '.-', lw=0.25, ms=4, c='k', clip_on=False)   \n",
    "\n",
    "plt.ylim([0, 0.75])\n",
    "plt.xlim([0.25e-1, 3e2])\n",
    "ax = plt.gca()\n",
    "ax.set_yticks(np.linspace(0,0.75,4))\n",
    "ax.set_yticklabels([0, '','',0.75])\n",
    "\n",
    "locmin = matplotlib.ticker.LogLocator(base=10.0,subs='all',numticks=5)\n",
    "ax.xaxis.set_minor_locator(locmin)\n",
    "ax.xaxis.set_minor_formatter(matplotlib.ticker.NullFormatter())\n",
    "ax.set_xticks([1e-1, 1e0, 1e1, 1e2, 5e2])\n",
    "ax.set_xticklabels([r'$10^{-1}$', '', '', '', r'$\\infty$']);\n",
    "\n",
    "ax.spines['right'].set_visible(False)\n",
    "ax.spines['top'].set_visible(False)\n",
    "\n",
    "plt.subplots_adjust(left = 0.21, top = 0.95, bottom=0.18, right=0.96)"
   ]
  },
  {
   "cell_type": "markdown",
   "metadata": {},
   "source": [
    "# Example traces"
   ]
  },
  {
   "cell_type": "code",
   "execution_count": 16,
   "metadata": {},
   "outputs": [],
   "source": [
    "dt = 72*2e-4"
   ]
  },
  {
   "cell_type": "code",
   "execution_count": 39,
   "metadata": {},
   "outputs": [],
   "source": [
    "example_fish = 4\n",
    "example_trace_num = np.minimum(0, len(file_names[example_fish])-1)\n",
    "example_trace = file_names[example_fish][example_trace_num]\n",
    "fish_name = example_trace[:-5]\n",
    "n = best_num_components[fish_name] # 3\n",
    "n_conservative = best_num_components_conservative[fish_name] \n",
    "\n",
    "### Best extrapolation\n",
    "# Import data\n",
    "sr_trange, sr_data = prepareStepResponse(example_trace, num_components_extrap = best_num_components_extrap[example_trace])\n",
    "\n",
    "sr_trange_full = np.arange(0, int(sr_trange[-1]/dt))*dt\n",
    "\n",
    "# Import fit\n",
    "fit_file_original = sio.loadmat('fit/results/best/'+fish_name+'.mat')\n",
    "lls_original = fit_file_original['lls']\n",
    "fits_original = fit_file_original['fits']\n",
    "best_trace_ind = np.argmax(lls_original, axis=1)\n",
    "\n",
    "best_fit_3 = fits_original[n-1, example_trace_num][best_trace_ind[n-1], :]\n",
    "best_fit_2 = fits_original[1, example_trace_num][best_trace_ind[1], :]\n",
    "best_fit_1 = fits_original[0, example_trace_num][best_trace_ind[0], :]\n",
    "\n",
    "# Fit constrained to have tau < 5 s\n",
    "fit_file_original_bounded = sio.loadmat('fit/results/best/'+fish_name+'_5s.mat')\n",
    "lls_original_bounded = fit_file_original_bounded['lls']\n",
    "fits_original_bounded = fit_file_original_bounded['fits']\n",
    "best_trace_ind = np.argmax(lls_original_bounded, axis=1)\n",
    "\n",
    "best_fit_ = fits_original_bounded[n-1, example_trace_num][best_trace_ind[n-1], :]\n",
    "\n",
    "best_models_example = np.zeros((4, len(sr_trange_full)))\n",
    "best_models_example[0,:] = fitting_functions.exponentialModel(sr_trange_full, best_fit_1)\n",
    "best_models_example[1,:] = fitting_functions.exponentialModel(sr_trange_full, best_fit_)\n",
    "best_models_example[2,:] = fitting_functions.exponentialModel(sr_trange_full, best_fit_2)\n",
    "best_models_example[3,:] = fitting_functions.exponentialModel(sr_trange_full, best_fit_3)\n",
    "\n",
    "    \n",
    "### Conservative extrapolation\n",
    "sr_trange_conservative, sr_data_conservative = prepareStepResponse(example_trace, conservative=True)\n",
    "\n",
    "fit_file_conservative = sio.loadmat('fit/results/conservative/'+fish_name+'_conservative.mat')\n",
    "lls_conservative = fit_file_conservative['lls']\n",
    "fits_conservative = fit_file_conservative['fits']\n",
    "best_trace_ind_conservative = np.argmax(lls_conservative, axis=1)\n",
    "\n",
    "best_fit_3 = fits_conservative[n_conservative, example_trace_num][best_trace_ind_conservative[n_conservative-1], :]\n",
    "best_fit_2 = fits_conservative[1, example_trace_num][best_trace_ind_conservative[1], :]\n",
    "best_fit_1 = fits_conservative[0, example_trace_num][best_trace_ind_conservative[0], :]\n",
    "\n",
    "fit_file_conservative_bounded = sio.loadmat('fit/results/conservative/'+fish_name+'_5s_conservative.mat')\n",
    "lls_conservative_bounded = fit_file_conservative_bounded['lls']\n",
    "fits_conservative_bounded = fit_file_conservative_bounded['fits']\n",
    "best_trace_ind = np.argmax(lls_conservative_bounded, axis=1)\n",
    "\n",
    "best_fit_ = fits_conservative_bounded[n-1, example_trace_num][best_trace_ind[n-1], :]\n",
    "\n",
    "best_models_conservative_example = np.zeros((4, len(sr_trange_full)))\n",
    "best_models_conservative_example[0,:] = fitting_functions.exponentialModel(sr_trange_full, best_fit_1)\n",
    "best_models_conservative_example[1,:] = fitting_functions.exponentialModel(sr_trange_full, best_fit_)\n",
    "best_models_conservative_example[2,:] = fitting_functions.exponentialModel(sr_trange_full, best_fit_2)\n",
    "best_models_conservative_example[3,:] = fitting_functions.exponentialModel(sr_trange_full, best_fit_3)\n",
    "\n"
   ]
  },
  {
   "cell_type": "code",
   "execution_count": 28,
   "metadata": {},
   "outputs": [],
   "source": [
    "t_final_example_full = int(2/dt)"
   ]
  },
  {
   "cell_type": "code",
   "execution_count": 44,
   "metadata": {},
   "outputs": [
    {
     "data": {
      "image/png": "[encoded data removed]",
      "text/plain": [
       "<Figure size 108x93.6 with 2 Axes>"
      ]
     },
     "metadata": {
      "needs_background": "light"
     },
     "output_type": "display_data"
    }
   ],
   "source": [
    "plt.figure(figsize=(1.5, 1.3))\n",
    "plt.plot(sr_trange[1:], sr_data[1:]/sr_data[0], c=[0.7,]*3,lw=1)\n",
    "\n",
    "lws = [0.5, 0.5, 0.5, 0.75]\n",
    "colors = ['C9', red_l3, 'k', 'C3']\n",
    "for i in range(4):\n",
    "    plt.plot(sr_trange_full, best_models_example[i,:], c=colors[i], lw=lws[i])\n",
    "\n",
    "ax = plt.gca()\n",
    "ax.spines['top'].set_visible(False)\n",
    "ax.spines['right'].set_visible(False)\n",
    "\n",
    "plt.ylabel('Normalized eye pos.',labelpad=2)\n",
    "plt.subplots_adjust(left = 0.21, top = 0.95, bottom=0.18, right=0.98)\n",
    "\n",
    "ax.set_yticks(np.linspace(0, 1, 6))\n",
    "ax.set_yticklabels([0, '', '', '', '', 1])\n",
    "plt.ylim([-0.02, 1])\n",
    "plt.xlim([-0.5, np.ceil(sr_trange[-1])])\n",
    "\n",
    "ax.set_xticks(np.linspace(0, np.ceil(sr_trange[-1]),4))\n",
    "ax.set_xticklabels([0, '', '', int(np.ceil(sr_trange[-1]))])\n",
    "\n",
    "\n",
    "# plt.figtext(0.95, 0.85, r'%d $\\tau$ fit, $\\tau < \\infty$'%(n), color='C3', ha='right')\n",
    "# plt.figtext(0.95, 0.75, r'%d $\\tau$ fit, $\\tau < 5$ s'%(n), color=red_l3, ha='right')\n",
    "# plt.figtext(0.95, 0.65, r'2 $\\tau$ fit', color='k', ha='right')\n",
    "# plt.figtext(0.95, 0.55, r'1 $\\tau$ fit', color='C9', ha='right')\n",
    "\n",
    "ax1 = plt.axes([.6, .55, 0.25, .4])\n",
    "plt.yscale('log')\n",
    "plt.plot(sr_trange[1:t_final_example_full], sr_data[1:t_final_example_full]/sr_data[0], c=[0.7,]*3,lw=1)\n",
    "for i in range(4):\n",
    "    plt.plot(sr_trange_full[:t_final_example_full], best_models_example[i,:t_final_example_full], c=colors[i], lw=lws[i])\n",
    "\n",
    "\n",
    "ax1.set_ylim([3e-1, 1])\n",
    "ax1.set_xlim([-0.1, 2])\n",
    "ax1.set_yticklabels([],minor=True)\n",
    "ax1.yaxis.tick_right()\n",
    "\n",
    "plt.subplots_adjust(left = 0.15, top = 0.95, bottom=0.18, right=0.95) #left = 0.21"
   ]
  },
  {
   "cell_type": "code",
   "execution_count": 45,
   "metadata": {},
   "outputs": [
    {
     "data": {
      "image/png": "[encoded data removed]",
      "text/plain": [
       "<Figure size 108x93.6 with 2 Axes>"
      ]
     },
     "metadata": {
      "needs_background": "light"
     },
     "output_type": "display_data"
    }
   ],
   "source": [
    "plt.figure(figsize=(1.5, 1.3))\n",
    "plt.plot(sr_trange[1:], sr_data_conservative[1:]/sr_data_conservative[0], c=[0.7,]*3,lw=1)\n",
    "\n",
    "lws = [0.5, 0.5, 0.5, 0.75]\n",
    "colors = ['C9', red_l3, 'k', 'C3']\n",
    "for i in range(4):\n",
    "    plt.plot(sr_trange_full, best_models_conservative_example[i,:], c=colors[i], lw=lws[i])\n",
    "\n",
    "ax = plt.gca()\n",
    "ax.spines['top'].set_visible(False)\n",
    "ax.spines['right'].set_visible(False)\n",
    "\n",
    "plt.ylabel('Normalized eye pos.',labelpad=2)\n",
    "plt.subplots_adjust(left = 0.21, top = 0.95, bottom=0.18, right=0.98)\n",
    "\n",
    "ax.set_yticks(np.linspace(0, 1, 6))\n",
    "ax.set_yticklabels([0, '', '', '', '', 1])\n",
    "plt.ylim([-0.02, 1])\n",
    "plt.xlim([-0.5, np.ceil(sr_trange[-1])])\n",
    "\n",
    "ax.set_xticks(np.linspace(0, np.ceil(sr_trange[-1]),4))\n",
    "ax.set_xticklabels([0, '', '', int(np.ceil(sr_trange[-1]))])\n",
    "\n",
    "\n",
    "# plt.figtext(0.95, 0.85, r'%d $\\tau$ fit, $\\tau < \\infty$'%(n), color='C3', ha='right')\n",
    "# plt.figtext(0.95, 0.75, r'%d $\\tau$ fit, $\\tau < 5$ s'%(n), color=red_l3, ha='right')\n",
    "# plt.figtext(0.95, 0.65, r'2 $\\tau$ fit', color='k', ha='right')\n",
    "# plt.figtext(0.95, 0.55, r'1 $\\tau$ fit', color='C9', ha='right')\n",
    "\n",
    "ax1 = plt.axes([.4, .55, 0.25, .4])\n",
    "plt.yscale('log')\n",
    "plt.plot(sr_trange[1:t_final_example_full], sr_data_conservative[1:t_final_example_full]/sr_data_conservative[0], c=[0.7,]*3,lw=1)\n",
    "for i in range(4):\n",
    "    plt.plot(sr_trange_full[:t_final_example_full], best_models_conservative_example[i,:t_final_example_full], c=colors[i], lw=lws[i])\n",
    "\n",
    "\n",
    "ax1.set_ylim([3e-1, 1])\n",
    "ax1.set_xlim([-0.1, 2])\n",
    "ax1.set_yticklabels([],minor=True)\n",
    "ax1.yaxis.tick_right()\n",
    "\n",
    "plt.subplots_adjust(left = 0.15, top = 0.95, bottom=0.18, right=0.95) #left = 0.21"
   ]
  },
  {
   "cell_type": "markdown",
   "metadata": {},
   "source": [
    "# Calculate R^2 of fits"
   ]
  },
  {
   "cell_type": "code",
   "execution_count": 19,
   "metadata": {},
   "outputs": [],
   "source": [
    "r2s = np.zeros((2, 9))\n",
    "\n",
    "j = 0\n",
    "for fish_num in range(len(file_names)):\n",
    "    fish_name = file_names[fish_num][0][:-5]\n",
    "    n = best_num_components[fish_name]\n",
    "    n_conservative = best_num_components_conservative[fish_name]\n",
    "    for trace_num in range(len(file_names[fish_num])):\n",
    "        n_extrap = best_num_components_extrap[file_names[fish_num][trace_num]]\n",
    "        # Import data\n",
    "        sr_trange, sr_data = prepareStepResponse(file_names[fish_num][trace_num], num_components_extrap = n_extrap)\n",
    "\n",
    "        # Import fit\n",
    "        fit_file_original = sio.loadmat('fit/results/best/'+fish_name+'.mat')\n",
    "        lls_original = fit_file_original['lls']\n",
    "        fits_original = fit_file_original['fits']\n",
    "        best_trace_ind = np.argmax(lls_original, axis=1)\n",
    "\n",
    "        best_fit = fits_original[n-1, trace_num][best_trace_ind[n-1], :]\n",
    "        best_model = fitting_functions.exponentialModel(sr_trange, best_fit)\n",
    "        r2s[0,j] = R2(sr_data/sr_data[0], best_model)\n",
    "        \n",
    "\n",
    "        sr_trange_conservative, sr_data_conservative = prepareStepResponse(file_names[fish_num][trace_num],num_components_extrap = n_extrap, conservative=True)\n",
    "\n",
    "        fit_file_conservative = sio.loadmat('fit/results/conservative/'+fish_name+'_conservative.mat')\n",
    "        lls_conservative = fit_file_conservative['lls']\n",
    "        fits_conservative = fit_file_conservative['fits']\n",
    "        best_trace_ind_conservative = np.argmax(lls_conservative, axis=1)\n",
    "\n",
    "        best_fit_conservative = fits_conservative[n_conservative-1, trace_num][best_trace_ind_conservative[n_conservative-1], :]\n",
    "\n",
    "        best_model_conservative = fitting_functions.exponentialModel(sr_trange, best_fit_conservative)\n",
    "        r2s[1,j] = R2(sr_data_conservative/sr_data_conservative[0], best_model_conservative)\n",
    "        j+= 1"
   ]
  },
  {
   "cell_type": "markdown",
   "metadata": {},
   "source": [
    "Mean and sd of R^2 of step response fits using best, conservative extrapolations:"
   ]
  },
  {
   "cell_type": "code",
   "execution_count": 20,
   "metadata": {
    "scrolled": true
   },
   "outputs": [
    {
     "data": {
      "text/plain": [
       "array([0.98172499, 0.98288232])"
      ]
     },
     "execution_count": 20,
     "metadata": {},
     "output_type": "execute_result"
    }
   ],
   "source": [
    "np.mean(r2s, axis=1)"
   ]
  },
  {
   "cell_type": "code",
   "execution_count": 21,
   "metadata": {},
   "outputs": [
    {
     "data": {
      "text/plain": [
       "array([0.00712807, 0.00733547])"
      ]
     },
     "execution_count": 21,
     "metadata": {},
     "output_type": "execute_result"
    }
   ],
   "source": [
    "np.std(r2s, axis=1)"
   ]
  },
  {
   "cell_type": "markdown",
   "metadata": {},
   "source": [
    "Restricting to larvae with 2 responses:"
   ]
  },
  {
   "cell_type": "code",
   "execution_count": 25,
   "metadata": {},
   "outputs": [],
   "source": [
    "r2s = np.zeros((2, 3))\n",
    "\n",
    "j = 0\n",
    "for fish_num in range(len(file_names)):\n",
    "    fish_name = file_names[fish_num][0][:-5]\n",
    "    n = best_num_components[fish_name]\n",
    "    n_conservative = best_num_components_conservative[fish_name]\n",
    "    if len(file_names[fish_num])==1:\n",
    "        continue\n",
    "        \n",
    "    sr_data_all = [[] for i in range(2)]\n",
    "    best_models = [[] for i in range(2)]\n",
    "    \n",
    "    sr_data_all_conservative = [[] for i in range(2)]\n",
    "    best_models_conservative = [[] for i in range(2)]\n",
    "    for trace_num in range(len(file_names[fish_num])):\n",
    "        n_extrap = best_num_components_extrap[file_names[fish_num][trace_num]]\n",
    "        # Import data\n",
    "        sr_trange, sr_data = prepareStepResponse(file_names[fish_num][trace_num], num_components_extrap = n_extrap)\n",
    "        sr_data_all[trace_num] = sr_data/sr_data[0]\n",
    "            \n",
    "        # Import fit\n",
    "        fit_file_original = sio.loadmat('fit/results/best/'+fish_name+'.mat')\n",
    "        lls_original = fit_file_original['lls']\n",
    "        fits_original = fit_file_original['fits']\n",
    "        best_trace_ind = np.argmax(lls_original, axis=1)\n",
    "\n",
    "        best_fit = fits_original[n-1, trace_num][best_trace_ind[n-1], :]\n",
    "        best_models[trace_num] = fitting_functions.exponentialModel(sr_trange, best_fit)\n",
    "        \n",
    "\n",
    "        sr_trange_conservative, sr_data_conservative = prepareStepResponse(file_names[fish_num][trace_num],num_components_extrap = n_extrap, conservative=True)\n",
    "        sr_data_all_conservative[trace_num] = sr_data_conservative/sr_data_conservative[0]\n",
    "        \n",
    "        fit_file_conservative = sio.loadmat('fit/results/conservative/'+fish_name+'_conservative.mat')\n",
    "        lls_conservative = fit_file_conservative['lls']\n",
    "        fits_conservative = fit_file_conservative['fits']\n",
    "        best_trace_ind_conservative = np.argmax(lls_conservative, axis=1)\n",
    "\n",
    "        best_fit_conservative = fits_conservative[n_conservative-1, trace_num][best_trace_ind_conservative[n_conservative-1], :]\n",
    "\n",
    "        best_models_conservative[trace_num] = fitting_functions.exponentialModel(sr_trange, best_fit_conservative)\n",
    "    r2s[0,j] = R2(sr_data_all, best_models)\n",
    "    r2s[1,j] = R2(sr_data_all_conservative, best_models_conservative)\n",
    "    j+= 1"
   ]
  },
  {
   "cell_type": "code",
   "execution_count": 26,
   "metadata": {
    "scrolled": true
   },
   "outputs": [
    {
     "data": {
      "text/plain": [
       "array([0.98218131, 0.98324217])"
      ]
     },
     "execution_count": 26,
     "metadata": {},
     "output_type": "execute_result"
    }
   ],
   "source": [
    "np.mean(r2s, axis=1)"
   ]
  },
  {
   "cell_type": "code",
   "execution_count": 27,
   "metadata": {},
   "outputs": [
    {
     "data": {
      "text/plain": [
       "array([0.00854862, 0.00858335])"
      ]
     },
     "execution_count": 27,
     "metadata": {},
     "output_type": "execute_result"
    }
   ],
   "source": [
    "np.std(r2s, axis=1)"
   ]
  },
  {
   "cell_type": "markdown",
   "metadata": {},
   "source": [
    "# Bounded timeconstant fits"
   ]
  },
  {
   "cell_type": "code",
   "execution_count": 67,
   "metadata": {},
   "outputs": [],
   "source": [
    "# Best extrapolations\n",
    "mses_best_bounded = np.zeros((len(file_names), max_num_components))\n",
    "\n",
    "# Conservative extrapolations\n",
    "mses_conservative_bounded = np.zeros((len(file_names), max_num_components))\n",
    "\n",
    "for fish_num in range(len(file_names)):\n",
    "    fish_name = file_names[fish_num][0][:-5]\n",
    "    \n",
    "    fit_file_original = sio.loadmat('fit/results/best/'+fish_name+'_5s.mat')\n",
    "    lls_original = fit_file_original['lls']\n",
    "    fits_original = fit_file_original['fits']\n",
    "    best_trace_inds = np.nanargmax(lls_original, axis=1)\n",
    "    for j in range(max_num_components):\n",
    "        for i in range(len(file_names[fish_num])):\n",
    "            n_extrap = best_num_components_extrap[file_names[fish_num][i]]\n",
    "            sr_trange, sr_data = prepareStepResponse(file_names[fish_num][i], num_components_extrap = n_extrap)\n",
    "            best_fit = fits_original[j,i][best_trace_inds[j],:]\n",
    "            sse_fit = np.sum((sr_data/sr_data[0] - fitting_functions.exponentialModel(sr_trange, best_fit))**2)\n",
    "            mses_best_bounded[fish_num,j] += sse_fit/len(sr_trange)\n",
    "\n",
    "    fit_file_conservative = sio.loadmat('fit/results/conservative/'+fish_name+'_5s_conservative.mat')\n",
    "    lls_conservative = fit_file_conservative['lls']\n",
    "    fits_conservative = fit_file_conservative['fits']\n",
    "    best_trace_inds_conservative = np.nanargmax(lls_conservative, axis=1)\n",
    "    for j in range(max_num_components):\n",
    "        for i in range(len(file_names[fish_num])):\n",
    "            n_extrap = best_num_components_extrap[file_names[fish_num][i]]\n",
    "            sr_trange, sr_data = prepareStepResponse(file_names[fish_num][i], num_components_extrap = n_extrap, conservative=True)\n",
    "            best_fit = fits_conservative[j,i][best_trace_inds_conservative[j],:]\n",
    "            sse_fit = np.sum((sr_data/sr_data[0] - fitting_functions.exponentialModel(sr_trange, best_fit))**2)\n",
    "            mses_conservative_bounded[fish_num,j] += sse_fit/len(sr_trange)"
   ]
  },
  {
   "cell_type": "code",
   "execution_count": 68,
   "metadata": {},
   "outputs": [],
   "source": [
    "mse_ratio_best = mses_best_bounded/mses_best\n",
    "mse_ratio_conservative = mses_conservative_bounded/mses_conservative"
   ]
  },
  {
   "cell_type": "markdown",
   "metadata": {},
   "source": [
    "### Fold decrease in MSE for 3-component models"
   ]
  },
  {
   "cell_type": "code",
   "execution_count": 69,
   "metadata": {},
   "outputs": [
    {
     "data": {
      "text/plain": [
       "(47.71301434088137, 20.15744409514466)"
      ]
     },
     "execution_count": 69,
     "metadata": {},
     "output_type": "execute_result"
    }
   ],
   "source": [
    "np.median(mse_ratio_best[:,2]), np.median(mse_ratio_conservative[:,2])"
   ]
  },
  {
   "cell_type": "markdown",
   "metadata": {},
   "source": [
    "Range for best extrapolation:"
   ]
  },
  {
   "cell_type": "code",
   "execution_count": 14,
   "metadata": {},
   "outputs": [
    {
     "data": {
      "text/plain": [
       "[3.055617203040992, 458.8282999925055]"
      ]
     },
     "execution_count": 14,
     "metadata": {},
     "output_type": "execute_result"
    }
   ],
   "source": [
    "[np.min(mse_ratio_best[:,2]), np.max(mse_ratio_best[:,2])]"
   ]
  },
  {
   "cell_type": "markdown",
   "metadata": {},
   "source": [
    "Range for conservative extrapolation:"
   ]
  },
  {
   "cell_type": "code",
   "execution_count": 15,
   "metadata": {},
   "outputs": [
    {
     "data": {
      "text/plain": [
       "[1.3348220571289102, 356.0526894684784]"
      ]
     },
     "execution_count": 15,
     "metadata": {},
     "output_type": "execute_result"
    }
   ],
   "source": [
    "[np.min(mse_ratio_conservative[:,2]), np.max(mse_ratio_conservative[:,2])]"
   ]
  },
  {
   "cell_type": "markdown",
   "metadata": {},
   "source": [
    "# Summary plant"
   ]
  },
  {
   "cell_type": "code",
   "execution_count": 10,
   "metadata": {},
   "outputs": [],
   "source": [
    "fit_file_summary = sio.loadmat('plants/summary-plant/sr_fits.mat')\n",
    "lls_summary = fit_file_summary['lls']\n",
    "fits_summary = fit_file_summary['fits']\n",
    "# sse_summary = fit_file_summary['sses']"
   ]
  },
  {
   "cell_type": "code",
   "execution_count": 11,
   "metadata": {},
   "outputs": [],
   "source": [
    "all_traces = [ '090711e_0006', '090811c_0002','090811d_0002','090811d_0004',\n",
    "                '091111a_0001', '091111a_0003', '091111c_0003', '091211a_0002', '091211a_0005']"
   ]
  },
  {
   "cell_type": "code",
   "execution_count": 36,
   "metadata": {},
   "outputs": [],
   "source": [
    "# Best extrapolations\n",
    "mses_best_summary = np.zeros( max_num_components )\n",
    "best_trace_inds = np.argmax(lls_summary, axis=1)\n",
    "\n",
    "for j in range(max_num_components):\n",
    "    mse_temp = np.zeros(len(all_traces))\n",
    "    \n",
    "    for i in range(len(all_traces)):\n",
    "        n = best_num_components_extrap[all_traces[i]]\n",
    "        sr_trange, sr_data = prepareStepResponse(all_traces[i], num_components_extrap = n)\n",
    "\n",
    "        best_fit = fits_summary[j,i][best_trace_inds[j],:]\n",
    "        sse_fit = np.sum((sr_data/sr_data[0] - fitting_functions.exponentialModel(sr_trange, best_fit))**2)\n",
    "        mse_temp[j] = sse_fit/len(sr_trange)\n",
    "    mses_best_summary[j] = np.mean(mse_temp)"
   ]
  },
  {
   "cell_type": "code",
   "execution_count": 48,
   "metadata": {},
   "outputs": [
    {
     "data": {
      "image/png": "[encoded data removed]",
      "text/plain": [
       "<Figure size 432x288 with 2 Axes>"
      ]
     },
     "metadata": {
      "needs_background": "light"
     },
     "output_type": "display_data"
    }
   ],
   "source": [
    "plt.yscale('log')\n",
    "plt.plot(np.arange(1,7), mses_best_summary,'.-')\n",
    "plt.ylabel('MSE', color='C0', fontsize=12);\n",
    "ax = plt.twinx()\n",
    "ax.plot(np.arange(2,7), (mses_best_summary[1:]-mses_best_summary[:-1])/mses_best_summary[:-1]*100,'.-', c='C1')\n",
    "ax.plot([1, 6], [-10, -10], 'k--', lw=0.5)\n",
    "plt.ylabel('% change in MSE', color='C1', fontsize=12);\n",
    "plt.xticks(np.arange(1,7));"
   ]
  },
  {
   "cell_type": "code",
   "execution_count": 38,
   "metadata": {},
   "outputs": [
    {
     "data": {
      "image/png": "[encoded data removed]",
      "text/plain": [
       "<Figure size 432x288 with 9 Axes>"
      ]
     },
     "metadata": {
      "needs_background": "light"
     },
     "output_type": "display_data"
    }
   ],
   "source": [
    "n_summary = 3\n",
    "for i in range(len(all_traces)):\n",
    "    plt.subplot(3,3,i+1)\n",
    "    plt.title(all_traces[i],fontsize=10)\n",
    "    n = best_num_components_extrap[all_traces[i]]\n",
    "    sr_trange, sr_data = prepareStepResponse(all_traces[i], num_components_extrap = n)\n",
    "    best_fit = fits_summary[n_summary-1,i][best_trace_inds[n_summary-1],:]\n",
    "    plt.plot(sr_trange, sr_data/sr_data[0], c=(0.7,)*3)\n",
    "    plt.plot(sr_trange, fitting_functions.exponentialModel(sr_trange, best_fit), lw=1, c='C3')\n",
    "plt.tight_layout()"
   ]
  }
 ],
 "metadata": {
  "kernelspec": {
   "display_name": "Python 3",
   "language": "python",
   "name": "python3"
  },
  "language_info": {
   "codemirror_mode": {
    "name": "ipython",
    "version": 3
   },
   "file_extension": ".py",
   "mimetype": "text/x-python",
   "name": "python",
   "nbconvert_exporter": "python",
   "pygments_lexer": "ipython3",
   "version": "3.7.7"
  }
 },
 "nbformat": 4,
 "nbformat_minor": 2
}
