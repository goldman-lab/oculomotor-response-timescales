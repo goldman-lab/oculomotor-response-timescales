{
 "cells": [
  {
   "cell_type": "code",
   "execution_count": 1,
   "metadata": {},
   "outputs": [],
   "source": [
    "import numpy as np\n",
    "import matplotlib.pyplot as plt\n",
    "%matplotlib inline\n",
    "\n",
    "import sys\n",
    "sys.path.append('../../tools/')\n",
    "import fitting_functions\n",
    "\n",
    "import scipy.io as sio"
   ]
  },
  {
   "cell_type": "markdown",
   "metadata": {},
   "source": [
    "# Best extrapolation bootstrap results"
   ]
  },
  {
   "cell_type": "code",
   "execution_count": 2,
   "metadata": {},
   "outputs": [],
   "source": [
    "file_names = [('090711e_0006',), ('090811c_0002',), ('090811d_0002','090811d_0004',),\n",
    "       ('091111a_0001', '091111a_0003'), ('091111c_0003',), ('091211a_0002', '091211a_0005')]\n",
    "best_num_components = {'090711e':3, '090811c':3, '090811d':3, '091111a':4, '091111c':3, '091211a':3}\n",
    "\n",
    "num_bootstrap_examples =  100\n",
    "num_ics = 50"
   ]
  },
  {
   "cell_type": "code",
   "execution_count": 3,
   "metadata": {
    "scrolled": true
   },
   "outputs": [
    {
     "name": "stderr",
     "output_type": "stream",
     "text": [
      "/Users/jbhasin/opt/anaconda3/lib/python3.7/site-packages/numpy/core/_methods.py:202: RuntimeWarning: invalid value encountered in subtract\n",
      "  x = asanyarray(arr - arrmean)\n"
     ]
    }
   ],
   "source": [
    "stdvs = np.zeros((len(file_names), 3))\n",
    "stdvs_pcts = np.zeros((len(file_names),3))\n",
    "\n",
    "for i in range(len(file_names)):\n",
    "    fish_name = file_names[i][0][:-5]\n",
    "    n = 3\n",
    "    \n",
    "    fit_file = sio.loadmat('fit/results/best/'+fish_name+'.mat')\n",
    "    lls_fit = fit_file['lls']\n",
    "    fits = fit_file['fits']\n",
    "    best_trace_num = np.argmax(lls_fit[n-1, :])\n",
    "    \n",
    "    timeconstants_original = np.sort(fits[n-1,0][best_trace_num, n:])[::-1]\n",
    "    \n",
    "    ## Load bootstrapped fit parameters\n",
    "    bootstrap_file = sio.loadmat('bootstrap/results/best/'+fish_name+'_3tau.mat')\n",
    "    bootstrap_fits = bootstrap_file['fits']\n",
    "    bootstrap_tcs_sorted = np.sort(bootstrap_fits[:,0,n:], axis=1)[:, ::-1]\n",
    "    \n",
    "    with np.errstate(divide='ignore'):\n",
    "        stdvs[i,:] = np.std(1/bootstrap_tcs_sorted, axis=0)\n",
    "        stdvs_pcts[i,:] = stdvs[i,:]/(1/timeconstants_original)"
   ]
  },
  {
   "cell_type": "code",
   "execution_count": 6,
   "metadata": {},
   "outputs": [],
   "source": [
    "stdvs_pcts[np.isnan(stdvs_pcts)]=0"
   ]
  },
  {
   "cell_type": "code",
   "execution_count": 7,
   "metadata": {},
   "outputs": [
    {
     "data": {
      "text/plain": [
       "array([4.75776674, 4.81460114, 0.82060635])"
      ]
     },
     "execution_count": 7,
     "metadata": {},
     "output_type": "execute_result"
    }
   ],
   "source": [
    "np.nanmedian(stdvs_pcts, axis=0)*100"
   ]
  },
  {
   "cell_type": "markdown",
   "metadata": {},
   "source": [
    "# Conservative"
   ]
  },
  {
   "cell_type": "code",
   "execution_count": 8,
   "metadata": {},
   "outputs": [],
   "source": [
    "stdvs = np.zeros((len(file_names), 3))\n",
    "stdvs_pcts = np.zeros((len(file_names), 3))\n",
    "\n",
    "for i in range(len(file_names)):\n",
    "    fish_name = file_names[i][0][:-5]\n",
    "    n = 3\n",
    "    \n",
    "    fit_file = sio.loadmat('fit/results/conservative/'+fish_name+'_conservative.mat')\n",
    "    lls_fit = fit_file['lls']\n",
    "    fits = fit_file['fits']\n",
    "    best_trace_num = np.argmax(lls_fit[n-1, :])\n",
    "    \n",
    "    timeconstants_original = np.sort(fits[n-1,0][best_trace_num, n:])[::-1]\n",
    "    \n",
    "    ## Load bootstrapped fit parameters\n",
    "    bootstrap_file = sio.loadmat('bootstrap/results/conservative/'+fish_name+'_conservative_3tau.mat')\n",
    "    bootstrap_fits = bootstrap_file['fits']\n",
    "    bootstrap_tcs_sorted = np.sort(bootstrap_fits[:,0,n:], axis=1)[:, ::-1]\n",
    "    \n",
    "    # Stdev\n",
    "    with np.errstate(divide='ignore'):\n",
    "        stdvs[i,:] = np.std(1/bootstrap_tcs_sorted, axis=0)\n",
    "        stdvs_pcts[i,:] = stdvs[i,:]/(1/timeconstants_original)"
   ]
  },
  {
   "cell_type": "code",
   "execution_count": 9,
   "metadata": {},
   "outputs": [],
   "source": [
    "stdvs_pcts[np.isnan(stdvs_pcts)]=0"
   ]
  },
  {
   "cell_type": "code",
   "execution_count": 10,
   "metadata": {},
   "outputs": [
    {
     "data": {
      "text/plain": [
       "array([4.41426996, 5.19208362, 1.34189778])"
      ]
     },
     "execution_count": 10,
     "metadata": {},
     "output_type": "execute_result"
    }
   ],
   "source": [
    "np.nanmedian(stdvs_pcts, axis=0)*100"
   ]
  }
 ],
 "metadata": {
  "kernelspec": {
   "display_name": "Python 3",
   "language": "python",
   "name": "python3"
  },
  "language_info": {
   "codemirror_mode": {
    "name": "ipython",
    "version": 3
   },
   "file_extension": ".py",
   "mimetype": "text/x-python",
   "name": "python",
   "nbconvert_exporter": "python",
   "pygments_lexer": "ipython3",
   "version": "3.7.7"
  }
 },
 "nbformat": 4,
 "nbformat_minor": 2
}
