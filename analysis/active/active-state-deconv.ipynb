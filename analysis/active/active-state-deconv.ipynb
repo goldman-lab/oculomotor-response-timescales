{
 "cells": [
  {
   "cell_type": "code",
   "execution_count": 1,
   "metadata": {},
   "outputs": [],
   "source": [
    "import numpy as np\n",
    "\n",
    "# Save fonts into pdf\n",
    "import matplotlib\n",
    "matplotlib.rcParams['pdf.fonttype'] = 42\n",
    "matplotlib.rcParams['ps.fonttype'] = 42\n",
    "\n",
    "import matplotlib.pyplot as plt\n",
    "%matplotlib inline\n",
    "\n",
    "import scipy.io as sio\n",
    "\n",
    "import sys\n",
    "sys.path.append('../../tools/')\n",
    "import fitting_functions\n",
    "\n",
    "import matplotlib.colors\n",
    "import matplotlib.ticker as ticker\n",
    "\n",
    "import scipy.optimize"
   ]
  },
  {
   "cell_type": "code",
   "execution_count": null,
   "metadata": {},
   "outputs": [],
   "source": [
    "# Load R interface to do statistics\n",
    "import rpy2.rinterface\n",
    "%load_ext rpy2.ipython"
   ]
  },
  {
   "cell_type": "code",
   "execution_count": 2,
   "metadata": {},
   "outputs": [],
   "source": [
    "matplotlib.rcParams.update({'font.size': 8, 'axes.linewidth': 0.5, 'xtick.major.width': 0.5, 'xtick.minor.width': 0.5, \n",
    "                            'ytick.major.width': 0.5,'ytick.minor.width': 0.5, 'xtick.major.pad':2,'ytick.major.pad':2})\n",
    "matplotlib.rcParams.update({'font.family':'sans-serif','font.sans-serif':['Arial'], 'mathtext.default':'sf','mathtext.fontset':'custom'})\n",
    "\n",
    "matplotlib.rcParams.update({'savefig.transparent':True})"
   ]
  },
  {
   "cell_type": "code",
   "execution_count": 3,
   "metadata": {},
   "outputs": [],
   "source": [
    "def prepareStepResponse(filename, full=True, num_components_extrap = 2, num_components_sr = 3, \n",
    "                        conservative=False, use_summary=False, trace_ind = 0):\n",
    "    trange, eye_pos, pe_start_index, displacement_index, release_index, step_pos = fitting_functions.importActiveData('../../data/active/fixed/'+filename+'.mat')\n",
    "\n",
    "    fish_name = filename[:-5]\n",
    "    trange_mid = 72*2e-4*(np.arange(1, 16))\n",
    "    trange_full = np.concatenate((trange[:release_index+1], trange_mid+trange[release_index], trange[release_index+1:]))\n",
    "\n",
    "    if conservative:\n",
    "        conservative_file = sio.loadmat('extrap/results/'+filename+'_conservative.mat')\n",
    "        conservative_fit = conservative_file['fit'][0]\n",
    "        if full:\n",
    "            extrap = fitting_functions.exponentialModel(trange_full, conservative_fit)*eye_pos[0]\n",
    "            fit_file = sio.loadmat('fit/results/conservative/'+fish_name+'_conservative.mat')\n",
    "            lls_fit = fit_file['lls']\n",
    "            fits = fit_file['fits']\n",
    "            best_trace_ind = np.argmax(lls_fit[num_components_sr-1, :])\n",
    "            sr_data_mid = fitting_functions.exponentialModel(trange_mid, fits[num_components_sr-1,0][best_trace_ind,:])*step_pos\n",
    "        else:\n",
    "            extrap = fitting_functions.exponentialModel(trange, conservative_fit)*eye_pos[0]\n",
    "\n",
    "    else:\n",
    "        extrap_file = sio.loadmat('extrap/results/'+filename +'.mat')\n",
    "        lls = extrap_file['lls']\n",
    "        fits_extrap = extrap_file['fits']\n",
    "        best_fit_ind = np.argmax(lls[num_components_extrap-1,:])\n",
    "        if full:\n",
    "            extrap = fitting_functions.exponentialModel(trange_full, fits_extrap[num_components_extrap-1,0][best_fit_ind,:])*eye_pos[0]\n",
    "            if use_summary:\n",
    "                fit_file = sio.loadmat('plants/summary-plant/sr_fits.mat')\n",
    "                lls_fit = fit_file['lls']\n",
    "                fits = fit_file['fits']\n",
    "                best_trace_ind = np.argmax(lls_fit[2, :])\n",
    "                sr_data_mid = fitting_functions.exponentialModel(trange_mid, fits[2,trace_ind][best_trace_ind,:])*step_pos\n",
    "            else:\n",
    "                fit_file = sio.loadmat('fit/results/best/'+fish_name+'.mat')\n",
    "                lls_fit = fit_file['lls']\n",
    "                fits = fit_file['fits']\n",
    "                best_trace_ind = np.argmax(lls_fit[num_components_sr-1, :])\n",
    "                sr_data_mid = fitting_functions.exponentialModel(trange_mid, fits[num_components_sr-1,0][best_trace_ind,:])*step_pos\n",
    "        else:\n",
    "            extrap = fitting_functions.exponentialModel(trange, fits_extrap[num_components_extrap-1,0][best_fit_ind,:])*eye_pos[0]\n",
    "\n",
    "\n",
    "    if full:\n",
    "        eye_data =  eye_pos[displacement_index:]\n",
    "        sr_data = extrap[displacement_index:] - np.insert(eye_data, release_index-displacement_index+1, sr_data_mid)\n",
    "        sr_trange = trange_full[displacement_index:] - trange_full[displacement_index]\n",
    "    else:\n",
    "        sr_data = extrap[displacement_index:] - eye_pos[displacement_index:]\n",
    "        sr_trange = trange[displacement_index:] - trange[displacement_index]\n",
    "\n",
    "    return sr_trange, sr_data, release_index-displacement_index+1"
   ]
  },
  {
   "cell_type": "code",
   "execution_count": 4,
   "metadata": {},
   "outputs": [],
   "source": [
    "def deconvolveEyePos(trange, eye_pos, plant, ind=-1):\n",
    "    plant_model = fitting_functions.exponentialModel(trange, plant)\n",
    "    dt = trange[2]-trange[1]\n",
    "    \n",
    "    def convMat(signal, m):\n",
    "        mat = np.zeros((len(signal), m))\n",
    "        mat[:,0] = signal\n",
    "        for i in range(1, m):\n",
    "            mat[i:,i] = signal[:len(signal)-i]\n",
    "        return mat\n",
    "    \n",
    "    if ind == -1:\n",
    "        ind = len(trange)\n",
    "    mat = dt*convMat(plant_model, ind)\n",
    "    optresult = scipy.optimize.lsq_linear(mat, eye_pos, bounds=(0, np.inf))\n",
    "    f_ = np.zeros(len(trange))\n",
    "    f_[:len(optresult.x)] = optresult.x\n",
    "    return f_"
   ]
  },
  {
   "cell_type": "code",
   "execution_count": 5,
   "metadata": {},
   "outputs": [],
   "source": [
    "file_names = [('090711e_0006',), ('090811c_0002',), ('090811d_0002','090811d_0004',),\n",
    "   ('091111a_0001', '091111a_0003'), ('091111c_0003',), ('091211a_0002', '091211a_0005')]"
   ]
  },
  {
   "cell_type": "code",
   "execution_count": 6,
   "metadata": {},
   "outputs": [],
   "source": [
    "best_num_components_sr_best = {'090711e':3, '090811c':3, '090811d':3, '091111a':4, '091111c':3, '091211a':3}\n",
    "best_num_components_sr_conservative = {'090711e':3, '090811c':3, '090811d':4, '091111a':4, '091111c':3, '091211a':3}\n",
    "\n",
    "best_num_components_extrap = {'090711e_0006':2, '090811c_0002':2, '090811d_0002':2, '090811d_0004':2,'091111a_0001':2,\n",
    "                    '091111a_0003':3,'091111c_0003':2,'091211a_0002':2,'091211a_0005':2}\n"
   ]
  },
  {
   "cell_type": "code",
   "execution_count": 7,
   "metadata": {},
   "outputs": [],
   "source": [
    "def calculateAUC(plant_params, T = 20, total=False, normalized=True):\n",
    "    n = len(plant_params)//2\n",
    "    sort_order = np.flip(np.argsort(plant_params[n:]))\n",
    "    timeconstants = plant_params[n+sort_order]\n",
    "    c = plant_params[sort_order]\n",
    "    \n",
    "    \n",
    "    aucs = np.zeros(n)\n",
    "    for k in range(n):\n",
    "        if timeconstants[k] > 0:\n",
    "            aucs[k] = 1./timeconstants[k]*c[k]*(1-np.exp(-T*timeconstants[k]))\n",
    "        else:\n",
    "            aucs[k] = c[k]*T\n",
    "    if total:\n",
    "        return np.sum(aucs)\n",
    "    else:\n",
    "        if normalized:\n",
    "            return aucs/np.sum(aucs)\n",
    "        else:\n",
    "            return aucs"
   ]
  },
  {
   "cell_type": "markdown",
   "metadata": {},
   "source": [
    "# Parameter summary"
   ]
  },
  {
   "cell_type": "code",
   "execution_count": 9,
   "metadata": {},
   "outputs": [],
   "source": [
    "plants_best = {}\n",
    "plants_conservative = {}\n",
    "\n",
    "for fish_num in range(len(file_names)):\n",
    "    fish_name = file_names[fish_num][0][:-5]\n",
    "    n = best_num_components_sr_best[fish_name]\n",
    "    n_conservative = best_num_components_sr_conservative[fish_name]\n",
    "\n",
    "    ### Load results for best extrapolation\n",
    "    deconv_file = sio.loadmat('deconv/results/best/distributed/'+fish_name+'.mat')\n",
    "\n",
    "    fit_file = sio.loadmat('fit/results/best/'+fish_name+'.mat')\n",
    "    lls_fit = fit_file['lls']\n",
    "    fits = fit_file['fits']\n",
    "    best_trace_ind = np.argmax(lls_fit[n-1, :])\n",
    "    timeconstants = fits[n-1,0][best_trace_ind,n:]\n",
    "    \n",
    "    plants_best[fish_name] = np.concatenate((deconv_file['c'][0], timeconstants))\n",
    "    \n",
    "    ### Load results for conservative extrapolation\n",
    "    deconv_file = sio.loadmat('deconv/results/conservative/distributed/'+fish_name+'.mat')\n",
    "\n",
    "    fit_file = sio.loadmat('fit/results/conservative/'+fish_name+'_conservative.mat')\n",
    "    lls_fit = fit_file['lls']\n",
    "    fits = fit_file['fits']\n",
    "    best_trace_ind = np.argmax(lls_fit[n_conservative-1, :])\n",
    "    timeconstants = fits[n_conservative-1,0][best_trace_ind,n_conservative:]\n",
    "    \n",
    "    plants_conservative[fish_name] = np.concatenate((deconv_file['c'][0], timeconstants))"
   ]
  },
  {
   "cell_type": "code",
   "execution_count": 41,
   "metadata": {},
   "outputs": [],
   "source": [
    "## Save plants to file\n",
    "for fish_num in range(len(file_names)):\n",
    "    fish_name = file_names[fish_num][0][:-5]\n",
    "    \n",
    "    sio.savemat('plants/best/distributed/'+fish_name+'.mat', {'plant':plants_best[fish_name]})\n",
    "    sio.savemat('plants/conservative/distributed/'+fish_name+'.mat', {'plant':plants_conservative[fish_name]})"
   ]
  },
  {
   "cell_type": "code",
   "execution_count": 8,
   "metadata": {},
   "outputs": [],
   "source": [
    "# Load plants from file\n",
    "plants_best = {}\n",
    "plants_conservative = {}\n",
    "\n",
    "for fish_num in range(len(file_names)):\n",
    "    fish_name = file_names[fish_num][0][:-5]\n",
    "    plants_best[fish_name] = sio.loadmat('plants/best/distributed/'+fish_name+'.mat')['plant'][0]\n",
    "    plants_conservative[fish_name] = sio.loadmat('plants/conservative/distributed/'+fish_name+'.mat')['plant'][0]"
   ]
  },
  {
   "cell_type": "markdown",
   "metadata": {},
   "source": [
    "## Figure 5E: parameter summary for plants w/ best extrapolation"
   ]
  },
  {
   "cell_type": "code",
   "execution_count": 15,
   "metadata": {},
   "outputs": [
    {
     "data": {
      "image/png": "[encoded data removed]",
      "text/plain": [
       "<Figure size 93.6x93.6 with 1 Axes>"
      ]
     },
     "metadata": {
      "needs_background": "light"
     },
     "output_type": "display_data"
    }
   ],
   "source": [
    "plt.figure(figsize=(1.3, 1.3))\n",
    "plt.xscale('log')\n",
    "plt.yscale('log')\n",
    "for fish_num in range(len(file_names)):\n",
    "    fish_name = file_names[fish_num][0][:-5]\n",
    "    n = best_num_components_sr_best[fish_name]\n",
    "\n",
    "    if n == 3:\n",
    "        plt.plot(1/np.maximum(plants_best[fish_name][n:], 1/5e2), plants_best[fish_name][:n],'.-', ms=3, c='C3', lw=0.5, clip_on=False)\n",
    "    else:\n",
    "        plt.plot(1/np.maximum(plants_best[fish_name][n:], 1/5e2), plants_best[fish_name][:n], '.-', ms=3, c='k', lw=0.5, clip_on=False)\n",
    "    \n",
    "ax = plt.gca()\n",
    "\n",
    "ax.spines['right'].set_visible(False)\n",
    "ax.spines['top'].set_visible(False)\n",
    "\n",
    "plt.ylim([1e-3, 1])\n",
    "plt.xlim([0.25e-1, 3e2])\n",
    "ax.xaxis.set_minor_locator(ticker.LogLocator(numticks=10, subs='auto'))\n",
    "ax.get_xaxis().set_minor_formatter(ticker.NullFormatter())\n",
    "ax.set_xticks([1e-1, 1e0, 1e1, 1e2, 5e2])\n",
    "ax.set_xticklabels([r'$10^{-1}$',  '', '', r'$10^{2}$', r'$\\infty$']);\n",
    "\n",
    "ax.yaxis.set_minor_locator(ticker.LogLocator(numticks=10, subs='auto'))\n",
    "ax.get_yaxis().set_minor_formatter(ticker.NullFormatter())\n",
    "ax.set_yticks([1e-3, 1e-2, 1e-1, 1e0])\n",
    "ax.set_yticklabels([r'$10^{-3}$', '', '', r'$10^{0}$']);\n",
    "\n",
    "# to display axes fully in frame\n",
    "plt.subplots_adjust(left = 0.21, top = 0.96, bottom=0.18, right=0.98)"
   ]
  },
  {
   "cell_type": "markdown",
   "metadata": {},
   "source": [
    "## Figure 5F: area under the curve for plant components (best extrapolation)"
   ]
  },
  {
   "cell_type": "code",
   "execution_count": 18,
   "metadata": {},
   "outputs": [
    {
     "data": {
      "image/png": "[encoded data removed]",
      "text/plain": [
       "<Figure size 93.6x93.6 with 1 Axes>"
      ]
     },
     "metadata": {
      "needs_background": "light"
     },
     "output_type": "display_data"
    }
   ],
   "source": [
    "fig = plt.figure(figsize=(1.3,1.3))\n",
    "ax = plt.gca()\n",
    "for j in range(len(file_names)):\n",
    "    fish = file_names[j][0][:-5]\n",
    "    n = best_num_components_sr_best[fish]\n",
    "    if n == 3:\n",
    "        plt.plot([1.5, 3, 4], calculateAUC(plants_best[fish]),'.-', lw=0.5, ms=3, c='C3')\n",
    "    else:\n",
    "        plt.plot([1, 2, 3, 4], calculateAUC(plants_best[fish]),'.-', lw=0.5, ms=3, c='k')\n",
    "\n",
    "\n",
    "plt.ylim([0, 0.6])\n",
    "plt.yticks(np.linspace(0, 0.6, 5))\n",
    "ax.set_yticklabels([0, '', '', '', 0.6 ])\n",
    "\n",
    "ax.set_xticks([1,2,3,4])\n",
    "ax.set_xticklabels([])\n",
    "\n",
    "\n",
    "ax.spines['top'].set_visible(False)\n",
    "ax.spines['right'].set_visible(False)\n",
    "\n",
    "plt.subplots_adjust(left = 0.21, top = 0.96, bottom=0.18, right=0.98)"
   ]
  },
  {
   "cell_type": "markdown",
   "metadata": {},
   "source": [
    "## Parameter summary for plants w/ conservative extrapolation"
   ]
  },
  {
   "cell_type": "code",
   "execution_count": 16,
   "metadata": {},
   "outputs": [
    {
     "data": {
      "image/png": "[encoded data removed]",
      "text/plain": [
       "<Figure size 93.6x93.6 with 1 Axes>"
      ]
     },
     "metadata": {
      "needs_background": "light"
     },
     "output_type": "display_data"
    }
   ],
   "source": [
    "plt.figure(figsize=(1.3, 1.3))\n",
    "plt.xscale('log')\n",
    "plt.yscale('log')\n",
    "for fish_num in range(len(file_names)):\n",
    "    fish_name = file_names[fish_num][0][:-5]\n",
    "    n = best_num_components_sr_conservative[fish_name]\n",
    "\n",
    "    if n == 3:\n",
    "        plt.plot(1/np.maximum(plants_conservative[fish_name][n:], 1/5e2), plants_conservative[fish_name][:n],'.-', ms=3, c='C3', lw=0.5, clip_on=False)\n",
    "    else:\n",
    "        plt.plot(1/np.maximum(plants_conservative[fish_name][n:], 1/5e2), plants_conservative[fish_name][:n], '.-', ms=3, c='k', lw=0.5, clip_on=False)\n",
    "    \n",
    "ax = plt.gca()\n",
    "\n",
    "ax.spines['right'].set_visible(False)\n",
    "ax.spines['top'].set_visible(False)\n",
    "\n",
    "plt.ylim([1e-3, 1])\n",
    "plt.xlim([0.25e-1, 3e2])\n",
    "ax.xaxis.set_minor_locator(ticker.LogLocator(numticks=10, subs='auto'))\n",
    "ax.get_xaxis().set_minor_formatter(ticker.NullFormatter())\n",
    "ax.set_xticks([1e-1, 1e0, 1e1, 1e2, 5e2])\n",
    "ax.set_xticklabels([r'$10^{-1}$',  '', '', r'$10^{2}$', r'$\\infty$']);\n",
    "\n",
    "ax.yaxis.set_minor_locator(ticker.LogLocator(numticks=10, subs='auto'))\n",
    "ax.get_yaxis().set_minor_formatter(ticker.NullFormatter())\n",
    "ax.set_yticks([1e-3, 1e-2, 1e-1, 1e0])\n",
    "ax.set_yticklabels([r'$10^{-3}$', '', '', r'$10^{0}$']);\n",
    "\n",
    "# to display axes fully in frame\n",
    "plt.subplots_adjust(left = 0.21, top = 0.96, bottom=0.18, right=0.98)"
   ]
  },
  {
   "cell_type": "markdown",
   "metadata": {},
   "source": [
    "## Area under curve for plant components (conservative extrapolation)"
   ]
  },
  {
   "cell_type": "code",
   "execution_count": 19,
   "metadata": {},
   "outputs": [
    {
     "data": {
      "image/png": "[encoded data removed]",
      "text/plain": [
       "<Figure size 93.6x93.6 with 1 Axes>"
      ]
     },
     "metadata": {
      "needs_background": "light"
     },
     "output_type": "display_data"
    }
   ],
   "source": [
    "fig = plt.figure(figsize=(1.3,1.3))\n",
    "ax = plt.gca()\n",
    "for j in range(len(file_names)):\n",
    "    fish = file_names[j][0][:-5]\n",
    "    n = best_num_components_sr_conservative[fish]\n",
    "    if n == 3:\n",
    "        plt.plot([1.5, 3, 4], calculateAUC(plants_conservative[fish]),'.-', lw=0.5, ms=3, c='C3')\n",
    "    else:\n",
    "        plt.plot([1, 2, 3, 4], calculateAUC(plants_conservative[fish]),'.-', lw=0.5, ms=3, c='k')\n",
    "\n",
    "\n",
    "plt.ylim([0, 0.6])\n",
    "plt.yticks(np.linspace(0, 0.6, 5))\n",
    "ax.set_yticklabels([0, '', '', '', 0.6 ])\n",
    "\n",
    "ax.set_xticks([1,2,3,4])\n",
    "ax.set_xticklabels([])\n",
    "\n",
    "\n",
    "ax.spines['top'].set_visible(False)\n",
    "ax.spines['right'].set_visible(False)\n",
    "\n",
    "plt.subplots_adjust(left = 0.21, top = 0.96, bottom=0.18, right=0.98)"
   ]
  },
  {
   "cell_type": "markdown",
   "metadata": {},
   "source": [
    "# Fit quality evaluation"
   ]
  },
  {
   "cell_type": "code",
   "execution_count": 47,
   "metadata": {},
   "outputs": [],
   "source": [
    "def R2(data,fit):\n",
    "    try:\n",
    "        x = data.shape[0]\n",
    "        sstot = np.sum((fit - np.mean(data))**2)\n",
    "        sse = np.sum((fit - data)**2)\n",
    "    except:\n",
    "        sstot = np.sum([np.sum((fit[i] - np.mean(data[i]))**2) for i in range(len(data))])\n",
    "        sse = np.sum([np.sum((fit[i] - data[i])**2) for i in range(len(data))])\n",
    "    return 1-sse/sstot"
   ]
  },
  {
   "cell_type": "code",
   "execution_count": 76,
   "metadata": {
    "scrolled": false
   },
   "outputs": [],
   "source": [
    "r2s_reconstr = np.zeros((2, 6))\n",
    "i = 0\n",
    "for fish_num in range(len(file_names)):\n",
    "    fish_name = file_names[fish_num][0][:-5]\n",
    "    \n",
    "    n = best_num_components_sr_best[fish_name]\n",
    "    n_conservative = best_num_components_sr_conservative[fish_name]\n",
    "    \n",
    "    sr_data_all = [[] for i in range(len(file_names[fish_num]))]\n",
    "    reconstr_all_best = [[] for i in range(len(file_names[fish_num]))]\n",
    "    \n",
    "    sr_data_all_conservative = [[] for i in range(len(file_names[fish_num]))]\n",
    "    reconstr_all_conservative = [[] for i in range(len(file_names[fish_num]))]\n",
    "    \n",
    "    for trace_num in range(len(file_names[fish_num])):\n",
    "        sr_trange_full, sr_data_full, ind_full = prepareStepResponse(file_names[fish_num][trace_num], num_components_sr=n, num_components_extrap=n_extrap)\n",
    "        f = deconvolveEyePos(sr_trange_full, sr_data_full/sr_data_full[ind_full-1], plants_best[fish_name], ind_full)\n",
    "        f = np.copy(f)\n",
    "        f[ind_full-1] = f[ind_full-2]\n",
    "        \n",
    "        plant_model = fitting_functions.exponentialModel(sr_trange_full, plants_best[fish_name])\n",
    "        reconstr = 72*2e-4*np.convolve(plant_model, f)[:len(f)]\n",
    "        \n",
    "        sr_trange_plot, sr_data_plot, ind_plot = prepareStepResponse(file_names[fish_num][trace_num], num_components_sr=n, num_components_extrap=n_extrap, full=False)\n",
    "        sr_data_all[trace_num] = sr_data_plot[ind_plot:]/sr_data_plot[ind_plot-1]\n",
    "        reconstr_all_best[trace_num] = reconstr[ind_full+15:]\n",
    "        \n",
    "        # Conservative\n",
    "        sr_trange_full, sr_data_full, ind_full = prepareStepResponse(file_names[fish_num][trace_num],num_components_sr=n_conservative, num_components_extrap=n_extrap, conservative=True)\n",
    "        f = deconvolveEyePos(sr_trange_full, sr_data_full/sr_data_full[ind_full-1], plants_conservative[fish_name], ind_full)\n",
    "        f = np.copy(f)\n",
    "        f[ind_full-1] = f[ind_full-2]\n",
    "        \n",
    "        plant_model = fitting_functions.exponentialModel(sr_trange_full, plants_conservative[fish_name])\n",
    "        reconstr = 72*2e-4*np.convolve(plant_model, f)[:len(f)]\n",
    "        \n",
    "        sr_trange_plot, sr_data_plot, ind_plot = prepareStepResponse(file_names[fish_num][trace_num],num_components_sr=n_conservative, num_components_extrap=n_extrap, full=False, conservative=True)\n",
    "        sr_data_all_conservative[trace_num] = sr_data_plot[ind_plot:]/sr_data_plot[ind_plot-1]\n",
    "        reconstr_all_conservative[trace_num] = reconstr[ind_full+15:]\n",
    "    \n",
    "    r2s_reconstr[0,i] = R2(sr_data_all, reconstr_all_best)\n",
    "    r2s_reconstr[1,i] = R2(sr_data_all_conservative, reconstr_all_conservative)\n",
    "    i += 1"
   ]
  },
  {
   "cell_type": "code",
   "execution_count": 77,
   "metadata": {},
   "outputs": [
    {
     "data": {
      "text/plain": [
       "array([0.93608061, 0.96026434])"
      ]
     },
     "execution_count": 77,
     "metadata": {},
     "output_type": "execute_result"
    }
   ],
   "source": [
    "np.mean(r2s_reconstr, axis=1)"
   ]
  },
  {
   "cell_type": "code",
   "execution_count": 78,
   "metadata": {},
   "outputs": [
    {
     "data": {
      "text/plain": [
       "array([0.07283094, 0.04927981])"
      ]
     },
     "execution_count": 78,
     "metadata": {},
     "output_type": "execute_result"
    }
   ],
   "source": [
    "np.std(r2s_reconstr, axis=1)"
   ]
  },
  {
   "cell_type": "markdown",
   "metadata": {},
   "source": [
    "# Example traces"
   ]
  },
  {
   "cell_type": "code",
   "execution_count": 10,
   "metadata": {},
   "outputs": [],
   "source": [
    "example_fish = 4\n",
    "example_trace_num = 0\n",
    "example_trace = file_names[example_fish][example_trace_num]\n",
    "fish_name = example_trace[:-5]\n",
    "n = best_num_components_sr_best[fish_name]\n",
    "n_extrap = best_num_components_extrap[example_trace]\n",
    "\n",
    "# Import data\n",
    "sr_trange_full, sr_data_full, ind_full = prepareStepResponse(example_trace, num_components_sr = n, num_components_extrap=n_extrap, full=True)\n",
    "f_original = deconvolveEyePos(sr_trange_full, sr_data_full/sr_data_full[ind_full-1], plants_best[fish_name], ind_full)\n",
    "\n",
    "# remove \"blip\" at release time\n",
    "f_original[ind_full-1] = f_original[ind_full-2]\n",
    "\n",
    "plant_model = fitting_functions.exponentialModel(sr_trange_full, plants_best[fish_name])\n",
    "reconstr = 72*2e-4*np.convolve(plant_model, f_original)[:len(f_original)]"
   ]
  },
  {
   "cell_type": "code",
   "execution_count": 11,
   "metadata": {},
   "outputs": [],
   "source": [
    "sr_trange_plot, sr_data_plot, ind_plot = prepareStepResponse(example_trace,  num_components_sr = n, num_components_extrap=n_extrap, full=False)"
   ]
  },
  {
   "cell_type": "markdown",
   "metadata": {},
   "source": [
    "## Figure 5B: reconstructed eye position from blind deconvolution (best extrapolation)"
   ]
  },
  {
   "cell_type": "code",
   "execution_count": 17,
   "metadata": {},
   "outputs": [],
   "source": [
    "dt = 72*2e-4\n",
    "t_final_example = int(2/dt) + ind_plot\n",
    "t_final_example_full = int(2/dt) + ind_full"
   ]
  },
  {
   "cell_type": "code",
   "execution_count": 32,
   "metadata": {},
   "outputs": [
    {
     "data": {
      "image/png": "[encoded data removed]",
      "text/plain": [
       "<Figure size 93.6x93.6 with 2 Axes>"
      ]
     },
     "metadata": {
      "needs_background": "light"
     },
     "output_type": "display_data"
    }
   ],
   "source": [
    "plt.figure(figsize=(1.3, 1.3))\n",
    "plt.plot(sr_trange_plot[:ind_plot], sr_data_plot[:ind_plot]/sr_data_plot[ind_plot-1], c=(0.7, 0.7, 0.7, 1), clip_on=False)\n",
    "plt.plot(sr_trange_plot[ind_plot:], sr_data_plot[ind_plot:]/sr_data_plot[ind_plot-1], c=(0.7, 0.7, 0.7, 1), clip_on=False)\n",
    "plt.plot(sr_trange_full, reconstr, lw=0.75, c='C3', clip_on=False, zorder=10)\n",
    "\n",
    "plt.ylim([-0.05, 1.5])\n",
    "\n",
    "ax = plt.gca()\n",
    "ax.set_yticks(np.linspace(0,1.5,4))\n",
    "ax.set_yticklabels([0,'','',1.5])\n",
    "ax.spines['top'].set_visible(False)\n",
    "ax.spines['right'].set_visible(False)\n",
    "\n",
    "plt.xlim([0, int(np.ceil(sr_trange_full[-1]))])\n",
    "\n",
    "ax.set_xticks(np.linspace(0, int(np.ceil(sr_trange_full[-1])), 3))\n",
    "ax.set_xticklabels([0, '', int(np.ceil(sr_trange_full[-1]))])\n",
    "\n",
    "ax1 = plt.axes([.6, .58, 0.3, .4])\n",
    "plt.yscale('log')\n",
    "plt.plot(sr_trange_plot[ind_plot:t_final_example]-sr_trange_plot[ind_plot-1], sr_data_plot[ind_plot:t_final_example]/sr_data_plot[ind_plot-1], color=(0.75,)*3)\n",
    "plt.plot(sr_trange_full[ind_full:t_final_example_full]-sr_trange_full[ind_full-1], reconstr[ind_full:t_final_example_full],c='C3', linewidth=0.5)\n",
    "\n",
    "ax1.set_ylim([3e-1, 1])\n",
    "ax1.set_xlim([-0.1, 2])\n",
    "ax1.set_yticklabels([],minor=True)\n",
    "ax1.yaxis.tick_right()\n",
    "ax1.xaxis.tick_top()\n",
    "\n",
    "plt.subplots_adjust(left=0.21, right=0.98, bottom=0.18, top=0.96)"
   ]
  },
  {
   "cell_type": "markdown",
   "metadata": {},
   "source": [
    "## Figure 5C: applied force profile"
   ]
  },
  {
   "cell_type": "code",
   "execution_count": 36,
   "metadata": {},
   "outputs": [
    {
     "data": {
      "image/png": "[encoded data removed]",
      "text/plain": [
       "<Figure size 79.2x93.6 with 1 Axes>"
      ]
     },
     "metadata": {
      "needs_background": "light"
     },
     "output_type": "display_data"
    }
   ],
   "source": [
    "plt.figure(figsize=(1.1, 1.3))\n",
    "\n",
    "plt.plot(sr_trange_full, f_original/f_original[1], lw=0.75, c='C3')\n",
    "\n",
    "ax = plt.gca()\n",
    "ax.spines['top'].set_visible(False)\n",
    "ax.spines['right'].set_visible(False)\n",
    "\n",
    "plt.xlim([-2, sr_trange_full[-1]])\n",
    "plt.ylim([-0.05, 1.5])\n",
    "\n",
    "ax.set_yticks(np.linspace(0, 1, 3))\n",
    "ax.set_yticklabels([0, '', 1])\n",
    "\n",
    "ax.set_xticks(np.linspace(0, int(np.ceil(sr_trange_full[-1])), 3))\n",
    "ax.set_xticklabels([0, '', int(np.ceil(sr_trange_full[-1]))])\n",
    "\n",
    "plt.subplots_adjust(left=0.21, right=0.98, bottom=0.18, top=0.96)"
   ]
  },
  {
   "cell_type": "markdown",
   "metadata": {},
   "source": [
    "## Figure 5D: plant time course"
   ]
  },
  {
   "cell_type": "code",
   "execution_count": 37,
   "metadata": {},
   "outputs": [
    {
     "data": {
      "image/png": "[encoded data removed]",
      "text/plain": [
       "<Figure size 79.2x93.6 with 1 Axes>"
      ]
     },
     "metadata": {
      "needs_background": "light"
     },
     "output_type": "display_data"
    }
   ],
   "source": [
    "plt.figure(figsize=(1.1, 1.3))\n",
    "plt.plot(sr_trange_full, plant_model, c='C3', lw=0.75)\n",
    "\n",
    "ax = plt.gca()\n",
    "ax.spines['top'].set_visible(False)\n",
    "ax.spines['right'].set_visible(False)\n",
    "\n",
    "ax.set_yticks(np.linspace(0,1,5))\n",
    "ax.set_yticklabels([0,'','','', 1])\n",
    "ax.set_xticks([0, 5, 10]),\n",
    "ax.set_xticklabels([0,'', 10])\n",
    "plt.ylim([-0.05, 1])\n",
    "plt.xlim([-0.5, 10])\n",
    "\n",
    "\n",
    "plt.subplots_adjust(left=0.21, right=0.98, bottom=0.18, top=0.96)"
   ]
  },
  {
   "cell_type": "markdown",
   "metadata": {},
   "source": [
    "# Calculate neural drive\n",
    "\n",
    "## Deconvolve saccades"
   ]
  },
  {
   "cell_type": "code",
   "execution_count": 10,
   "metadata": {
    "scrolled": false
   },
   "outputs": [
    {
     "data": {
      "image/png": "[encoded data removed]",
      "text/plain": [
       "<Figure size 432x288 with 9 Axes>"
      ]
     },
     "metadata": {
      "needs_background": "light"
     },
     "output_type": "display_data"
    }
   ],
   "source": [
    "drive_persistence = np.zeros(9)\n",
    "eye_persistence_raw = np.zeros(9)\n",
    "drive_persistence_fast = np.zeros(9)\n",
    "T_start = 17 # = 245 ms, offset from saccade end\n",
    "\n",
    "fast_plant = np.array([0.4, 0.6, 1/0.02, 1/0.2]) # From Robinson et al. 1990\n",
    "\n",
    "j = 0\n",
    "for fish_num in range(len(file_names)):\n",
    "    fish_name = file_names[fish_num][0][:-5]\n",
    "    \n",
    "    n = best_num_components_sr_best[fish_name]\n",
    "    timeconstants = plants_best[fish_name][n:]\n",
    "\n",
    "    for trace_num in range(len(file_names[fish_num])):\n",
    "        saccade_data_file = sio.loadmat('saccades/fit/'+file_names[fish_num][trace_num]+'.mat')\n",
    "        trange_sacc = saccade_data_file['trange'][0]\n",
    "        eye_pos_sacc = saccade_data_file['model'][0]\n",
    "        eye_pos_sacc_raw = saccade_data_file['data'][0]\n",
    "        \n",
    "        n_sacc = len(saccade_data_file['fit'][0])\n",
    "        \n",
    "        # calculate eye persistence\n",
    "        eye_persistence_raw[j] = np.sum(eye_pos_sacc_raw[T_start:]/eye_pos_sacc_raw[T_start])/len(eye_pos_sacc_raw[T_start:])\n",
    "        \n",
    "        # now, deconvolve with plant and calculate persistence\n",
    "        drive = deconvolveEyePos(trange_sacc, eye_pos_sacc, plants_best[fish_name])\n",
    "        drive_persistence[j] = np.sum(drive[T_start:]/drive[T_start])/len(drive[T_start:])\n",
    "        \n",
    "        # Repeat for fast plant\n",
    "        \n",
    "        drive_fast = deconvolveEyePos(trange_sacc, eye_pos_sacc, fast_plant)\n",
    "        drive_persistence_fast[j] = np.sum(drive_fast[T_start:]/drive_fast[T_start])/len(drive_fast[T_start:])\n",
    "        \n",
    "        plant_fast = fitting_functions.exponentialModel(trange_sacc,fast_plant)\n",
    "        reconstr_fast = 72*2e-4*np.convolve(plant_fast, drive_fast)[:len(trange_sacc)]\n",
    "        j += 1\n",
    "        \n",
    "        plt.subplot(3,3,j)\n",
    "        plt.plot(trange_sacc[T_start:], eye_pos_sacc_raw[T_start:]/eye_pos_sacc[T_start], c=(0.7,)*3)\n",
    "        plt.plot(trange_sacc[T_start:],drive[T_start:]/drive[T_start], c='C3')\n",
    "        plt.plot(trange_sacc[T_start:],drive_fast[T_start:]/drive_fast[T_start], c='C9')\n",
    "        plt.title(file_names[fish_num][trace_num])\n",
    "plt.tight_layout()"
   ]
  },
  {
   "cell_type": "markdown",
   "metadata": {},
   "source": [
    "### Summary statistics\n",
    "\n",
    "#### Distributed:"
   ]
  },
  {
   "cell_type": "code",
   "execution_count": 266,
   "metadata": {
    "scrolled": false
   },
   "outputs": [
    {
     "data": {
      "text/plain": [
       "0.7138715126009416"
      ]
     },
     "execution_count": 266,
     "metadata": {},
     "output_type": "execute_result"
    }
   ],
   "source": [
    "np.median(drive_persistence/eye_persistence_raw)"
   ]
  },
  {
   "cell_type": "code",
   "execution_count": 267,
   "metadata": {
    "scrolled": true
   },
   "outputs": [
    {
     "data": {
      "text/plain": [
       "(0.6724052583840436, 0.7558638003744299)"
      ]
     },
     "execution_count": 267,
     "metadata": {},
     "output_type": "execute_result"
    }
   ],
   "source": [
    "np.percentile(drive_persistence/eye_persistence_raw,25),np.percentile(drive_persistence/eye_persistence_raw,75)"
   ]
  },
  {
   "cell_type": "code",
   "execution_count": 11,
   "metadata": {},
   "outputs": [],
   "source": [
    "%%R -i drive_persistence -i eye_persistence_raw\n",
    "wilcox.test(eye_persistence_raw, drive_persistence, alternative=\"greater\", paired=TRUE, exact=TRUE)"
   ]
  },
  {
   "cell_type": "markdown",
   "metadata": {},
   "source": [
    "data:  eye_persistence_raw and drive_persistence\n",
    "\n",
    "V = 45, p-value = 0.001953\n",
    "\n",
    "alternative hypothesis: true location shift is greater than 0"
   ]
  },
  {
   "cell_type": "markdown",
   "metadata": {},
   "source": [
    "#### Fast:"
   ]
  },
  {
   "cell_type": "code",
   "execution_count": 268,
   "metadata": {
    "scrolled": true
   },
   "outputs": [
    {
     "data": {
      "text/plain": [
       "1.055422186114964"
      ]
     },
     "execution_count": 268,
     "metadata": {},
     "output_type": "execute_result"
    }
   ],
   "source": [
    "np.median(drive_persistence_fast/eye_persistence_raw)"
   ]
  },
  {
   "cell_type": "code",
   "execution_count": 269,
   "metadata": {
    "scrolled": true
   },
   "outputs": [
    {
     "data": {
      "text/plain": [
       "(1.0416111089910989, 1.0660077134160435)"
      ]
     },
     "execution_count": 269,
     "metadata": {},
     "output_type": "execute_result"
    }
   ],
   "source": [
    "np.percentile(drive_persistence_fast/eye_persistence_raw,25),np.percentile(drive_persistence_fast/eye_persistence_raw,75)"
   ]
  },
  {
   "cell_type": "code",
   "execution_count": 12,
   "metadata": {},
   "outputs": [],
   "source": [
    "%%R -i drive_persistence_fast -i eye_persistence_raw\n",
    "wilcox.test(eye_persistence_raw, drive_persistence_fast, alternative=\"two.sided\", paired=TRUE, exact=TRUE)"
   ]
  },
  {
   "cell_type": "markdown",
   "metadata": {},
   "source": [
    "#### One sided\n",
    "data:  eye_persistence_raw and drive_persistence_fast\n",
    "    \n",
    "V = 0, p-value = 1\n",
    "\n",
    "alternative hypothesis: true location shift is greater than 0\n",
    "\n",
    "#### Two sided\n",
    "data:  eye_persistence_raw and drive_persistence_fast\n",
    "\n",
    "V = 0, p-value = 0.003906\n",
    "\n",
    "alternative hypothesis: true location shift is not equal to 0"
   ]
  },
  {
   "cell_type": "markdown",
   "metadata": {},
   "source": [
    "## Fig. 7E Plot drive vs eye persistences for distributed/fast plants:"
   ]
  },
  {
   "cell_type": "code",
   "execution_count": 285,
   "metadata": {},
   "outputs": [
    {
     "data": {
      "image/png": "[encoded data removed]",
      "text/plain": [
       "<Figure size 93.6x93.6 with 1 Axes>"
      ]
     },
     "metadata": {
      "needs_background": "light"
     },
     "output_type": "display_data"
    }
   ],
   "source": [
    "plt.figure(figsize=(1.3,1.3))\n",
    "\n",
    "plt.plot([0, 1], [0,1], '--', c='k',lw=0.5, clip_on=False)\n",
    "\n",
    "plt.plot(eye_persistence_raw, drive_persistence,  '.', ms=4, c='C3', clip_on=False)\n",
    "plt.plot(eye_persistence_raw,drive_persistence_fast,  '.', ms=4, c='C9', clip_on=False)\n",
    "\n",
    "plt.xlim([0,1])\n",
    "plt.ylim([0,1])\n",
    "ax = plt.gca()\n",
    "ax.set_yticks(np.linspace(0, 1, 5))\n",
    "ax.set_xticks(np.linspace(0, 1, 5))\n",
    "ax.set_xticklabels([0,'', '', '',  1])\n",
    "ax.set_yticklabels([0, '', '', '', 1])\n",
    "ax.spines['top'].set_visible(False)\n",
    "ax.spines['right'].set_visible(False)\n",
    "\n",
    "# plt.figtext(0.97, 0.225, 'Distributed', color='C3', horizontalalignment='right')\n",
    "# plt.figtext(0.97, 0.325, 'Fast', color='C9', horizontalalignment='right')\n",
    "\n",
    "\n",
    "plt.subplots_adjust(left=0.21, right=0.96, bottom=0.18, top=0.95)"
   ]
  },
  {
   "cell_type": "markdown",
   "metadata": {},
   "source": [
    "## Figure 7B: Ideal drive for distributed/fast plants:"
   ]
  },
  {
   "cell_type": "code",
   "execution_count": 287,
   "metadata": {},
   "outputs": [],
   "source": [
    "fish_num = 4\n",
    "trace_num = 0\n",
    "\n",
    "\n",
    "fish_name = file_names[fish_num][0][:-5]\n",
    "\n",
    "saccade_data_file = sio.loadmat('saccades/fit/'+file_names[fish_num][trace_num]+'.mat')\n",
    "trange_sacc = saccade_data_file['trange'][0]\n",
    "eye_pos_sacc = saccade_data_file['model'][0]\n",
    "eye_pos_sacc_raw = saccade_data_file['data'][0]\n",
    "\n",
    "drive_stable = deconvolveEyePos(trange_sacc, np.ones(len(trange_sacc)), plants_best[fish_name])\n",
    "drive_stable_fast = deconvolveEyePos(trange_sacc, np.ones(len(trange_sacc)), fast_plant)"
   ]
  },
  {
   "cell_type": "code",
   "execution_count": 291,
   "metadata": {},
   "outputs": [
    {
     "data": {
      "image/png": "[encoded data removed]",
      "text/plain": [
       "<Figure size 93.6x93.6 with 1 Axes>"
      ]
     },
     "metadata": {
      "needs_background": "light"
     },
     "output_type": "display_data"
    }
   ],
   "source": [
    "plt.figure(figsize=(1.3, 1.3))\n",
    "plt.plot([trange_sacc[T_start], trange_sacc[-1]], [1, 1], c=(0.75, 0.75, 0.75, 1), clip_on=False)\n",
    "plt.plot(trange_sacc[T_start:], drive_stable[T_start:]/drive_stable[T_start], c='C3', lw=0.75, clip_on=False)\n",
    "plt.plot(trange_sacc[T_start:], drive_stable_fast[T_start:]/drive_stable_fast[T_start], c= 'C9', lw=0.75, ls='--', clip_on=False)\n",
    "\n",
    "plt.ylim([0, 1])\n",
    "plt.xlim([0, trange_sacc[-1]])\n",
    "ax = plt.gca()\n",
    "ax.spines['top'].set_visible(False)\n",
    "ax.spines['right'].set_visible(False)\n",
    "\n",
    "ax.set_xticks(np.linspace(0,6,7))\n",
    "ax.set_xticklabels([0, '', '', '', '','',6])\n",
    "\n",
    "ax.set_yticks(np.linspace(0, 1, 5))\n",
    "ax.set_yticklabels([0, '', '', '', 1])\n",
    "\n",
    "plt.subplots_adjust(left=0.21, right=0.98, top=0.95, bottom=0.18)"
   ]
  },
  {
   "cell_type": "markdown",
   "metadata": {},
   "source": [
    "## Figure 7C: Drive to produce measured fixation"
   ]
  },
  {
   "cell_type": "code",
   "execution_count": 288,
   "metadata": {},
   "outputs": [],
   "source": [
    "drive = deconvolveEyePos(trange_sacc, eye_pos_sacc, plants_best[fish_name])\n",
    "drive_fast = deconvolveEyePos(trange_sacc, eye_pos_sacc, fast_plant)"
   ]
  },
  {
   "cell_type": "code",
   "execution_count": 292,
   "metadata": {},
   "outputs": [
    {
     "data": {
      "image/png": "[encoded data removed]",
      "text/plain": [
       "<Figure size 93.6x93.6 with 1 Axes>"
      ]
     },
     "metadata": {
      "needs_background": "light"
     },
     "output_type": "display_data"
    }
   ],
   "source": [
    "plt.figure(figsize=(1.3, 1.3))\n",
    "\n",
    "plt.plot(trange_sacc[T_start:], eye_pos_sacc_raw[T_start:]/eye_pos_sacc_raw[T_start], clip_on=False, c=(0.75, 0.75, 0.75, 1))\n",
    "\n",
    "plt.plot(trange_sacc[T_start:], drive[T_start:]/drive[T_start], c='C3', lw=0.75, clip_on=False)\n",
    "plt.plot(trange_sacc[T_start:], drive_fast[T_start:]/drive_fast[T_start], c= 'C9', lw=0.75, clip_on=False)\n",
    "\n",
    "plt.ylim([0, 1])\n",
    "plt.xlim([0, trange_sacc[-1]])\n",
    "ax = plt.gca()\n",
    "ax.spines['top'].set_visible(False)\n",
    "ax.spines['right'].set_visible(False)\n",
    "\n",
    "ax.set_xticks([0, 1,2,3,4,5,6])\n",
    "\n",
    "ax.set_xticklabels([0, '', '', '', '', '', 6])\n",
    "\n",
    "ax.set_yticks(np.linspace(0, 1, 5))\n",
    "ax.set_yticklabels([0, '', '', '', 1])\n",
    "\n",
    "\n",
    "plt.subplots_adjust(left=0.21, right=0.98, top=0.95, bottom=0.18)"
   ]
  },
  {
   "cell_type": "markdown",
   "metadata": {},
   "source": [
    "# Slide component time constants vs. plant time constants"
   ]
  },
  {
   "cell_type": "code",
   "execution_count": 154,
   "metadata": {},
   "outputs": [],
   "source": [
    "slides_best = {}\n",
    "\n",
    "for fish_num in range(len(file_names)):\n",
    "    fish_name = file_names[fish_num][0][:-5]\n",
    "    n = best_num_components_sr_best[fish_name]\n",
    "    \n",
    "    # Construct polynomial for numerator of transfer function\n",
    "    all_best = np.zeros(n)\n",
    "    for j in range(n):\n",
    "        all_i = np.zeros(n)\n",
    "        for i in range(n):\n",
    "            if i == j:\n",
    "                continue\n",
    "            if np.sum(all_i) == 0:\n",
    "                all_i[n-2:] = np.array([1, -plants_best[fish_name][n+i]])\n",
    "            else:\n",
    "                all_i = np.convolve(all_i, np.array([1, -plants_best[fish_name][n+i]]), mode='full')[1:]\n",
    "        all_best += -plants_best[fish_name][j]*np.copy(all_i)\n",
    "    # Calculate roots of polynomial\n",
    "    slides_best[fish_name] = np.copy(np.roots(all_best))"
   ]
  },
  {
   "cell_type": "markdown",
   "metadata": {},
   "source": [
    "## Figure 7D"
   ]
  },
  {
   "cell_type": "code",
   "execution_count": 277,
   "metadata": {
    "scrolled": true
   },
   "outputs": [],
   "source": [
    "n = best_num_components_sr_best[fish_name]\n",
    "plant_taus = 1/np.maximum(1e-3, plants_best[fish_name][n:])\n",
    "slide_taus = 1/slides_best[fish_name]"
   ]
  },
  {
   "cell_type": "code",
   "execution_count": 278,
   "metadata": {},
   "outputs": [
    {
     "data": {
      "text/plain": [
       "array([ 0.11932409,  2.76099088, 43.08101555])"
      ]
     },
     "execution_count": 278,
     "metadata": {},
     "output_type": "execute_result"
    }
   ],
   "source": [
    "plant_taus"
   ]
  },
  {
   "cell_type": "code",
   "execution_count": 293,
   "metadata": {},
   "outputs": [
    {
     "data": {
      "image/png": "[encoded data removed]",
      "text/plain": [
       "<Figure size 180x36 with 1 Axes>"
      ]
     },
     "metadata": {
      "needs_background": "light"
     },
     "output_type": "display_data"
    }
   ],
   "source": [
    "plt.figure(figsize=(2.5,0.5))\n",
    "plt.xscale('log')\n",
    "plt.scatter(plant_taus, np.ones(n), color='k', s=7);\n",
    "plt.scatter(slide_taus, np.ones(n-1), color='C3',s=7, marker='o')\n",
    "\n",
    "plt.ylim([0.7, 1.3])\n",
    "plt.xlim([1e-1, 1e2])\n",
    "\n",
    "ax = plt.gca()\n",
    "ax.yaxis.set_visible(False)\n",
    "ax.spines['top'].set_visible(False)\n",
    "ax.spines['left'].set_visible(False)\n",
    "ax.spines['right'].set_visible(False)\n",
    "\n",
    "plt.subplots_adjust(bottom=0.25, top=1, left=0.02, right=0.98)"
   ]
  },
  {
   "cell_type": "markdown",
   "metadata": {},
   "source": [
    "# Summary plant"
   ]
  },
  {
   "cell_type": "code",
   "execution_count": 8,
   "metadata": {},
   "outputs": [],
   "source": [
    "fit_file_summary = sio.loadmat('plants/summary-plant/sr_fits.mat')\n",
    "lls_summary = fit_file_summary['lls']\n",
    "fits_summary = fit_file_summary['fits']\n",
    "timeconstants = fits_summary[2,0][np.argmax(lls_summary[2,:]),3:]\n",
    "\n",
    "deconv_file = sio.loadmat('plants/summary-plant/summary-plant-linear.mat')\n",
    "plant_coeff = deconv_file['c'][0]\n",
    "\n",
    "summary_plant = np.concatenate((plant_coeff, timeconstants))"
   ]
  },
  {
   "cell_type": "code",
   "execution_count": 9,
   "metadata": {},
   "outputs": [
    {
     "data": {
      "text/plain": [
       "array([0.94115949, 0.0502187 , 0.00862181, 5.4929605 , 0.38426069,\n",
       "       0.03306899])"
      ]
     },
     "execution_count": 9,
     "metadata": {},
     "output_type": "execute_result"
    }
   ],
   "source": [
    "summary_plant"
   ]
  },
  {
   "cell_type": "code",
   "execution_count": 181,
   "metadata": {},
   "outputs": [],
   "source": [
    "sio.savemat('plants/summary-plant.mat', {'plant':summary_plant})"
   ]
  },
  {
   "cell_type": "markdown",
   "metadata": {},
   "source": [
    "## Figure 9A: time course of summary plant"
   ]
  },
  {
   "cell_type": "code",
   "execution_count": 182,
   "metadata": {},
   "outputs": [
    {
     "data": {
      "image/png": "[encoded data removed]",
      "text/plain": [
       "<Figure size 93.6x93.6 with 1 Axes>"
      ]
     },
     "metadata": {
      "needs_background": "light"
     },
     "output_type": "display_data"
    }
   ],
   "source": [
    "plant_trange = np.arange(0, 2, 72*2e-4)\n",
    "\n",
    "distr_plant = fitting_functions.exponentialModel(plant_trange, summary_plant)\n",
    "\n",
    "plt.figure(figsize=(1.3, 1.3))\n",
    "plt.plot(plant_trange,  distr_plant, c='C3', lw=0.75)\n",
    "\n",
    "ax = plt.gca()\n",
    "ax.spines['top'].set_visible(False)\n",
    "ax.spines['right'].set_visible(False)\n",
    "plt.xlim([-0.1, 2])\n",
    "plt.ylim([-0.05, 1])\n",
    "\n",
    "ax.set_yticks(np.linspace(0, 1, 5))\n",
    "ax.set_yticklabels([0,'','','',1])\n",
    "\n",
    "ax.set_xticks([0,1,2])\n",
    "ax.set_xticklabels([0,'',2])\n",
    "\n",
    "plt.subplots_adjust(left=0.21, bottom=0.18, right=0.98, top=0.96)"
   ]
  },
  {
   "cell_type": "markdown",
   "metadata": {},
   "source": [
    "## Figure 9B: parameters of summary plant"
   ]
  },
  {
   "cell_type": "code",
   "execution_count": 184,
   "metadata": {},
   "outputs": [
    {
     "data": {
      "image/png": "[encoded data removed]",
      "text/plain": [
       "<Figure size 93.6x93.6 with 1 Axes>"
      ]
     },
     "metadata": {
      "needs_background": "light"
     },
     "output_type": "display_data"
    }
   ],
   "source": [
    "plt.figure(figsize=(1.3, 1.3))\n",
    "plt.xscale('log')\n",
    "plt.yscale('log')\n",
    "plt.plot(1/summary_plant[3:], summary_plant[:3], '.', c='C3', ms=5, lw=0.75, clip_on=False)\n",
    "\n",
    "\n",
    "ax = plt.gca()\n",
    "\n",
    "ax.set_ylim([1e-3, 1])\n",
    "ax.set_yticks([1e-3, 1e-2, 1e-1, 1])\n",
    "ax.set_yticklabels([r'$10^{-3}$', '', '', r'$10^{0}$'])\n",
    "\n",
    "\n",
    "ax.set_xticks([1e-1, 1e0, 1e1, 1e2])\n",
    "ax.set_xticklabels([r'$10^{-1}$', '', '', r'$10^{2}$'])\n",
    "ax.xaxis.set_minor_locator(ticker.LogLocator(numticks=10, subs='auto'))\n",
    "ax.get_xaxis().set_minor_formatter(ticker.NullFormatter())\n",
    "\n",
    "ax.yaxis.set_minor_locator(ticker.LogLocator(numticks=10, subs='auto'))\n",
    "ax.get_yaxis().set_minor_formatter(ticker.NullFormatter())\n",
    "\n",
    "ax.spines['top'].set_visible(False)\n",
    "ax.spines['right'].set_visible(False)\n",
    "\n",
    "plt.subplots_adjust(left=0.21, bottom=0.18, right=0.98, top=0.96)"
   ]
  },
  {
   "cell_type": "markdown",
   "metadata": {},
   "source": [
    "## Compare fits with summary plant to individual fits"
   ]
  },
  {
   "cell_type": "code",
   "execution_count": 187,
   "metadata": {},
   "outputs": [],
   "source": [
    "traces = [ '090711e_0006', '090811c_0002','090811d_0002','090811d_0004',\n",
    "            '091111a_0001', '091111a_0003', '091111c_0003', '091211a_0002', '091211a_0005']"
   ]
  },
  {
   "cell_type": "code",
   "execution_count": 200,
   "metadata": {},
   "outputs": [],
   "source": [
    "mses_summary = np.zeros(len(traces))\n",
    "for i in range(len(traces)):\n",
    "    # load fit\n",
    "    sr_trange_full, sr_data_full, ind_full = prepareStepResponse(traces[i], \n",
    "                                                            num_components_extrap = best_num_components_extrap[file_names[fish_num][trace_num]], \n",
    "                                                            use_summary=True, trace_ind = i)\n",
    "    f = deconvolveEyePos(sr_trange_full, sr_data_full/sr_data_full[ind_full-1], summary_plant, ind_full)\n",
    "    f = np.copy(f)\n",
    "    f[ind_full-1] = f[ind_full-2]\n",
    "\n",
    "    plant_model = fitting_functions.exponentialModel(sr_trange_full, summary_plant)\n",
    "    reconstr = 72*2e-4*np.convolve(plant_model, f)[:len(f)]\n",
    "    \n",
    "    sr_trange_plot, sr_data_plot, ind_plot = prepareStepResponse(traces[i], \n",
    "                                                            num_components_extrap = best_num_components_extrap[file_names[fish_num][trace_num]], \n",
    "                                                            use_summary=True, trace_ind = i, full=False)\n",
    "        \n",
    "    mses_summary[i] = np.sum((sr_data_plot[ind_plot:]/sr_data_plot[ind_plot-1] - reconstr[ind_full+15:])**2)/len(sr_data_plot[ind_plot:])"
   ]
  },
  {
   "cell_type": "code",
   "execution_count": 201,
   "metadata": {},
   "outputs": [],
   "source": [
    "inds = np.argsort(mses_summary)\n"
   ]
  },
  {
   "cell_type": "code",
   "execution_count": 202,
   "metadata": {},
   "outputs": [
    {
     "data": {
      "text/plain": [
       "array([0.00025437, 0.00073483, 0.00136393, 0.00167091, 0.0032063 ,\n",
       "       0.00365226, 0.00535116, 0.0070671 , 0.02203769])"
      ]
     },
     "execution_count": 202,
     "metadata": {},
     "output_type": "execute_result"
    }
   ],
   "source": [
    "mses_summary[inds]"
   ]
  },
  {
   "cell_type": "code",
   "execution_count": 203,
   "metadata": {},
   "outputs": [
    {
     "data": {
      "text/plain": [
       "['090811d_0004',\n",
       " '090811d_0002',\n",
       " '091211a_0002',\n",
       " '090711e_0006',\n",
       " '091111a_0003',\n",
       " '091111a_0001',\n",
       " '091111c_0003',\n",
       " '091211a_0005',\n",
       " '090811c_0002']"
      ]
     },
     "execution_count": 203,
     "metadata": {},
     "output_type": "execute_result"
    }
   ],
   "source": [
    "[traces[i] for i in inds]"
   ]
  },
  {
   "cell_type": "markdown",
   "metadata": {},
   "source": [
    "## Figure 9C: examples of best, median and worst fits\n",
    "\n",
    "### Best"
   ]
  },
  {
   "cell_type": "code",
   "execution_count": 211,
   "metadata": {},
   "outputs": [],
   "source": [
    "i = inds[0]\n",
    "fish_name = traces[i][:-5]\n",
    "\n",
    "sr_trange_full, sr_data_full, ind_full = prepareStepResponse(traces[i], \n",
    "                                                        num_components_extrap = best_num_components_extrap[file_names[fish_num][trace_num]], \n",
    "                                                        use_summary=True, trace_ind = i)\n",
    "\n",
    "# Summary plant\n",
    "f = deconvolveEyePos(sr_trange_full, sr_data_full/sr_data_full[ind_full-1], summary_plant, ind_full)\n",
    "f = np.copy(f)\n",
    "f[ind_full-1] = f[ind_full-2]\n",
    "\n",
    "plant_model_summary = fitting_functions.exponentialModel(sr_trange_full, summary_plant)\n",
    "reconstr_summary = 72*2e-4*np.convolve(plant_model_summary, f)[:len(f)]\n",
    "\n",
    "# Individual plant\n",
    "f = deconvolveEyePos(sr_trange_full, sr_data_full/sr_data_full[ind_full-1], plants_best[fish_name], ind_full)\n",
    "f = np.copy(f)\n",
    "f[ind_full-1] = f[ind_full-2]\n",
    "\n",
    "plant_model_individual = fitting_functions.exponentialModel(sr_trange_full, plants_best[fish_name])\n",
    "reconstr_individual = 72*2e-4*np.convolve(plant_model_individual, f)[:len(f)]\n",
    "\n",
    "sr_trange_plot, sr_data_plot, ind_plot = prepareStepResponse(traces[i], \n",
    "                                                        num_components_extrap = best_num_components_extrap[file_names[fish_num][trace_num]], \n",
    "                                                        use_summary=True, trace_ind = i, full=False)"
   ]
  },
  {
   "cell_type": "code",
   "execution_count": 212,
   "metadata": {},
   "outputs": [
    {
     "data": {
      "image/png": "[encoded data removed]",
      "text/plain": [
       "<Figure size 72x64.8 with 1 Axes>"
      ]
     },
     "metadata": {
      "needs_background": "light"
     },
     "output_type": "display_data"
    }
   ],
   "source": [
    "plt.figure(figsize=(1, 0.9))\n",
    "\n",
    "plt.plot(sr_trange_plot-sr_trange_plot[ind_plot], sr_data_plot/sr_data_plot[ind_plot-1], c=(0.7, 0.7, 0.7, 1))\n",
    "plt.plot(sr_trange_full-sr_trange_full[ind_full], reconstr_individual, c='k', lw=0.5, label='Individual')\n",
    "plt.plot(sr_trange_full-sr_trange_full[ind_full], reconstr_summary, c='C3', lw=0.75, label='Summary')\n",
    "\n",
    "ax = plt.gca()\n",
    "ax.spines['top'].set_visible(False)\n",
    "ax.spines['right'].set_visible(False)\n",
    "ax.set_yticks(np.linspace(0, 1.5, 4))\n",
    "ax.set_yticklabels([0,'','',1.5])\n",
    "\n",
    "\n",
    "plt.xlim([-5, 10])\n",
    "\n",
    "ax = plt.gca()\n",
    "ax.spines['top'].set_visible(False)\n",
    "ax.spines['right'].set_visible(False)\n",
    "ax.set_yticks(np.linspace(0, 1.5, 4))\n",
    "ax.set_yticklabels([0,'','',1.5])\n",
    "ax.set_xticks([-5, 0, 5, 10])\n",
    "ax.set_xticklabels([-5, '', '', 10])\n",
    "plt.xlim([-5, 10])\n",
    "plt.subplots_adjust(left=0.21, bottom=0.18, right=0.98, top=0.96)"
   ]
  },
  {
   "cell_type": "markdown",
   "metadata": {},
   "source": [
    "### Median"
   ]
  },
  {
   "cell_type": "code",
   "execution_count": 217,
   "metadata": {},
   "outputs": [],
   "source": [
    "i = inds[4]\n",
    "fish_name = traces[i][:-5]\n",
    "\n",
    "sr_trange_full, sr_data_full, ind_full = prepareStepResponse(traces[i], \n",
    "                                                        num_components_extrap = best_num_components_extrap[file_names[fish_num][trace_num]], \n",
    "                                                        use_summary=True, trace_ind = i)\n",
    "\n",
    "# Summary plant\n",
    "f = deconvolveEyePos(sr_trange_full, sr_data_full/sr_data_full[ind_full-1], summary_plant, ind_full)\n",
    "f = np.copy(f)\n",
    "f[ind_full-1] = f[ind_full-2]\n",
    "\n",
    "plant_model_summary = fitting_functions.exponentialModel(sr_trange_full, summary_plant)\n",
    "reconstr_summary = 72*2e-4*np.convolve(plant_model_summary, f)[:len(f)]\n",
    "\n",
    "# Individual plant\n",
    "f = deconvolveEyePos(sr_trange_full, sr_data_full/sr_data_full[ind_full-1], plants_best[fish_name], ind_full)\n",
    "f = np.copy(f)\n",
    "f[ind_full-1] = f[ind_full-2]\n",
    "\n",
    "plant_model_individual = fitting_functions.exponentialModel(sr_trange_full, plants_best[fish_name])\n",
    "reconstr_individual = 72*2e-4*np.convolve(plant_model_individual, f)[:len(f)]\n",
    "\n",
    "sr_trange_plot, sr_data_plot, ind_plot = prepareStepResponse(traces[i], \n",
    "                                                        num_components_extrap = best_num_components_extrap[file_names[fish_num][trace_num]], \n",
    "                                                        use_summary=True, trace_ind = i, full=False)"
   ]
  },
  {
   "cell_type": "code",
   "execution_count": 218,
   "metadata": {},
   "outputs": [
    {
     "data": {
      "image/png": "[encoded data removed]",
      "text/plain": [
       "<Figure size 72x64.8 with 1 Axes>"
      ]
     },
     "metadata": {
      "needs_background": "light"
     },
     "output_type": "display_data"
    }
   ],
   "source": [
    "plt.figure(figsize=(1, 0.9))\n",
    "\n",
    "plt.plot(sr_trange_plot-sr_trange_plot[ind_plot], sr_data_plot/sr_data_plot[ind_plot-1], c=(0.7, 0.7, 0.7, 1))\n",
    "plt.plot(sr_trange_full-sr_trange_full[ind_full], reconstr_individual, c='k', lw=0.5, label='Individual')\n",
    "plt.plot(sr_trange_full-sr_trange_full[ind_full], reconstr_summary, c='C3', lw=0.75, label='Summary')\n",
    "\n",
    "ax = plt.gca()\n",
    "ax.spines['top'].set_visible(False)\n",
    "ax.spines['right'].set_visible(False)\n",
    "ax.set_yticks(np.linspace(0, 1.5, 4))\n",
    "ax.set_yticklabels([0,'','',1.5])\n",
    "\n",
    "\n",
    "plt.xlim([-5, 10])\n",
    "\n",
    "ax = plt.gca()\n",
    "ax.spines['top'].set_visible(False)\n",
    "ax.spines['right'].set_visible(False)\n",
    "ax.set_yticks(np.linspace(0, 1.5, 4))\n",
    "ax.set_yticklabels([0,'','',1.5])\n",
    "\n",
    "ax.spines['bottom'].set_visible(False)\n",
    "ax.set_xticks([])\n",
    "\n",
    "plt.subplots_adjust(left=0.21, bottom=0.18, right=0.98, top=0.96)"
   ]
  },
  {
   "cell_type": "markdown",
   "metadata": {},
   "source": [
    "### Worst"
   ]
  },
  {
   "cell_type": "code",
   "execution_count": 219,
   "metadata": {},
   "outputs": [],
   "source": [
    "i = inds[-1]\n",
    "fish_name = traces[i][:-5]\n",
    "\n",
    "sr_trange_full, sr_data_full, ind_full = prepareStepResponse(traces[i], \n",
    "                                                        num_components_extrap = best_num_components_extrap[file_names[fish_num][trace_num]], \n",
    "                                                        use_summary=True, trace_ind = i)\n",
    "\n",
    "# Summary plant\n",
    "f = deconvolveEyePos(sr_trange_full, sr_data_full/sr_data_full[ind_full-1], summary_plant, ind_full)\n",
    "f = np.copy(f)\n",
    "f[ind_full-1] = f[ind_full-2]\n",
    "\n",
    "plant_model_summary = fitting_functions.exponentialModel(sr_trange_full, summary_plant)\n",
    "reconstr_summary = 72*2e-4*np.convolve(plant_model_summary, f)[:len(f)]\n",
    "\n",
    "# Individual plant\n",
    "f = deconvolveEyePos(sr_trange_full, sr_data_full/sr_data_full[ind_full-1], plants_best[fish_name], ind_full)\n",
    "f = np.copy(f)\n",
    "f[ind_full-1] = f[ind_full-2]\n",
    "\n",
    "plant_model_individual = fitting_functions.exponentialModel(sr_trange_full, plants_best[fish_name])\n",
    "reconstr_individual = 72*2e-4*np.convolve(plant_model_individual, f)[:len(f)]\n",
    "\n",
    "sr_trange_plot, sr_data_plot, ind_plot = prepareStepResponse(traces[i], \n",
    "                                                        num_components_extrap = best_num_components_extrap[file_names[fish_num][trace_num]], \n",
    "                                                        use_summary=True, trace_ind = i, full=False)"
   ]
  },
  {
   "cell_type": "code",
   "execution_count": 220,
   "metadata": {},
   "outputs": [
    {
     "data": {
      "image/png": "[encoded data removed]",
      "text/plain": [
       "<Figure size 72x64.8 with 1 Axes>"
      ]
     },
     "metadata": {
      "needs_background": "light"
     },
     "output_type": "display_data"
    }
   ],
   "source": [
    "plt.figure(figsize=(1, 0.9))\n",
    "\n",
    "plt.plot(sr_trange_plot-sr_trange_plot[ind_plot], sr_data_plot/sr_data_plot[ind_plot-1], c=(0.7, 0.7, 0.7, 1))\n",
    "plt.plot(sr_trange_full-sr_trange_full[ind_full], reconstr_individual, c='k', lw=0.5, label='Individual')\n",
    "plt.plot(sr_trange_full-sr_trange_full[ind_full], reconstr_summary, c='C3', lw=0.75, label='Summary')\n",
    "\n",
    "ax = plt.gca()\n",
    "ax.spines['top'].set_visible(False)\n",
    "ax.spines['right'].set_visible(False)\n",
    "ax.set_yticks(np.linspace(0, 1.5, 4))\n",
    "ax.set_yticklabels([0,'','',1.5])\n",
    "\n",
    "\n",
    "plt.xlim([-5, 10])\n",
    "\n",
    "ax = plt.gca()\n",
    "ax.spines['top'].set_visible(False)\n",
    "ax.spines['right'].set_visible(False)\n",
    "ax.set_yticks(np.linspace(0, 1.5, 4))\n",
    "ax.set_yticklabels([0,'','',1.5])\n",
    "ax.spines['bottom'].set_visible(False)\n",
    "ax.set_xticks([])\n",
    "\n",
    "plt.figtext(0.98, 0.95, 'Summary', color='C3', horizontalalignment='right')\n",
    "plt.figtext(0.98, 0.825, 'Individual', horizontalalignment='right')\n",
    "plt.subplots_adjust(left=0.21, bottom=0.18, right=0.98, top=0.96)"
   ]
  }
 ],
 "metadata": {
  "kernelspec": {
   "display_name": "Python 3",
   "language": "python",
   "name": "python3"
  },
  "language_info": {
   "codemirror_mode": {
    "name": "ipython",
    "version": 3
   },
   "file_extension": ".py",
   "mimetype": "text/x-python",
   "name": "python",
   "nbconvert_exporter": "python",
   "pygments_lexer": "ipython3",
   "version": "3.7.7"
  }
 },
 "nbformat": 4,
 "nbformat_minor": 4
}
